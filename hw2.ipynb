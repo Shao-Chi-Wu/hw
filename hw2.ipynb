{
  "nbformat": 4,
  "nbformat_minor": 0,
  "metadata": {
    "colab": {
      "provenance": [],
      "collapsed_sections": [],
      "authorship_tag": "ABX9TyPoO92RqoW0mb63XQGsIMpK"
    },
    "kernelspec": {
      "name": "python3",
      "display_name": "Python 3"
    },
    "language_info": {
      "name": "python"
    },
    "accelerator": "GPU"
  },
  "cells": [
    {
      "cell_type": "code",
      "execution_count": 1,
      "metadata": {
        "id": "dVFbpJb48pXV"
      },
      "outputs": [],
      "source": [
        "import numpy as np\n",
        "import tensorflow as tf\n",
        "from tensorflow import keras"
      ]
    },
    {
      "cell_type": "code",
      "source": [
        "(xr,yr), (xt,yt)= keras.datasets.mnist.load_data()"
      ],
      "metadata": {
        "id": "OdD3n0Ss-SBk",
        "colab": {
          "base_uri": "https://localhost:8080/"
        },
        "outputId": "25518dee-d788-44bd-a713-10ab15c8468e"
      },
      "execution_count": 2,
      "outputs": [
        {
          "output_type": "stream",
          "name": "stdout",
          "text": [
            "Downloading data from https://storage.googleapis.com/tensorflow/tf-keras-datasets/mnist.npz\n",
            "11493376/11490434 [==============================] - 0s 0us/step\n",
            "11501568/11490434 [==============================] - 0s 0us/step\n"
          ]
        }
      ]
    },
    {
      "cell_type": "code",
      "source": [
        "xr.shape, yr.shape, xt.shape, yt.shape"
      ],
      "metadata": {
        "colab": {
          "base_uri": "https://localhost:8080/"
        },
        "id": "mvJALWDf-UB_",
        "outputId": "2b28b2cb-3ce5-4729-cc5c-c0c573b4e74b"
      },
      "execution_count": 3,
      "outputs": [
        {
          "output_type": "execute_result",
          "data": {
            "text/plain": [
              "((60000, 28, 28), (60000,), (10000, 28, 28), (10000,))"
            ]
          },
          "metadata": {},
          "execution_count": 3
        }
      ]
    },
    {
      "cell_type": "code",
      "source": [
        "x= xr[37]\n",
        "#%%\n",
        "for i in range(28):\n",
        "    for j in range(28):\n",
        "        z= x[i,j]\n",
        "        print(f'{z:3d}', end='')\n",
        "    print()"
      ],
      "metadata": {
        "colab": {
          "base_uri": "https://localhost:8080/"
        },
        "id": "hbH_LxDo-WO2",
        "outputId": "f41ec77b-355d-491c-8fde-3dce4042710c"
      },
      "execution_count": 4,
      "outputs": [
        {
          "output_type": "stream",
          "name": "stdout",
          "text": [
            "  0  0  0  0  0  0  0  0  0  0  0  0  0  0  0  0  0  0  0  0  0  0  0  0  0  0  0  0\n",
            "  0  0  0  0  0  0  0  0  0  0  0  0  0  0  0  0  0  0  0  0  0  0  0  0  0  0  0  0\n",
            "  0  0  0  0  0  0  0  0  0  0  0  0  0  0  0  0  0  0  0  0  0  0  0  0  0  0  0  0\n",
            "  0  0  0  0  0  0  0  0  0  0  0  0  0  0  0  0  0  0  0  0  0  0  0  0  0  0  0  0\n",
            "  0  0  0  0  0  0  0  0  0  0  0  0  0  0  0 73253227 73 21  0  0  0  0  0  0  0  0\n",
            "  0  0  0  0  0  0  0  0  0  0  0  0  0  0  0 73251251251174  0  0  0  0  0  0  0  0\n",
            "  0  0  0  0  0  0  0  0  0  0  0  0  0 16166228251251251122  0  0  0  0  0  0  0  0\n",
            "  0  0  0  0  0  0  0  0  0  0  0  0  0 62220253251251251251 79  0  0  0  0  0  0  0\n",
            "  0  0  0  0  0  0  0  0  0  0  0  0  0 79231253251251251251232 77  0  0  0  0  0  0\n",
            "  0  0  0  0  0  0  0  0  0  0  0145253253253255253253253253255108  0  0  0  0  0  0\n",
            "  0  0  0  0  0  0  0  0  0  0  0144251251251253168107169251253189 20  0  0  0  0  0\n",
            "  0  0  0  0  0  0  0  0  0 27 89236251235215164 15  6129251253251 35  0  0  0  0  0\n",
            "  0  0  0  0  0  0  0  0 47211253251251142  0  0  0 37251251253251 35  0  0  0  0  0\n",
            "  0  0  0  0  0  0  0  0109251253251251142  0  0  0 11148251253251164  0  0  0  0  0\n",
            "  0  0  0  0  0  0  0 11150253255211 25  0  0  0  0 11150253255211 25  0  0  0  0  0\n",
            "  0  0  0  0  0  0  0140251251253107  0  0  0  0  0 37251251211 46  0  0  0  0  0  0\n",
            "  0  0  0  0  0  0  0190251251253128  5  0  0  0  0 37251251 51  0  0  0  0  0  0  0\n",
            "  0  0  0  0  0  0  0115251251253188 20  0  0 32109129251173103  0  0  0  0  0  0  0\n",
            "  0  0  0  0  0  0  0217251251201 30  0  0  0 73251251251 71  0  0  0  0  0  0  0  0\n",
            "  0  0  0  0  0  0  0166253253255149 73150253255253253143  0  0  0  0  0  0  0  0  0\n",
            "  0  0  0  0  0  0  0140251251253251251251251253251230 61  0  0  0  0  0  0  0  0  0\n",
            "  0  0  0  0  0  0  0190251251253251251251251242215 55  0  0  0  0  0  0  0  0  0  0\n",
            "  0  0  0  0  0  0  0 21189251253251251251173103  0  0  0  0  0  0  0  0  0  0  0  0\n",
            "  0  0  0  0  0  0  0  0 31200253251 96 71 20  0  0  0  0  0  0  0  0  0  0  0  0  0\n",
            "  0  0  0  0  0  0  0  0  0  0  0  0  0  0  0  0  0  0  0  0  0  0  0  0  0  0  0  0\n",
            "  0  0  0  0  0  0  0  0  0  0  0  0  0  0  0  0  0  0  0  0  0  0  0  0  0  0  0  0\n",
            "  0  0  0  0  0  0  0  0  0  0  0  0  0  0  0  0  0  0  0  0  0  0  0  0  0  0  0  0\n",
            "  0  0  0  0  0  0  0  0  0  0  0  0  0  0  0  0  0  0  0  0  0  0  0  0  0  0  0  0\n"
          ]
        }
      ]
    },
    {
      "cell_type": "code",
      "source": [
        "import matplotlib.pyplot as pl\n",
        "pl.imshow(x)"
      ],
      "metadata": {
        "colab": {
          "base_uri": "https://localhost:8080/",
          "height": 282
        },
        "id": "Up4ETLWX-YMy",
        "outputId": "23c4a3b6-23ab-44ee-a1c3-a67c5402e8d7"
      },
      "execution_count": 5,
      "outputs": [
        {
          "output_type": "execute_result",
          "data": {
            "text/plain": [
              "<matplotlib.image.AxesImage at 0x7fb58dcc4410>"
            ]
          },
          "metadata": {},
          "execution_count": 5
        },
        {
          "output_type": "display_data",
          "data": {
            "text/plain": [
              "<Figure size 432x288 with 1 Axes>"
            ],
            "image/png": "[encoded data removed]"
          },
          "metadata": {
            "needs_background": "light"
          }
        }
      ]
    },
    {
      "cell_type": "code",
      "source": [
        "xr1= xr.reshape(-1, 28*28) \n",
        "xt1= xt.reshape(-1, 28*28)"
      ],
      "metadata": {
        "id": "VC0du4tg-apC"
      },
      "execution_count": 6,
      "outputs": []
    },
    {
      "cell_type": "code",
      "source": [
        "aModel= keras.Sequential([\n",
        "    keras.Input(28*28),\n",
        "    keras.layers.Dense(100),    \n",
        "    keras.layers.Dense(10)   \n",
        "    ])\n",
        "\n",
        "aModel.compile(\n",
        "    loss=     'sparse_categorical_crossentropy',\n",
        "    metrics= ['accuracy']\n",
        "    )"
      ],
      "metadata": {
        "id": "gor8ZBFC-cmW"
      },
      "execution_count": 7,
      "outputs": []
    },
    {
      "cell_type": "code",
      "source": [
        "aModel.summary()\n",
        "\n",
        "keras.utils.plot_model(aModel, \n",
        "    show_shapes= True, \n",
        "    show_layer_activations= True)"
      ],
      "metadata": {
        "colab": {
          "base_uri": "https://localhost:8080/",
          "height": 538
        },
        "id": "7eYlQ7UI-efD",
        "outputId": "fb015be2-fcbd-43b3-bcc8-53eef216e09c"
      },
      "execution_count": 8,
      "outputs": [
        {
          "output_type": "stream",
          "name": "stdout",
          "text": [
            "Model: \"sequential\"\n",
            "_________________________________________________________________\n",
            " Layer (type)                Output Shape              Param #   \n",
            "=================================================================\n",
            " dense (Dense)               (None, 100)               78500     \n",
            "                                                                 \n",
            " dense_1 (Dense)             (None, 10)                1010      \n",
            "                                                                 \n",
            "=================================================================\n",
            "Total params: 79,510\n",
            "Trainable params: 79,510\n",
            "Non-trainable params: 0\n",
            "_________________________________________________________________\n"
          ]
        },
        {
          "output_type": "execute_result",
          "data": {
            "image/png": "[encoded data removed]",
            "text/plain": [
              "<IPython.core.display.Image object>"
            ]
          },
          "metadata": {},
          "execution_count": 8
        }
      ]
    },
    {
      "cell_type": "markdown",
      "source": [
        "# 以下是更改程式碼部分"
      ],
      "metadata": {
        "id": "gG38ao9W-okQ"
      }
    },
    {
      "cell_type": "markdown",
      "source": [
        "# 想想看，你能做那些改進來提升正確率 (accuracy) ？\n",
        "# 1.修改模型層數(增加每層可容納unit以減少層數)\n",
        "# 2.使用adam optimizer(優化器會自動調整學習率，保留學習方向的動量，提升學習效率)\n",
        "# 3.增加batchs -> 200(增加一次送入GPU的數量)\n",
        "# 4.增加epochs -> 20(增加訓練次數達到更好成效)\n",
        "# 5.將圖片轉化為灰階(色彩通道降階，提升辨識度)"
      ],
      "metadata": {
        "id": "MwqmwqabAz2U"
      }
    },
    {
      "cell_type": "code",
      "source": [
        "xr2= xr.reshape(-1, 28*28) \n",
        "xt2= xt.reshape(-1, 28*28)"
      ],
      "metadata": {
        "id": "2ITVTmY4BAMK"
      },
      "execution_count": 9,
      "outputs": []
    },
    {
      "cell_type": "code",
      "source": [
        "xr2 = xr2 / 255\n",
        "xt2 = xt2 / 255"
      ],
      "metadata": {
        "id": "2_xJpZAoBDqo"
      },
      "execution_count": 10,
      "outputs": []
    },
    {
      "cell_type": "code",
      "source": [
        "bModel= keras.Sequential([\n",
        "    keras.Input(28*28),\n",
        "    keras.layers.Dense(300, activation= 'relu'), \n",
        "    keras.layers.Dense(10,  activation= 'softmax')\n",
        "    ])\n",
        "\n",
        "bModel.compile(\n",
        "    optimizer = 'adam',\n",
        "    loss=     'sparse_categorical_crossentropy',\n",
        "    metrics= ['accuracy']\n",
        "    )\n",
        "\n",
        "bModel.fit(xr2, yr, \n",
        "           epochs= 20, \n",
        "           batch_size= 200)\n",
        "\n",
        "bModel.evaluate(xt2, yt)"
      ],
      "metadata": {
        "colab": {
          "base_uri": "https://localhost:8080/"
        },
        "id": "_l1ql9ULBFX5",
        "outputId": "23428ddf-f67d-4d0c-b924-314d0d6e1392"
      },
      "execution_count": 11,
      "outputs": [
        {
          "output_type": "stream",
          "name": "stdout",
          "text": [
            "Epoch 1/20\n",
            "300/300 [==============================] - 7s 5ms/step - loss: 0.3448 - accuracy: 0.9034\n",
            "Epoch 2/20\n",
            "300/300 [==============================] - 1s 4ms/step - loss: 0.1480 - accuracy: 0.9580\n",
            "Epoch 3/20\n",
            "300/300 [==============================] - 1s 4ms/step - loss: 0.1013 - accuracy: 0.9713\n",
            "Epoch 4/20\n",
            "300/300 [==============================] - 1s 4ms/step - loss: 0.0763 - accuracy: 0.9783\n",
            "Epoch 5/20\n",
            "300/300 [==============================] - 1s 4ms/step - loss: 0.0585 - accuracy: 0.9833\n",
            "Epoch 6/20\n",
            "300/300 [==============================] - 1s 4ms/step - loss: 0.0478 - accuracy: 0.9865\n",
            "Epoch 7/20\n",
            "300/300 [==============================] - 1s 5ms/step - loss: 0.0386 - accuracy: 0.9895\n",
            "Epoch 8/20\n",
            "300/300 [==============================] - 1s 3ms/step - loss: 0.0304 - accuracy: 0.9918\n",
            "Epoch 9/20\n",
            "300/300 [==============================] - 1s 2ms/step - loss: 0.0243 - accuracy: 0.9942\n",
            "Epoch 10/20\n",
            "300/300 [==============================] - 1s 2ms/step - loss: 0.0198 - accuracy: 0.9954\n",
            "Epoch 11/20\n",
            "300/300 [==============================] - 1s 2ms/step - loss: 0.0164 - accuracy: 0.9963\n",
            "Epoch 12/20\n",
            "300/300 [==============================] - 1s 2ms/step - loss: 0.0130 - accuracy: 0.9979\n",
            "Epoch 13/20\n",
            "300/300 [==============================] - 1s 2ms/step - loss: 0.0107 - accuracy: 0.9980\n",
            "Epoch 14/20\n",
            "300/300 [==============================] - 1s 2ms/step - loss: 0.0089 - accuracy: 0.9985\n",
            "Epoch 15/20\n",
            "300/300 [==============================] - 1s 2ms/step - loss: 0.0082 - accuracy: 0.9985\n",
            "Epoch 16/20\n",
            "300/300 [==============================] - 1s 2ms/step - loss: 0.0068 - accuracy: 0.9988\n",
            "Epoch 17/20\n",
            "300/300 [==============================] - 1s 2ms/step - loss: 0.0052 - accuracy: 0.9993\n",
            "Epoch 18/20\n",
            "300/300 [==============================] - 1s 2ms/step - loss: 0.0034 - accuracy: 0.9998\n",
            "Epoch 19/20\n",
            "300/300 [==============================] - 1s 2ms/step - loss: 0.0029 - accuracy: 0.9997\n",
            "Epoch 20/20\n",
            "300/300 [==============================] - 1s 2ms/step - loss: 0.0022 - accuracy: 0.9998\n",
            "313/313 [==============================] - 1s 2ms/step - loss: 0.0674 - accuracy: 0.9819\n"
          ]
        },
        {
          "output_type": "execute_result",
          "data": {
            "text/plain": [
              "[0.06736598908901215, 0.9818999767303467]"
            ]
          },
          "metadata": {},
          "execution_count": 11
        }
      ]
    },
    {
      "cell_type": "code",
      "source": [
        "aModel.summary()\n",
        "\n",
        "keras.utils.plot_model(bModel, \n",
        "    show_shapes= True, \n",
        "    show_layer_activations= True)"
      ],
      "metadata": {
        "colab": {
          "base_uri": "https://localhost:8080/",
          "height": 538
        },
        "id": "C-FH2GasBGvl",
        "outputId": "04034047-2709-4895-96a6-8e02c727c421"
      },
      "execution_count": 12,
      "outputs": [
        {
          "output_type": "stream",
          "name": "stdout",
          "text": [
            "Model: \"sequential\"\n",
            "_________________________________________________________________\n",
            " Layer (type)                Output Shape              Param #   \n",
            "=================================================================\n",
            " dense (Dense)               (None, 100)               78500     \n",
            "                                                                 \n",
            " dense_1 (Dense)             (None, 10)                1010      \n",
            "                                                                 \n",
            "=================================================================\n",
            "Total params: 79,510\n",
            "Trainable params: 79,510\n",
            "Non-trainable params: 0\n",
            "_________________________________________________________________\n"
          ]
        },
        {
          "output_type": "execute_result",
          "data": {
            "image/png": "[encoded data removed]",
            "text/plain": [
              "<IPython.core.display.Image object>"
            ]
          },
          "metadata": {},
          "execution_count": 12
        }
      ]
    },
    {
      "cell_type": "markdown",
      "source": [
        "# 結論\n",
        "# train_acc = 0.9998\n",
        "\n",
        "# test_acc = 0.9819"
      ],
      "metadata": {
        "id": "zLn7_sktCLyc"
      }
    }
  ]
}