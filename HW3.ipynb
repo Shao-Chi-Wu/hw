{
  "nbformat": 4,
  "nbformat_minor": 0,
  "metadata": {
    "colab": {
      "provenance": []
    },
    "kernelspec": {
      "name": "python3",
      "display_name": "Python 3"
    },
    "language_info": {
      "name": "python"
    }
  },
  "cells": [
    {
      "cell_type": "markdown",
      "source": [
        "## tensorflow 創建tensor(張量)\n",
        "\n",
        "## 元素皆為1"
      ],
      "metadata": {
        "id": "gAc9LNfYeM9T"
      }
    },
    {
      "cell_type": "code",
      "execution_count": null,
      "metadata": {
        "colab": {
          "base_uri": "https://localhost:8080/"
        },
        "id": "ZWiSJfXFdKpl",
        "outputId": "e1b8e6f6-9861-49aa-c01e-0fcf908bffc7"
      },
      "outputs": [
        {
          "output_type": "stream",
          "name": "stdout",
          "text": [
            "tf.Tensor(\n",
            "[[1.]\n",
            " [1.]], shape=(2, 1), dtype=float32)\n"
          ]
        }
      ],
      "source": [
        "import tensorflow as tf\n",
        "x = tf.ones(shape=(2, 1))\n",
        "print(x)"
      ]
    },
    {
      "cell_type": "markdown",
      "source": [
        "## 元素皆為0"
      ],
      "metadata": {
        "id": "NCRz-buceiL1"
      }
    },
    {
      "cell_type": "code",
      "source": [
        "x = tf.zeros(shape=(2, 1))\n",
        "print(x)"
      ],
      "metadata": {
        "colab": {
          "base_uri": "https://localhost:8080/"
        },
        "id": "_MjjQitqdObr",
        "outputId": "1215b1e7-da17-481e-944b-df1026ce15c8"
      },
      "execution_count": null,
      "outputs": [
        {
          "output_type": "stream",
          "name": "stdout",
          "text": [
            "tf.Tensor(\n",
            "[[0.]\n",
            " [0.]], shape=(2, 1), dtype=float32)\n"
          ]
        }
      ]
    },
    {
      "cell_type": "markdown",
      "source": [
        "## 創建random matrix\n",
        "\n",
        "*   normal --> normal distribution 設立標準差與平均的常態分佈\n",
        "*   uniform --> range(min,max) 取隨機值\n"
      ],
      "metadata": {
        "id": "03Sk6CRVepyT"
      }
    },
    {
      "cell_type": "code",
      "source": [
        "x = tf.random.normal(shape=(3, 1), mean=0., stddev=1.)\n",
        "print(x)"
      ],
      "metadata": {
        "colab": {
          "base_uri": "https://localhost:8080/"
        },
        "id": "onTOQZNJdRFq",
        "outputId": "62cf0af4-0e35-4d09-d066-ef8fa39e12bc"
      },
      "execution_count": null,
      "outputs": [
        {
          "output_type": "stream",
          "name": "stdout",
          "text": [
            "tf.Tensor(\n",
            "[[-0.36985013]\n",
            " [-1.8301082 ]\n",
            " [-0.2686944 ]], shape=(3, 1), dtype=float32)\n"
          ]
        }
      ]
    },
    {
      "cell_type": "code",
      "source": [
        "x = tf.random.uniform(shape=(3, 1), minval=0., maxval=5.)\n",
        "print(x)"
      ],
      "metadata": {
        "colab": {
          "base_uri": "https://localhost:8080/"
        },
        "id": "sgT_Lzk8dRlI",
        "outputId": "e7a8e654-5add-4ec3-e24e-09764646559b"
      },
      "execution_count": null,
      "outputs": [
        {
          "output_type": "stream",
          "name": "stdout",
          "text": [
            "tf.Tensor(\n",
            "[[3.75948  ]\n",
            " [2.15066  ]\n",
            " [0.9486443]], shape=(3, 1), dtype=float32)\n"
          ]
        }
      ]
    },
    {
      "cell_type": "markdown",
      "source": [
        "## 給定matrix value in np"
      ],
      "metadata": {
        "id": "jfep25kXe7LM"
      }
    },
    {
      "cell_type": "code",
      "source": [
        "import numpy as np\n",
        "x = np.ones(shape=(2, 2))\n",
        "x[0, 0] = 0.\n",
        "x"
      ],
      "metadata": {
        "colab": {
          "base_uri": "https://localhost:8080/"
        },
        "id": "7MwE2HOKdT8r",
        "outputId": "25de0b47-ddb7-44ec-eb26-b7e4312a6c32"
      },
      "execution_count": null,
      "outputs": [
        {
          "output_type": "execute_result",
          "data": {
            "text/plain": [
              "array([[0., 1.],\n",
              "       [1., 1.]])"
            ]
          },
          "metadata": {},
          "execution_count": 5
        }
      ]
    },
    {
      "cell_type": "markdown",
      "source": [
        "## 創建tensor 變數與修改\n",
        "\n",
        "*   不能直接=,要用assign\n",
        "\n"
      ],
      "metadata": {
        "id": "aSdWxXXEfSzk"
      }
    },
    {
      "cell_type": "code",
      "source": [
        "v = tf.Variable(initial_value=tf.random.normal(shape=(3, 1)))\n",
        "print(f'random tensor :\\n {v}')\n",
        "v.assign(tf.ones((3, 1)))\n",
        "print(f'ones tensor :\\n {v}')\n",
        "v[0, 0].assign(3.) #不能寫=\n",
        "print(f'modify tensor[0,0]:\\n{v}')\n",
        "v.assign_add(tf.ones((3, 1)))\n",
        "print(f'add other tensor to v add(ones,v):\\n{v}')"
      ],
      "metadata": {
        "colab": {
          "base_uri": "https://localhost:8080/"
        },
        "id": "mTSeG9twdVE9",
        "outputId": "3bbcb2b2-529f-4c2b-9da1-25d1affedc58"
      },
      "execution_count": null,
      "outputs": [
        {
          "output_type": "stream",
          "name": "stdout",
          "text": [
            "random tensor :\n",
            " <tf.Variable 'Variable:0' shape=(3, 1) dtype=float32, numpy=\n",
            "array([[ 0.19987136],\n",
            "       [-0.45359147],\n",
            "       [ 0.04971137]], dtype=float32)>\n",
            "ones tensor :\n",
            " <tf.Variable 'Variable:0' shape=(3, 1) dtype=float32, numpy=\n",
            "array([[1.],\n",
            "       [1.],\n",
            "       [1.]], dtype=float32)>\n",
            "modify tensor[0,0]:\n",
            "<tf.Variable 'Variable:0' shape=(3, 1) dtype=float32, numpy=\n",
            "array([[3.],\n",
            "       [1.],\n",
            "       [1.]], dtype=float32)>\n",
            "add other tensor to v add(ones,v):\n",
            "<tf.Variable 'Variable:0' shape=(3, 1) dtype=float32, numpy=\n",
            "array([[4.],\n",
            "       [2.],\n",
            "       [2.]], dtype=float32)>\n"
          ]
        }
      ]
    },
    {
      "cell_type": "markdown",
      "source": [
        "## tensor 運算"
      ],
      "metadata": {
        "id": "GTJRCyxgf6mE"
      }
    },
    {
      "cell_type": "code",
      "source": [
        "a = tf.ones((2, 2))\n",
        "b = tf.square(a)\n",
        "c = tf.sqrt(a)\n",
        "d = b + c\n",
        "e = tf.matmul(a, b) #矩陣相乘\n",
        "e *= d\n",
        "print(f'a:{a}\\n b:{b}\\nc:{c}\\nd:{d}\\ne:{e}')"
      ],
      "metadata": {
        "colab": {
          "base_uri": "https://localhost:8080/"
        },
        "id": "kwXWV3TidZue",
        "outputId": "ebc17867-c9b1-453b-93f7-b075a7a0ca34"
      },
      "execution_count": null,
      "outputs": [
        {
          "output_type": "stream",
          "name": "stdout",
          "text": [
            "a:[[1. 1.]\n",
            " [1. 1.]]\n",
            " b:[[1. 1.]\n",
            " [1. 1.]]\n",
            "c:[[1. 1.]\n",
            " [1. 1.]]\n",
            "d:[[2. 2.]\n",
            " [2. 2.]]\n",
            "e:[[4. 4.]\n",
            " [4. 4.]]\n"
          ]
        }
      ]
    },
    {
      "cell_type": "markdown",
      "source": [
        "## 微分tensor"
      ],
      "metadata": {
        "id": "HtU0vEURgUlK"
      }
    },
    {
      "cell_type": "code",
      "source": [
        "input_var = tf.Variable(initial_value=3.)\n",
        "with tf.GradientTape() as tape:\n",
        "   result = tf.square(input_var)\n",
        "gradient = tape.gradient(result, input_var) # x^2微分後x=3帶入\n",
        "print(f'input:\\n{input_var}\\n gradient:\\n{gradient}')"
      ],
      "metadata": {
        "colab": {
          "base_uri": "https://localhost:8080/"
        },
        "id": "DIPow0u6dbMQ",
        "outputId": "c8501ded-fa11-46f4-d958-7ed8f5f849a0"
      },
      "execution_count": null,
      "outputs": [
        {
          "output_type": "stream",
          "name": "stdout",
          "text": [
            "input:\n",
            "<tf.Variable 'Variable:0' shape=() dtype=float32, numpy=3.0>\n",
            " gradient:\n",
            "6.0\n"
          ]
        }
      ]
    },
    {
      "cell_type": "code",
      "source": [
        "input_const = tf.constant(3.)\n",
        "with tf.GradientTape() as tape:\n",
        "   tape.watch(input_const)\n",
        "   result = tf.square(input_const)\n",
        "gradient = tape.gradient(result, input_const)\n",
        "gradient"
      ],
      "metadata": {
        "colab": {
          "base_uri": "https://localhost:8080/"
        },
        "id": "jz-gQIC1dcge",
        "outputId": "d086f459-f7e9-404e-a582-3941722fb11d"
      },
      "execution_count": null,
      "outputs": [
        {
          "output_type": "execute_result",
          "data": {
            "text/plain": [
              "<tf.Tensor: shape=(), dtype=float32, numpy=6.0>"
            ]
          },
          "metadata": {},
          "execution_count": 9
        }
      ]
    },
    {
      "cell_type": "markdown",
      "source": [
        "## 微分兩次"
      ],
      "metadata": {
        "id": "46f-Z0LvhEl4"
      }
    },
    {
      "cell_type": "code",
      "source": [
        "time = tf.Variable(0.)\n",
        "with tf.GradientTape() as outer_tape:\n",
        "    with tf.GradientTape() as inner_tape:\n",
        "        position =  4.9 * time ** 2\n",
        "    speed = inner_tape.gradient(position, time)\n",
        "acceleration = outer_tape.gradient(speed, time)\n",
        "speed,acceleration"
      ],
      "metadata": {
        "colab": {
          "base_uri": "https://localhost:8080/"
        },
        "id": "boug2Nayddrp",
        "outputId": "4e428819-05e1-4cf4-86ca-8ba4c6cd8cd0"
      },
      "execution_count": null,
      "outputs": [
        {
          "output_type": "execute_result",
          "data": {
            "text/plain": [
              "(<tf.Tensor: shape=(), dtype=float32, numpy=0.0>,\n",
              " <tf.Tensor: shape=(), dtype=float32, numpy=9.8>)"
            ]
          },
          "metadata": {},
          "execution_count": 10
        }
      ]
    },
    {
      "cell_type": "markdown",
      "source": [
        "## Generating two classes of random points in a 2D plane"
      ],
      "metadata": {
        "id": "TdtH3f6jhP7E"
      }
    },
    {
      "cell_type": "code",
      "source": [
        "num_samples_per_class = 1000\n",
        "negative_samples = np.random.multivariate_normal(\n",
        "    mean=[0, 3],\n",
        "    cov=[[1, 0.5],[0.5, 1]],\n",
        "    size=num_samples_per_class)\n",
        "positive_samples = np.random.multivariate_normal(\n",
        "    mean=[3, 0],\n",
        "    cov=[[1, 0.5],[0.5, 1]],\n",
        "    size=num_samples_per_class)\n",
        "negative_samples.shape,negative_samples,positive_samples"
      ],
      "metadata": {
        "colab": {
          "base_uri": "https://localhost:8080/"
        },
        "id": "vTn66ZvIdfJt",
        "outputId": "176a3061-5134-4da1-b386-bc39690ae3af"
      },
      "execution_count": null,
      "outputs": [
        {
          "output_type": "execute_result",
          "data": {
            "text/plain": [
              "((1000, 2), array([[ 1.41504316,  2.82797571],\n",
              "        [-0.83383535,  3.3342549 ],\n",
              "        [-0.65422979,  2.8303488 ],\n",
              "        ...,\n",
              "        [-0.75832505,  1.92903144],\n",
              "        [-1.60131155,  2.8011584 ],\n",
              "        [-0.59296973,  2.12459086]]), array([[-0.42916788, -1.21069705],\n",
              "        [ 2.51620276, -0.23475262],\n",
              "        [ 1.96640528,  0.18224361],\n",
              "        ...,\n",
              "        [ 1.81387681,  0.04254023],\n",
              "        [ 2.44383925, -0.86473662],\n",
              "        [ 4.46269303,  1.73242623]]))"
            ]
          },
          "metadata": {},
          "execution_count": 11
        }
      ]
    },
    {
      "cell_type": "markdown",
      "source": [
        "## merge two array"
      ],
      "metadata": {
        "id": "fc6Uw1hZhw6t"
      }
    },
    {
      "cell_type": "code",
      "source": [
        "inputs = np.vstack((negative_samples, positive_samples)).astype(np.float32)\n",
        "print(f'input size:{inputs.shape}\\ninput data:{inputs}\\n')\n",
        "targets = np.vstack((np.zeros((num_samples_per_class, 1), dtype=\"float32\"),\n",
        "                     np.ones((num_samples_per_class, 1), dtype=\"float32\")))\n",
        "print(targets)"
      ],
      "metadata": {
        "colab": {
          "base_uri": "https://localhost:8080/"
        },
        "id": "XG-xjDlVdgnY",
        "outputId": "724f5659-515d-46a0-fd24-f8a641ea8c4b"
      },
      "execution_count": null,
      "outputs": [
        {
          "output_type": "stream",
          "name": "stdout",
          "text": [
            "input size:(2000, 2)\n",
            "input data:[[ 1.4150431   2.8279757 ]\n",
            " [-0.83383536  3.334255  ]\n",
            " [-0.6542298   2.8303487 ]\n",
            " ...\n",
            " [ 1.8138767   0.04254023]\n",
            " [ 2.4438393  -0.8647366 ]\n",
            " [ 4.462693    1.7324262 ]]\n",
            "\n",
            "[[0.]\n",
            " [0.]\n",
            " [0.]\n",
            " ...\n",
            " [1.]\n",
            " [1.]\n",
            " [1.]]\n"
          ]
        }
      ]
    },
    {
      "cell_type": "markdown",
      "source": [
        "## inputs[:,0] --> col=0 的所有row \n",
        "## inputs[:,1] --> col=1 的所有row\n",
        "## c=targets[:, 0] 兩個顏色 c=color"
      ],
      "metadata": {
        "id": "DkJujLubh4td"
      }
    },
    {
      "cell_type": "code",
      "source": [
        "import matplotlib.pyplot as plt\n",
        "plt.scatter(inputs[:, 0], inputs[:, 1], c=targets[:, 0])\n",
        "plt.show()"
      ],
      "metadata": {
        "colab": {
          "base_uri": "https://localhost:8080/",
          "height": 265
        },
        "id": "IdiZQkFIdjTo",
        "outputId": "68a28302-09cb-484b-86da-76631c06f1f9"
      },
      "execution_count": null,
      "outputs": [
        {
          "output_type": "display_data",
          "data": {
            "text/plain": [
              "<Figure size 432x288 with 1 Axes>"
            ],
            "image/png": "[encoded data removed]"
          },
          "metadata": {
            "needs_background": "light"
          }
        }
      ]
    },
    {
      "cell_type": "code",
      "source": [
        "input_dim = 2\n",
        "output_dim = 1\n",
        "W = tf.Variable(initial_value=tf.random.uniform(shape=(input_dim, output_dim)))\n",
        "b = tf.Variable(initial_value=tf.zeros(shape=(output_dim,)))\n",
        "c = tf.Variable(initial_value=tf.zeros(shape=(output_dim)))\n",
        "b.shape,W.shape"
      ],
      "metadata": {
        "colab": {
          "base_uri": "https://localhost:8080/"
        },
        "id": "77MYBm3BdkxT",
        "outputId": "646fa664-b592-492e-c2ab-42133577e745"
      },
      "execution_count": null,
      "outputs": [
        {
          "output_type": "execute_result",
          "data": {
            "text/plain": [
              "(TensorShape([1]), TensorShape([2, 1]))"
            ]
          },
          "metadata": {},
          "execution_count": 14
        }
      ]
    },
    {
      "cell_type": "markdown",
      "source": [
        "## 創建linear model\n",
        "\n",
        "*   只有一層Wx+b\n",
        "*   loss=MSE\n",
        "\n"
      ],
      "metadata": {
        "id": "Ls7-96pEiLDv"
      }
    },
    {
      "cell_type": "code",
      "source": [
        "def model(inputs):\n",
        "    return tf.matmul(inputs, W) + b"
      ],
      "metadata": {
        "id": "uTMj-7h_dmds"
      },
      "execution_count": null,
      "outputs": []
    },
    {
      "cell_type": "code",
      "source": [
        "def square_loss(targets, predictions):\n",
        "    per_sample_losses = tf.square(targets - predictions)\n",
        "    return tf.reduce_mean(per_sample_losses)"
      ],
      "metadata": {
        "id": "eDSjXMcfdn1r"
      },
      "execution_count": null,
      "outputs": []
    },
    {
      "cell_type": "code",
      "source": [
        "learning_rate = 0.1\n",
        "\n",
        "def training_step(inputs, targets):\n",
        "    with tf.GradientTape() as tape:\n",
        "        predictions = model(inputs)\n",
        "        loss = square_loss(targets, predictions)\n",
        "    grad_loss_wrt_W, grad_loss_wrt_b = tape.gradient(loss, [W, b])\n",
        "    W.assign_sub(grad_loss_wrt_W * learning_rate)\n",
        "    b.assign_sub(grad_loss_wrt_b * learning_rate)\n",
        "    return loss"
      ],
      "metadata": {
        "id": "BjPbFdnZdpBL"
      },
      "execution_count": null,
      "outputs": []
    },
    {
      "cell_type": "code",
      "source": [
        "for step in range(40):\n",
        "    loss = training_step(inputs, targets)\n",
        "    print(f\"Loss at step {step}: {loss:.4f}\")"
      ],
      "metadata": {
        "colab": {
          "base_uri": "https://localhost:8080/"
        },
        "id": "CK52AXnIdqVa",
        "outputId": "0152f117-8de0-4838-b91b-04df07b92ad7"
      },
      "execution_count": null,
      "outputs": [
        {
          "output_type": "stream",
          "name": "stdout",
          "text": [
            "Loss at step 0: 2.5927\n",
            "Loss at step 1: 0.3032\n",
            "Loss at step 2: 0.1371\n",
            "Loss at step 3: 0.1096\n",
            "Loss at step 4: 0.0999\n",
            "Loss at step 5: 0.0930\n",
            "Loss at step 6: 0.0869\n",
            "Loss at step 7: 0.0814\n",
            "Loss at step 8: 0.0764\n",
            "Loss at step 9: 0.0718\n",
            "Loss at step 10: 0.0676\n",
            "Loss at step 11: 0.0638\n",
            "Loss at step 12: 0.0604\n",
            "Loss at step 13: 0.0572\n",
            "Loss at step 14: 0.0543\n",
            "Loss at step 15: 0.0517\n",
            "Loss at step 16: 0.0493\n",
            "Loss at step 17: 0.0471\n",
            "Loss at step 18: 0.0451\n",
            "Loss at step 19: 0.0433\n",
            "Loss at step 20: 0.0416\n",
            "Loss at step 21: 0.0401\n",
            "Loss at step 22: 0.0387\n",
            "Loss at step 23: 0.0375\n",
            "Loss at step 24: 0.0363\n",
            "Loss at step 25: 0.0353\n",
            "Loss at step 26: 0.0343\n",
            "Loss at step 27: 0.0335\n",
            "Loss at step 28: 0.0327\n",
            "Loss at step 29: 0.0320\n",
            "Loss at step 30: 0.0313\n",
            "Loss at step 31: 0.0307\n",
            "Loss at step 32: 0.0302\n",
            "Loss at step 33: 0.0297\n",
            "Loss at step 34: 0.0292\n",
            "Loss at step 35: 0.0288\n",
            "Loss at step 36: 0.0284\n",
            "Loss at step 37: 0.0281\n",
            "Loss at step 38: 0.0278\n",
            "Loss at step 39: 0.0275\n"
          ]
        }
      ]
    },
    {
      "cell_type": "code",
      "source": [
        "predictions = model(inputs)\n",
        "plt.scatter(inputs[:, 0], inputs[:, 1], c=predictions[:, 0] > 0.5)\n",
        "plt.show()"
      ],
      "metadata": {
        "colab": {
          "base_uri": "https://localhost:8080/",
          "height": 265
        },
        "id": "sI_B0D3IdriO",
        "outputId": "f22cc1fe-58dd-4f1b-e6a2-a6b28e3b3af6"
      },
      "execution_count": null,
      "outputs": [
        {
          "output_type": "display_data",
          "data": {
            "text/plain": [
              "<Figure size 432x288 with 1 Axes>"
            ],
            "image/png": "[encoded data removed]"
          },
          "metadata": {
            "needs_background": "light"
          }
        }
      ]
    },
    {
      "cell_type": "code",
      "source": [
        "x = np.linspace(-1, 4, 100)\n",
        "y = - W[0] /  W[1] * x + (0.5 - b) / W[1]\n",
        "plt.plot(x, y, \"-r\")\n",
        "plt.scatter(inputs[:, 0], inputs[:, 1], c=predictions[:, 0] > 0.5)"
      ],
      "metadata": {
        "colab": {
          "base_uri": "https://localhost:8080/",
          "height": 282
        },
        "id": "R0Gp9haCds3H",
        "outputId": "2746da29-d7b2-4ee2-b82b-e811fa826d5d"
      },
      "execution_count": null,
      "outputs": [
        {
          "output_type": "execute_result",
          "data": {
            "text/plain": [
              "<matplotlib.collections.PathCollection at 0x7f21e2b97a10>"
            ]
          },
          "metadata": {},
          "execution_count": 20
        },
        {
          "output_type": "display_data",
          "data": {
            "text/plain": [
              "<Figure size 432x288 with 1 Axes>"
            ],
            "image/png": "[encoded data removed]"
          },
          "metadata": {
            "needs_background": "light"
          }
        }
      ]
    },
    {
      "cell_type": "markdown",
      "source": [
        "## 自己創建神經網路"
      ],
      "metadata": {
        "id": "OUXh856EirWw"
      }
    },
    {
      "cell_type": "code",
      "source": [
        "from tensorflow import keras\n",
        "\n",
        "class SimpleDense(keras.layers.Layer):\n",
        "\n",
        "    def __init__(self, units, activation=None):\n",
        "        super().__init__()\n",
        "        self.units = units\n",
        "        self.activation = activation\n",
        "\n",
        "    def build(self, input_shape):\n",
        "        input_dim = input_shape[-1]\n",
        "        self.W = self.add_weight(shape=(input_dim, self.units),\n",
        "                                 initializer=\"random_normal\")\n",
        "        self.b = self.add_weight(shape=(self.units,),\n",
        "                                 initializer=\"zeros\")\n",
        "\n",
        "    def call(self, inputs):\n",
        "        y = tf.matmul(inputs, self.W) + self.b\n",
        "        if self.activation is not None:\n",
        "            y = self.activation(y)\n",
        "        return y"
      ],
      "metadata": {
        "id": "3Gnz-2agduSC"
      },
      "execution_count": null,
      "outputs": []
    },
    {
      "cell_type": "code",
      "source": [
        "my_dense = SimpleDense(units=32, activation=tf.nn.relu)\n",
        "input_tensor = tf.ones(shape=(2, 784))\n",
        "output_tensor = my_dense(input_tensor)\n",
        "print(output_tensor.shape)"
      ],
      "metadata": {
        "colab": {
          "base_uri": "https://localhost:8080/"
        },
        "id": "84RGO2jLdv5k",
        "outputId": "57cfdd88-8714-488c-f1b9-eaaec2003a0b"
      },
      "execution_count": null,
      "outputs": [
        {
          "output_type": "stream",
          "name": "stdout",
          "text": [
            "(2, 32)\n"
          ]
        }
      ]
    },
    {
      "cell_type": "markdown",
      "source": [
        "## 使用keras API"
      ],
      "metadata": {
        "id": "oRtVanhki-qh"
      }
    },
    {
      "cell_type": "code",
      "source": [
        "from tensorflow.keras import layers\n",
        "layer = layers.Dense(32, activation=\"relu\")"
      ],
      "metadata": {
        "id": "M6QYTamndxRM"
      },
      "execution_count": null,
      "outputs": []
    },
    {
      "cell_type": "code",
      "source": [
        "from tensorflow.keras import models\n",
        "from tensorflow.keras import layers\n",
        "model = models.Sequential([\n",
        "    layers.Dense(32, activation=\"relu\"),\n",
        "    layers.Dense(32)\n",
        "])"
      ],
      "metadata": {
        "id": "4kOyhbtEdyY6"
      },
      "execution_count": null,
      "outputs": []
    },
    {
      "cell_type": "code",
      "source": [
        "model = keras.Sequential([\n",
        "    SimpleDense(32, activation=\"relu\"),\n",
        "    SimpleDense(64, activation=\"relu\"),\n",
        "    SimpleDense(32, activation=\"relu\"),\n",
        "    SimpleDense(10, activation=\"softmax\")\n",
        "])"
      ],
      "metadata": {
        "id": "LBJJt6gLdzYy"
      },
      "execution_count": null,
      "outputs": []
    },
    {
      "cell_type": "markdown",
      "source": [
        "## layers --> models"
      ],
      "metadata": {
        "id": "DIQUyn8kjHqf"
      }
    },
    {
      "cell_type": "code",
      "source": [
        "model = keras.Sequential([keras.layers.Dense(1)])\n",
        "model.compile(optimizer=\"rmsprop\",\n",
        "              loss=\"mean_squared_error\",\n",
        "              metrics=[\"accuracy\"])"
      ],
      "metadata": {
        "id": "DcEDrU2pd0sJ"
      },
      "execution_count": null,
      "outputs": []
    },
    {
      "cell_type": "code",
      "source": [
        "model.compile(optimizer=keras.optimizers.RMSprop(),\n",
        "              loss=keras.losses.MeanSquaredError(),\n",
        "              metrics=[keras.metrics.BinaryAccuracy()])"
      ],
      "metadata": {
        "id": "UV5P4zlDd104"
      },
      "execution_count": null,
      "outputs": []
    },
    {
      "cell_type": "code",
      "source": [
        "history = model.fit(\n",
        "    inputs,\n",
        "    targets,\n",
        "    epochs=5,\n",
        "    batch_size=128\n",
        ")"
      ],
      "metadata": {
        "colab": {
          "base_uri": "https://localhost:8080/"
        },
        "id": "oVvjvydNd3IE",
        "outputId": "a01b3ba1-d104-47eb-f2ea-b672a092955c"
      },
      "execution_count": null,
      "outputs": [
        {
          "output_type": "stream",
          "name": "stdout",
          "text": [
            "Epoch 1/5\n",
            "16/16 [==============================] - 1s 2ms/step - loss: 18.8335 - binary_accuracy: 0.4950\n",
            "Epoch 2/5\n",
            "16/16 [==============================] - 0s 2ms/step - loss: 18.1471 - binary_accuracy: 0.4960\n",
            "Epoch 3/5\n",
            "16/16 [==============================] - 0s 2ms/step - loss: 17.5642 - binary_accuracy: 0.4955\n",
            "Epoch 4/5\n",
            "16/16 [==============================] - 0s 2ms/step - loss: 17.0080 - binary_accuracy: 0.4955\n",
            "Epoch 5/5\n",
            "16/16 [==============================] - 0s 2ms/step - loss: 16.4630 - binary_accuracy: 0.4945\n"
          ]
        }
      ]
    },
    {
      "cell_type": "code",
      "source": [
        "history.history"
      ],
      "metadata": {
        "colab": {
          "base_uri": "https://localhost:8080/"
        },
        "id": "goFwyXSsd4FD",
        "outputId": "2d0ccdeb-eeba-4f35-ba72-cdde58d12e10"
      },
      "execution_count": null,
      "outputs": [
        {
          "output_type": "execute_result",
          "data": {
            "text/plain": [
              "{'loss': [18.833518981933594,\n",
              "  18.147109985351562,\n",
              "  17.564159393310547,\n",
              "  17.008014678955078,\n",
              "  16.463041305541992],\n",
              " 'binary_accuracy': [0.4950000047683716,\n",
              "  0.4959999918937683,\n",
              "  0.49549999833106995,\n",
              "  0.49549999833106995,\n",
              "  0.4945000112056732]}"
            ]
          },
          "metadata": {},
          "execution_count": 29
        }
      ]
    },
    {
      "cell_type": "markdown",
      "source": [
        "## 監控驗證數據上的loss and metrics"
      ],
      "metadata": {
        "id": "9GTHgezLjShv"
      }
    },
    {
      "cell_type": "code",
      "source": [
        "model = keras.Sequential([keras.layers.Dense(1)])\n",
        "model.compile(optimizer=keras.optimizers.RMSprop(learning_rate=0.1),\n",
        "              loss=keras.losses.MeanSquaredError(),\n",
        "              metrics=[keras.metrics.BinaryAccuracy()])\n",
        "\n",
        "indices_permutation = np.random.permutation(len(inputs))\n",
        "shuffled_inputs = inputs[indices_permutation]\n",
        "shuffled_targets = targets[indices_permutation]\n",
        "\n",
        "num_validation_samples = int(0.3 * len(inputs))\n",
        "val_inputs = shuffled_inputs[:num_validation_samples]\n",
        "val_targets = shuffled_targets[:num_validation_samples]\n",
        "training_inputs = shuffled_inputs[num_validation_samples:]\n",
        "training_targets = shuffled_targets[num_validation_samples:]\n",
        "model.fit(\n",
        "    training_inputs,\n",
        "    training_targets,\n",
        "    epochs=5,\n",
        "    batch_size=16,\n",
        "    validation_data=(val_inputs, val_targets)\n",
        ")"
      ],
      "metadata": {
        "colab": {
          "base_uri": "https://localhost:8080/"
        },
        "id": "_egaJ45Nd5fZ",
        "outputId": "387e54e5-19a1-4784-a3ba-af33e340cbbc"
      },
      "execution_count": null,
      "outputs": [
        {
          "output_type": "stream",
          "name": "stdout",
          "text": [
            "Epoch 1/5\n",
            "88/88 [==============================] - 1s 4ms/step - loss: 0.7103 - binary_accuracy: 0.8400 - val_loss: 0.0306 - val_binary_accuracy: 1.0000\n",
            "Epoch 2/5\n",
            "88/88 [==============================] - 0s 2ms/step - loss: 0.0730 - binary_accuracy: 0.9593 - val_loss: 0.0327 - val_binary_accuracy: 0.9983\n",
            "Epoch 3/5\n",
            "88/88 [==============================] - 0s 2ms/step - loss: 0.0767 - binary_accuracy: 0.9536 - val_loss: 0.2023 - val_binary_accuracy: 0.7633\n",
            "Epoch 4/5\n",
            "88/88 [==============================] - 0s 2ms/step - loss: 0.0661 - binary_accuracy: 0.9621 - val_loss: 0.2478 - val_binary_accuracy: 0.6183\n",
            "Epoch 5/5\n",
            "88/88 [==============================] - 0s 2ms/step - loss: 0.0808 - binary_accuracy: 0.9521 - val_loss: 0.0260 - val_binary_accuracy: 1.0000\n"
          ]
        },
        {
          "output_type": "execute_result",
          "data": {
            "text/plain": [
              "<keras.callbacks.History at 0x7f21e2980650>"
            ]
          },
          "metadata": {},
          "execution_count": 30
        }
      ]
    },
    {
      "cell_type": "markdown",
      "source": [
        "## Using a model after training"
      ],
      "metadata": {
        "id": "5Cg6xJT9n8K3"
      }
    },
    {
      "cell_type": "code",
      "source": [
        "predictions = model.predict(val_inputs, batch_size=128)\n",
        "print(predictions[:10])"
      ],
      "metadata": {
        "colab": {
          "base_uri": "https://localhost:8080/"
        },
        "id": "Nk4GL7LEd6wG",
        "outputId": "0595ef35-44bd-40d3-8076-ba38fe3effde"
      },
      "execution_count": null,
      "outputs": [
        {
          "output_type": "stream",
          "name": "stdout",
          "text": [
            "[[ 0.77202153]\n",
            " [-0.05205378]\n",
            " [-0.19340298]\n",
            " [ 0.9461324 ]\n",
            " [ 0.1947994 ]\n",
            " [ 0.05143845]\n",
            " [ 0.86637795]\n",
            " [ 0.08197799]\n",
            " [ 0.687902  ]\n",
            " [ 0.2130039 ]]\n"
          ]
        }
      ]
    },
    {
      "cell_type": "markdown",
      "source": [
        "## Summary"
      ],
      "metadata": {
        "id": "jjaq0JCCjoRV"
      }
    },
    {
      "cell_type": "code",
      "source": [
        "from tensorflow.keras.utils import plot_model\n",
        "model.summary()\n",
        "\n",
        "plot_model(model, \n",
        "    show_shapes= True,\n",
        "    expand_nested=True\n",
        ")"
      ],
      "metadata": {
        "colab": {
          "base_uri": "https://localhost:8080/",
          "height": 392
        },
        "id": "8cDx4aMMeDio",
        "outputId": "d7d3b061-8612-4e49-eb4d-347cbd2d00b6"
      },
      "execution_count": null,
      "outputs": [
        {
          "output_type": "stream",
          "name": "stdout",
          "text": [
            "Model: \"sequential_3\"\n",
            "_________________________________________________________________\n",
            " Layer (type)                Output Shape              Param #   \n",
            "=================================================================\n",
            " dense_4 (Dense)             (None, 1)                 3         \n",
            "                                                                 \n",
            "=================================================================\n",
            "Total params: 3\n",
            "Trainable params: 3\n",
            "Non-trainable params: 0\n",
            "_________________________________________________________________\n"
          ]
        },
        {
          "output_type": "execute_result",
          "data": {
            "image/png": "[encoded data removed]",
            "text/plain": [
              "<IPython.core.display.Image object>"
            ]
          },
          "metadata": {},
          "execution_count": 32
        }
      ]
    }
  ]
}