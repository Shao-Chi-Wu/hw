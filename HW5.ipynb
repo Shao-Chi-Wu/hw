{
  "cells": [
    {
      "cell_type": "markdown",
      "metadata": {
        "id": "edEu17CkxScx"
      },
      "source": [
        "This is a companion notebook for the book [Deep Learning with Python, Second Edition](https://www.manning.com/books/deep-learning-with-python-second-edition?a_aid=keras&a_bid=76564dff). For readability, it only contains runnable code blocks and section titles, and omits everything else in the book: text paragraphs, figures, and pseudocode.\n",
        "\n",
        "**If you want to be able to follow what's going on, I recommend reading the notebook side by side with your copy of the book.**\n",
        "\n",
        "This notebook was generated for TensorFlow 2.6."
      ]
    },
    {
      "cell_type": "markdown",
      "metadata": {
        "id": "v43vOJuNxSc1"
      },
      "source": [
        "# Fundamentals of machine learning"
      ]
    },
    {
      "cell_type": "markdown",
      "metadata": {
        "id": "zk213WdXxSc2"
      },
      "source": [
        "## Generalization: The goal of machine learning"
      ]
    },
    {
      "cell_type": "markdown",
      "metadata": {
        "id": "_q44v2UpxSc2"
      },
      "source": [
        "### Underfitting and overfitting"
      ]
    },
    {
      "cell_type": "markdown",
      "metadata": {
        "id": "n7CGjrR2xSc3"
      },
      "source": [
        "#### Noisy training data"
      ]
    },
    {
      "cell_type": "markdown",
      "metadata": {
        "id": "iImCZH_DxSc3"
      },
      "source": [
        "#### Ambiguous features"
      ]
    },
    {
      "cell_type": "markdown",
      "metadata": {
        "id": "EwzY-uYVxSc4"
      },
      "source": [
        "#### Rare features and spurious correlations"
      ]
    },
    {
      "cell_type": "markdown",
      "metadata": {
        "id": "yL1e2fJVxSc4"
      },
      "source": [
        "**Adding white-noise channels or all-zeros channels to MNIST**"
      ]
    },
    {
      "cell_type": "code",
      "execution_count": null,
      "metadata": {
        "colab": {
          "base_uri": "https://localhost:8080/"
        },
        "id": "tHwmvwD_xSc5",
        "outputId": "3e644162-a708-4721-9198-ccd6e294ebb4"
      },
      "outputs": [
        {
          "output_type": "stream",
          "name": "stdout",
          "text": [
            "Downloading data from https://storage.googleapis.com/tensorflow/tf-keras-datasets/mnist.npz\n",
            "11490434/11490434 [==============================] - 0s 0us/step\n"
          ]
        }
      ],
      "source": [
        "from tensorflow.keras.datasets import mnist\n",
        "import numpy as np\n",
        "\n",
        "(train_images, train_labels), _ = mnist.load_data()\n",
        "train_images = train_images.reshape((60000, 28 * 28))\n",
        "train_images = train_images.astype(\"float32\") / 255\n",
        "\n",
        "train_images_with_noise_channels = np.concatenate(\n",
        "    [train_images, np.random.random((len(train_images), 784))], axis=1)\n",
        "\n",
        "train_images_with_zeros_channels = np.concatenate(\n",
        "    [train_images, np.zeros((len(train_images), 784))], axis=1)"
      ]
    },
    {
      "cell_type": "markdown",
      "metadata": {
        "id": "Yd_CdeKvxSc6"
      },
      "source": [
        "**Training the same model on MNIST data with noise channels or all-zero channels**"
      ]
    },
    {
      "cell_type": "code",
      "execution_count": null,
      "metadata": {
        "colab": {
          "base_uri": "https://localhost:8080/"
        },
        "id": "_ehVLycpxSc7",
        "outputId": "0eaafb0d-9516-440b-b2cb-5f6626bb614b"
      },
      "outputs": [
        {
          "output_type": "stream",
          "name": "stdout",
          "text": [
            "Epoch 1/10\n",
            "375/375 [==============================] - 6s 7ms/step - loss: 0.6132 - accuracy: 0.8118 - val_loss: 0.2991 - val_accuracy: 0.9068\n",
            "Epoch 2/10\n",
            "375/375 [==============================] - 2s 6ms/step - loss: 0.2505 - accuracy: 0.9222 - val_loss: 0.1960 - val_accuracy: 0.9418\n",
            "Epoch 3/10\n",
            "375/375 [==============================] - 2s 5ms/step - loss: 0.1631 - accuracy: 0.9493 - val_loss: 0.1541 - val_accuracy: 0.9543\n",
            "Epoch 4/10\n",
            "375/375 [==============================] - 1s 4ms/step - loss: 0.1162 - accuracy: 0.9645 - val_loss: 0.1466 - val_accuracy: 0.9561\n",
            "Epoch 5/10\n",
            "375/375 [==============================] - 1s 4ms/step - loss: 0.0852 - accuracy: 0.9733 - val_loss: 0.1329 - val_accuracy: 0.9620\n",
            "Epoch 6/10\n",
            "375/375 [==============================] - 1s 3ms/step - loss: 0.0643 - accuracy: 0.9798 - val_loss: 0.1104 - val_accuracy: 0.9683\n",
            "Epoch 7/10\n",
            "375/375 [==============================] - 1s 3ms/step - loss: 0.0480 - accuracy: 0.9851 - val_loss: 0.1524 - val_accuracy: 0.9575\n",
            "Epoch 8/10\n",
            "375/375 [==============================] - 1s 3ms/step - loss: 0.0364 - accuracy: 0.9881 - val_loss: 0.1683 - val_accuracy: 0.9580\n",
            "Epoch 9/10\n",
            "375/375 [==============================] - 1s 3ms/step - loss: 0.0280 - accuracy: 0.9910 - val_loss: 0.1177 - val_accuracy: 0.9721\n",
            "Epoch 10/10\n",
            "375/375 [==============================] - 1s 3ms/step - loss: 0.0228 - accuracy: 0.9924 - val_loss: 0.1435 - val_accuracy: 0.9668\n",
            "Epoch 1/10\n",
            "375/375 [==============================] - 2s 4ms/step - loss: 0.2872 - accuracy: 0.9151 - val_loss: 0.1479 - val_accuracy: 0.9566\n",
            "Epoch 2/10\n",
            "375/375 [==============================] - 1s 3ms/step - loss: 0.1167 - accuracy: 0.9656 - val_loss: 0.0985 - val_accuracy: 0.9708\n",
            "Epoch 3/10\n",
            "375/375 [==============================] - 1s 3ms/step - loss: 0.0774 - accuracy: 0.9778 - val_loss: 0.0880 - val_accuracy: 0.9743\n",
            "Epoch 4/10\n",
            "375/375 [==============================] - 1s 3ms/step - loss: 0.0569 - accuracy: 0.9831 - val_loss: 0.0802 - val_accuracy: 0.9771\n",
            "Epoch 5/10\n",
            "375/375 [==============================] - 1s 3ms/step - loss: 0.0420 - accuracy: 0.9877 - val_loss: 0.0814 - val_accuracy: 0.9776\n",
            "Epoch 6/10\n",
            "375/375 [==============================] - 1s 3ms/step - loss: 0.0318 - accuracy: 0.9907 - val_loss: 0.0807 - val_accuracy: 0.9776\n",
            "Epoch 7/10\n",
            "375/375 [==============================] - 1s 3ms/step - loss: 0.0244 - accuracy: 0.9933 - val_loss: 0.0845 - val_accuracy: 0.9769\n",
            "Epoch 8/10\n",
            "375/375 [==============================] - 1s 3ms/step - loss: 0.0188 - accuracy: 0.9945 - val_loss: 0.0813 - val_accuracy: 0.9783\n",
            "Epoch 9/10\n",
            "375/375 [==============================] - 1s 3ms/step - loss: 0.0142 - accuracy: 0.9958 - val_loss: 0.0991 - val_accuracy: 0.9744\n",
            "Epoch 10/10\n",
            "375/375 [==============================] - 1s 3ms/step - loss: 0.0110 - accuracy: 0.9970 - val_loss: 0.0831 - val_accuracy: 0.9793\n"
          ]
        }
      ],
      "source": [
        "from tensorflow import keras\n",
        "from tensorflow.keras import layers\n",
        "\n",
        "def get_model():\n",
        "    model = keras.Sequential([\n",
        "        layers.Dense(512, activation=\"relu\"),\n",
        "        layers.Dense(10, activation=\"softmax\")\n",
        "    ])\n",
        "    model.compile(optimizer=\"rmsprop\",\n",
        "                  loss=\"sparse_categorical_crossentropy\",\n",
        "                  metrics=[\"accuracy\"])\n",
        "    return model\n",
        "\n",
        "model = get_model()\n",
        "history_noise = model.fit(\n",
        "    train_images_with_noise_channels, train_labels,\n",
        "    epochs=10,\n",
        "    batch_size=128,\n",
        "    validation_split=0.2)\n",
        "\n",
        "model = get_model()\n",
        "history_zeros = model.fit(\n",
        "    train_images_with_zeros_channels, train_labels,\n",
        "    epochs=10,\n",
        "    batch_size=128,\n",
        "    validation_split=0.2)"
      ]
    },
    {
      "cell_type": "markdown",
      "metadata": {
        "id": "uERExjpsxSc8"
      },
      "source": [
        "**Plotting a validation accuracy comparison**"
      ]
    },
    {
      "cell_type": "code",
      "execution_count": null,
      "metadata": {
        "colab": {
          "base_uri": "https://localhost:8080/",
          "height": 313
        },
        "id": "P3PjRPV6xSc8",
        "outputId": "94213d4b-fbaf-4a01-b0d9-5d64b88f9789"
      },
      "outputs": [
        {
          "output_type": "execute_result",
          "data": {
            "text/plain": [
              "<matplotlib.legend.Legend at 0x7f09ec4bf590>"
            ]
          },
          "metadata": {},
          "execution_count": 3
        },
        {
          "output_type": "display_data",
          "data": {
            "text/plain": [
              "<Figure size 432x288 with 1 Axes>"
            ],
            "image/png": "[encoded data removed]"
          },
          "metadata": {
            "needs_background": "light"
          }
        }
      ],
      "source": [
        "import matplotlib.pyplot as plt\n",
        "val_acc_noise = history_noise.history[\"val_accuracy\"]\n",
        "val_acc_zeros = history_zeros.history[\"val_accuracy\"]\n",
        "epochs = range(1, 11)\n",
        "plt.plot(epochs, val_acc_noise, \"b-\",\n",
        "         label=\"Validation accuracy with noise channels\")\n",
        "plt.plot(epochs, val_acc_zeros, \"b--\",\n",
        "         label=\"Validation accuracy with zeros channels\")\n",
        "plt.title(\"Effect of noise channels on validation accuracy\")\n",
        "plt.xlabel(\"Epochs\")\n",
        "plt.ylabel(\"Accuracy\")\n",
        "plt.legend()"
      ]
    },
    {
      "cell_type": "markdown",
      "metadata": {
        "id": "rGDXAczExSc9"
      },
      "source": [
        "### The nature of generalization in deep learning"
      ]
    },
    {
      "cell_type": "markdown",
      "metadata": {
        "id": "o7mqDykpxSc9"
      },
      "source": [
        "**Fitting a MNIST model with randomly shuffled labels**"
      ]
    },
    {
      "cell_type": "code",
      "execution_count": null,
      "metadata": {
        "colab": {
          "base_uri": "https://localhost:8080/"
        },
        "id": "loIxEjE2xSc9",
        "outputId": "d35aa8df-4a9a-4c6c-ea37-0710ac6b42e5"
      },
      "outputs": [
        {
          "output_type": "stream",
          "name": "stdout",
          "text": [
            "Epoch 1/100\n",
            "375/375 [==============================] - 2s 3ms/step - loss: 2.3161 - accuracy: 0.1036 - val_loss: 2.3074 - val_accuracy: 0.1042\n",
            "Epoch 2/100\n",
            "375/375 [==============================] - 1s 3ms/step - loss: 2.2997 - accuracy: 0.1142 - val_loss: 2.3145 - val_accuracy: 0.0997\n",
            "Epoch 3/100\n",
            "375/375 [==============================] - 1s 3ms/step - loss: 2.2911 - accuracy: 0.1250 - val_loss: 2.3196 - val_accuracy: 0.1027\n",
            "Epoch 4/100\n",
            "375/375 [==============================] - 1s 3ms/step - loss: 2.2774 - accuracy: 0.1371 - val_loss: 2.3289 - val_accuracy: 0.1006\n",
            "Epoch 5/100\n",
            "375/375 [==============================] - 1s 3ms/step - loss: 2.2604 - accuracy: 0.1517 - val_loss: 2.3406 - val_accuracy: 0.0979\n",
            "Epoch 6/100\n",
            "375/375 [==============================] - 1s 3ms/step - loss: 2.2388 - accuracy: 0.1675 - val_loss: 2.3539 - val_accuracy: 0.0985\n",
            "Epoch 7/100\n",
            "375/375 [==============================] - 1s 3ms/step - loss: 2.2139 - accuracy: 0.1834 - val_loss: 2.3777 - val_accuracy: 0.0959\n",
            "Epoch 8/100\n",
            "375/375 [==============================] - 2s 5ms/step - loss: 2.1873 - accuracy: 0.1993 - val_loss: 2.3863 - val_accuracy: 0.0977\n",
            "Epoch 9/100\n",
            "375/375 [==============================] - 2s 6ms/step - loss: 2.1584 - accuracy: 0.2130 - val_loss: 2.4076 - val_accuracy: 0.0991\n",
            "Epoch 10/100\n",
            "375/375 [==============================] - 1s 3ms/step - loss: 2.1270 - accuracy: 0.2316 - val_loss: 2.4366 - val_accuracy: 0.0993\n",
            "Epoch 11/100\n",
            "375/375 [==============================] - 1s 3ms/step - loss: 2.0941 - accuracy: 0.2459 - val_loss: 2.4554 - val_accuracy: 0.0983\n",
            "Epoch 12/100\n",
            "375/375 [==============================] - 1s 3ms/step - loss: 2.0595 - accuracy: 0.2623 - val_loss: 2.4750 - val_accuracy: 0.0995\n",
            "Epoch 13/100\n",
            "375/375 [==============================] - 1s 3ms/step - loss: 2.0263 - accuracy: 0.2768 - val_loss: 2.5191 - val_accuracy: 0.0993\n",
            "Epoch 14/100\n",
            "375/375 [==============================] - 1s 3ms/step - loss: 1.9893 - accuracy: 0.2943 - val_loss: 2.5294 - val_accuracy: 0.1023\n",
            "Epoch 15/100\n",
            "375/375 [==============================] - 1s 3ms/step - loss: 1.9560 - accuracy: 0.3070 - val_loss: 2.5547 - val_accuracy: 0.1002\n",
            "Epoch 16/100\n",
            "375/375 [==============================] - 1s 3ms/step - loss: 1.9227 - accuracy: 0.3215 - val_loss: 2.5903 - val_accuracy: 0.1014\n",
            "Epoch 17/100\n",
            "375/375 [==============================] - 1s 3ms/step - loss: 1.8874 - accuracy: 0.3364 - val_loss: 2.6360 - val_accuracy: 0.1039\n",
            "Epoch 18/100\n",
            "375/375 [==============================] - 1s 3ms/step - loss: 1.8551 - accuracy: 0.3496 - val_loss: 2.6642 - val_accuracy: 0.1011\n",
            "Epoch 19/100\n",
            "375/375 [==============================] - 1s 3ms/step - loss: 1.8215 - accuracy: 0.3594 - val_loss: 2.7057 - val_accuracy: 0.1033\n",
            "Epoch 20/100\n",
            "375/375 [==============================] - 1s 3ms/step - loss: 1.7871 - accuracy: 0.3765 - val_loss: 2.7358 - val_accuracy: 0.1031\n",
            "Epoch 21/100\n",
            "375/375 [==============================] - 1s 3ms/step - loss: 1.7563 - accuracy: 0.3894 - val_loss: 2.7712 - val_accuracy: 0.0983\n",
            "Epoch 22/100\n",
            "375/375 [==============================] - 1s 3ms/step - loss: 1.7254 - accuracy: 0.3988 - val_loss: 2.8007 - val_accuracy: 0.0990\n",
            "Epoch 23/100\n",
            "375/375 [==============================] - 1s 3ms/step - loss: 1.6936 - accuracy: 0.4128 - val_loss: 2.8321 - val_accuracy: 0.1011\n",
            "Epoch 24/100\n",
            "375/375 [==============================] - 1s 3ms/step - loss: 1.6631 - accuracy: 0.4244 - val_loss: 2.9005 - val_accuracy: 0.1006\n",
            "Epoch 25/100\n",
            "375/375 [==============================] - 1s 3ms/step - loss: 1.6338 - accuracy: 0.4340 - val_loss: 2.9227 - val_accuracy: 0.1027\n",
            "Epoch 26/100\n",
            "375/375 [==============================] - 2s 4ms/step - loss: 1.6036 - accuracy: 0.4487 - val_loss: 2.9461 - val_accuracy: 0.1024\n",
            "Epoch 27/100\n",
            "375/375 [==============================] - 2s 4ms/step - loss: 1.5771 - accuracy: 0.4558 - val_loss: 3.0387 - val_accuracy: 0.1050\n",
            "Epoch 28/100\n",
            "375/375 [==============================] - 1s 3ms/step - loss: 1.5476 - accuracy: 0.4646 - val_loss: 3.0544 - val_accuracy: 0.0980\n",
            "Epoch 29/100\n",
            "375/375 [==============================] - 1s 3ms/step - loss: 1.5221 - accuracy: 0.4788 - val_loss: 3.0953 - val_accuracy: 0.1062\n",
            "Epoch 30/100\n",
            "375/375 [==============================] - 1s 3ms/step - loss: 1.4951 - accuracy: 0.4872 - val_loss: 3.1606 - val_accuracy: 0.1014\n",
            "Epoch 31/100\n",
            "375/375 [==============================] - 1s 3ms/step - loss: 1.4699 - accuracy: 0.4976 - val_loss: 3.2051 - val_accuracy: 0.0980\n",
            "Epoch 32/100\n",
            "375/375 [==============================] - 1s 3ms/step - loss: 1.4456 - accuracy: 0.5061 - val_loss: 3.2475 - val_accuracy: 0.1013\n",
            "Epoch 33/100\n",
            "375/375 [==============================] - 1s 3ms/step - loss: 1.4183 - accuracy: 0.5154 - val_loss: 3.2766 - val_accuracy: 0.1002\n",
            "Epoch 34/100\n",
            "375/375 [==============================] - 1s 3ms/step - loss: 1.3950 - accuracy: 0.5235 - val_loss: 3.3036 - val_accuracy: 0.1000\n",
            "Epoch 35/100\n",
            "375/375 [==============================] - 1s 3ms/step - loss: 1.3705 - accuracy: 0.5331 - val_loss: 3.3589 - val_accuracy: 0.1019\n",
            "Epoch 36/100\n",
            "375/375 [==============================] - 1s 3ms/step - loss: 1.3477 - accuracy: 0.5424 - val_loss: 3.4148 - val_accuracy: 0.1000\n",
            "Epoch 37/100\n",
            "375/375 [==============================] - 1s 3ms/step - loss: 1.3251 - accuracy: 0.5485 - val_loss: 3.4502 - val_accuracy: 0.1012\n",
            "Epoch 38/100\n",
            "375/375 [==============================] - 1s 3ms/step - loss: 1.3018 - accuracy: 0.5601 - val_loss: 3.5344 - val_accuracy: 0.1004\n",
            "Epoch 39/100\n",
            "375/375 [==============================] - 1s 3ms/step - loss: 1.2807 - accuracy: 0.5635 - val_loss: 3.5829 - val_accuracy: 0.1007\n",
            "Epoch 40/100\n",
            "375/375 [==============================] - 1s 3ms/step - loss: 1.2584 - accuracy: 0.5753 - val_loss: 3.6322 - val_accuracy: 0.1007\n",
            "Epoch 41/100\n",
            "375/375 [==============================] - 1s 3ms/step - loss: 1.2381 - accuracy: 0.5819 - val_loss: 3.6651 - val_accuracy: 0.1024\n",
            "Epoch 42/100\n",
            "375/375 [==============================] - 2s 4ms/step - loss: 1.2173 - accuracy: 0.5895 - val_loss: 3.7309 - val_accuracy: 0.0996\n",
            "Epoch 43/100\n",
            "375/375 [==============================] - 1s 4ms/step - loss: 1.1973 - accuracy: 0.5955 - val_loss: 3.8197 - val_accuracy: 0.0983\n",
            "Epoch 44/100\n",
            "375/375 [==============================] - 1s 3ms/step - loss: 1.1772 - accuracy: 0.6023 - val_loss: 3.8362 - val_accuracy: 0.0975\n",
            "Epoch 45/100\n",
            "375/375 [==============================] - 2s 4ms/step - loss: 1.1582 - accuracy: 0.6126 - val_loss: 3.9170 - val_accuracy: 0.0988\n",
            "Epoch 46/100\n",
            "375/375 [==============================] - 2s 5ms/step - loss: 1.1403 - accuracy: 0.6154 - val_loss: 3.9515 - val_accuracy: 0.0995\n",
            "Epoch 47/100\n",
            "375/375 [==============================] - 2s 5ms/step - loss: 1.1213 - accuracy: 0.6237 - val_loss: 3.9951 - val_accuracy: 0.1017\n",
            "Epoch 48/100\n",
            "375/375 [==============================] - 2s 6ms/step - loss: 1.1038 - accuracy: 0.6287 - val_loss: 4.0335 - val_accuracy: 0.1026\n",
            "Epoch 49/100\n",
            "375/375 [==============================] - 2s 4ms/step - loss: 1.0851 - accuracy: 0.6368 - val_loss: 4.1508 - val_accuracy: 0.1008\n",
            "Epoch 50/100\n",
            "375/375 [==============================] - 1s 3ms/step - loss: 1.0705 - accuracy: 0.6399 - val_loss: 4.1473 - val_accuracy: 0.0972\n",
            "Epoch 51/100\n",
            "375/375 [==============================] - 1s 3ms/step - loss: 1.0497 - accuracy: 0.6493 - val_loss: 4.2148 - val_accuracy: 0.0959\n",
            "Epoch 52/100\n",
            "375/375 [==============================] - 1s 3ms/step - loss: 1.0356 - accuracy: 0.6511 - val_loss: 4.2506 - val_accuracy: 0.1004\n",
            "Epoch 53/100\n",
            "375/375 [==============================] - 1s 3ms/step - loss: 1.0165 - accuracy: 0.6585 - val_loss: 4.3106 - val_accuracy: 0.1013\n",
            "Epoch 54/100\n",
            "375/375 [==============================] - 1s 3ms/step - loss: 1.0005 - accuracy: 0.6652 - val_loss: 4.4152 - val_accuracy: 0.1024\n",
            "Epoch 55/100\n",
            "375/375 [==============================] - 1s 3ms/step - loss: 0.9870 - accuracy: 0.6717 - val_loss: 4.4440 - val_accuracy: 0.1014\n",
            "Epoch 56/100\n",
            "375/375 [==============================] - 1s 3ms/step - loss: 0.9710 - accuracy: 0.6777 - val_loss: 4.5140 - val_accuracy: 0.1014\n",
            "Epoch 57/100\n",
            "375/375 [==============================] - 1s 3ms/step - loss: 0.9571 - accuracy: 0.6819 - val_loss: 4.5365 - val_accuracy: 0.0996\n",
            "Epoch 58/100\n",
            "375/375 [==============================] - 1s 3ms/step - loss: 0.9412 - accuracy: 0.6860 - val_loss: 4.6104 - val_accuracy: 0.0993\n",
            "Epoch 59/100\n",
            "375/375 [==============================] - 1s 3ms/step - loss: 0.9275 - accuracy: 0.6915 - val_loss: 4.6927 - val_accuracy: 0.0983\n",
            "Epoch 60/100\n",
            "375/375 [==============================] - 1s 3ms/step - loss: 0.9132 - accuracy: 0.6944 - val_loss: 4.7520 - val_accuracy: 0.0978\n",
            "Epoch 61/100\n",
            "375/375 [==============================] - 1s 3ms/step - loss: 0.8982 - accuracy: 0.6996 - val_loss: 4.7689 - val_accuracy: 0.0996\n",
            "Epoch 62/100\n",
            "375/375 [==============================] - 1s 3ms/step - loss: 0.8841 - accuracy: 0.7079 - val_loss: 4.8574 - val_accuracy: 0.0983\n",
            "Epoch 63/100\n",
            "375/375 [==============================] - 1s 3ms/step - loss: 0.8705 - accuracy: 0.7110 - val_loss: 4.9261 - val_accuracy: 0.0962\n",
            "Epoch 64/100\n",
            "375/375 [==============================] - 1s 3ms/step - loss: 0.8563 - accuracy: 0.7152 - val_loss: 4.9812 - val_accuracy: 0.0983\n",
            "Epoch 65/100\n",
            "375/375 [==============================] - 1s 4ms/step - loss: 0.8461 - accuracy: 0.7194 - val_loss: 5.0383 - val_accuracy: 0.0972\n",
            "Epoch 66/100\n",
            "375/375 [==============================] - 1s 3ms/step - loss: 0.8334 - accuracy: 0.7232 - val_loss: 5.0720 - val_accuracy: 0.1017\n",
            "Epoch 67/100\n",
            "375/375 [==============================] - 1s 3ms/step - loss: 0.8197 - accuracy: 0.7285 - val_loss: 5.1824 - val_accuracy: 0.0958\n",
            "Epoch 68/100\n",
            "375/375 [==============================] - 1s 3ms/step - loss: 0.8068 - accuracy: 0.7311 - val_loss: 5.2581 - val_accuracy: 0.0971\n",
            "Epoch 69/100\n",
            "375/375 [==============================] - 1s 3ms/step - loss: 0.7955 - accuracy: 0.7371 - val_loss: 5.2739 - val_accuracy: 0.1016\n",
            "Epoch 70/100\n",
            "375/375 [==============================] - 1s 3ms/step - loss: 0.7836 - accuracy: 0.7417 - val_loss: 5.3545 - val_accuracy: 0.0989\n",
            "Epoch 71/100\n",
            "375/375 [==============================] - 1s 3ms/step - loss: 0.7715 - accuracy: 0.7449 - val_loss: 5.3890 - val_accuracy: 0.1025\n",
            "Epoch 72/100\n",
            "375/375 [==============================] - 1s 3ms/step - loss: 0.7607 - accuracy: 0.7498 - val_loss: 5.5103 - val_accuracy: 0.0960\n",
            "Epoch 73/100\n",
            "375/375 [==============================] - 1s 3ms/step - loss: 0.7474 - accuracy: 0.7542 - val_loss: 5.5409 - val_accuracy: 0.0993\n",
            "Epoch 74/100\n",
            "375/375 [==============================] - 1s 3ms/step - loss: 0.7374 - accuracy: 0.7580 - val_loss: 5.6354 - val_accuracy: 0.0979\n",
            "Epoch 75/100\n",
            "375/375 [==============================] - 1s 3ms/step - loss: 0.7269 - accuracy: 0.7613 - val_loss: 5.6715 - val_accuracy: 0.0982\n",
            "Epoch 76/100\n",
            "375/375 [==============================] - 1s 3ms/step - loss: 0.7134 - accuracy: 0.7658 - val_loss: 5.7218 - val_accuracy: 0.0991\n",
            "Epoch 77/100\n",
            "375/375 [==============================] - 1s 3ms/step - loss: 0.7072 - accuracy: 0.7675 - val_loss: 5.7731 - val_accuracy: 0.0980\n",
            "Epoch 78/100\n",
            "375/375 [==============================] - 1s 3ms/step - loss: 0.6961 - accuracy: 0.7731 - val_loss: 5.8480 - val_accuracy: 0.0997\n",
            "Epoch 79/100\n",
            "375/375 [==============================] - 1s 3ms/step - loss: 0.6838 - accuracy: 0.7766 - val_loss: 5.9548 - val_accuracy: 0.0985\n",
            "Epoch 80/100\n",
            "375/375 [==============================] - 1s 3ms/step - loss: 0.6735 - accuracy: 0.7795 - val_loss: 5.9791 - val_accuracy: 0.1011\n",
            "Epoch 81/100\n",
            "375/375 [==============================] - 1s 3ms/step - loss: 0.6638 - accuracy: 0.7835 - val_loss: 6.0822 - val_accuracy: 0.0989\n",
            "Epoch 82/100\n",
            "375/375 [==============================] - 1s 3ms/step - loss: 0.6533 - accuracy: 0.7867 - val_loss: 6.1125 - val_accuracy: 0.0987\n",
            "Epoch 83/100\n",
            "375/375 [==============================] - 1s 3ms/step - loss: 0.6457 - accuracy: 0.7899 - val_loss: 6.2098 - val_accuracy: 0.0986\n",
            "Epoch 84/100\n",
            "375/375 [==============================] - 1s 3ms/step - loss: 0.6354 - accuracy: 0.7937 - val_loss: 6.3162 - val_accuracy: 0.0969\n",
            "Epoch 85/100\n",
            "375/375 [==============================] - 1s 3ms/step - loss: 0.6277 - accuracy: 0.7953 - val_loss: 6.2999 - val_accuracy: 0.0975\n",
            "Epoch 86/100\n",
            "375/375 [==============================] - 1s 3ms/step - loss: 0.6162 - accuracy: 0.7999 - val_loss: 6.3442 - val_accuracy: 0.0982\n",
            "Epoch 87/100\n",
            "375/375 [==============================] - 1s 3ms/step - loss: 0.6081 - accuracy: 0.8018 - val_loss: 6.4830 - val_accuracy: 0.0994\n",
            "Epoch 88/100\n",
            "375/375 [==============================] - 1s 3ms/step - loss: 0.6033 - accuracy: 0.8031 - val_loss: 6.5253 - val_accuracy: 0.1002\n",
            "Epoch 89/100\n",
            "375/375 [==============================] - 1s 3ms/step - loss: 0.5905 - accuracy: 0.8069 - val_loss: 6.6010 - val_accuracy: 0.0983\n",
            "Epoch 90/100\n",
            "375/375 [==============================] - 1s 3ms/step - loss: 0.5831 - accuracy: 0.8102 - val_loss: 6.6439 - val_accuracy: 0.0972\n",
            "Epoch 91/100\n",
            "375/375 [==============================] - 1s 3ms/step - loss: 0.5755 - accuracy: 0.8148 - val_loss: 6.7135 - val_accuracy: 0.0999\n",
            "Epoch 92/100\n",
            "375/375 [==============================] - 1s 3ms/step - loss: 0.5668 - accuracy: 0.8175 - val_loss: 6.7874 - val_accuracy: 0.0975\n",
            "Epoch 93/100\n",
            "375/375 [==============================] - 1s 3ms/step - loss: 0.5589 - accuracy: 0.8186 - val_loss: 6.8552 - val_accuracy: 0.0967\n",
            "Epoch 94/100\n",
            "375/375 [==============================] - 1s 3ms/step - loss: 0.5523 - accuracy: 0.8206 - val_loss: 6.8904 - val_accuracy: 0.1017\n",
            "Epoch 95/100\n",
            "375/375 [==============================] - 1s 3ms/step - loss: 0.5431 - accuracy: 0.8238 - val_loss: 6.9740 - val_accuracy: 0.0983\n",
            "Epoch 96/100\n",
            "375/375 [==============================] - 1s 3ms/step - loss: 0.5349 - accuracy: 0.8276 - val_loss: 7.0386 - val_accuracy: 0.1014\n",
            "Epoch 97/100\n",
            "375/375 [==============================] - 1s 3ms/step - loss: 0.5280 - accuracy: 0.8291 - val_loss: 7.1492 - val_accuracy: 0.0997\n",
            "Epoch 98/100\n",
            "375/375 [==============================] - 1s 3ms/step - loss: 0.5203 - accuracy: 0.8346 - val_loss: 7.2293 - val_accuracy: 0.0972\n",
            "Epoch 99/100\n",
            "375/375 [==============================] - 1s 3ms/step - loss: 0.5136 - accuracy: 0.8349 - val_loss: 7.2905 - val_accuracy: 0.0992\n",
            "Epoch 100/100\n",
            "375/375 [==============================] - 1s 3ms/step - loss: 0.5067 - accuracy: 0.8378 - val_loss: 7.3412 - val_accuracy: 0.0965\n"
          ]
        },
        {
          "output_type": "execute_result",
          "data": {
            "text/plain": [
              "<keras.callbacks.History at 0x7f09ec7eab10>"
            ]
          },
          "metadata": {},
          "execution_count": 4
        }
      ],
      "source": [
        "(train_images, train_labels), _ = mnist.load_data()\n",
        "train_images = train_images.reshape((60000, 28 * 28))\n",
        "train_images = train_images.astype(\"float32\") / 255\n",
        "\n",
        "random_train_labels = train_labels[:]\n",
        "np.random.shuffle(random_train_labels)\n",
        "\n",
        "model = keras.Sequential([\n",
        "    layers.Dense(512, activation=\"relu\"),\n",
        "    layers.Dense(10, activation=\"softmax\")\n",
        "])\n",
        "model.compile(optimizer=\"rmsprop\",\n",
        "              loss=\"sparse_categorical_crossentropy\",\n",
        "              metrics=[\"accuracy\"])\n",
        "model.fit(train_images, random_train_labels,\n",
        "          epochs=100,\n",
        "          batch_size=128,\n",
        "          validation_split=0.2)"
      ]
    },
    {
      "cell_type": "markdown",
      "metadata": {
        "id": "HbKxBjt3xSc9"
      },
      "source": [
        "#### The manifold hypothesis"
      ]
    },
    {
      "cell_type": "markdown",
      "metadata": {
        "id": "FZGioPS9xSc-"
      },
      "source": [
        "#### Interpolation as a source of generalization"
      ]
    },
    {
      "cell_type": "markdown",
      "metadata": {
        "id": "WiLG7sU6xSc-"
      },
      "source": [
        "#### Why deep learning works"
      ]
    },
    {
      "cell_type": "markdown",
      "metadata": {
        "id": "U49nsVK4xSc_"
      },
      "source": [
        "#### Training data is paramount"
      ]
    },
    {
      "cell_type": "markdown",
      "metadata": {
        "id": "sokgX6RDxSc_"
      },
      "source": [
        "## Evaluating machine-learning models"
      ]
    },
    {
      "cell_type": "markdown",
      "metadata": {
        "id": "c0tisxMPxSc_"
      },
      "source": [
        "### Training, validation, and test sets"
      ]
    },
    {
      "cell_type": "markdown",
      "metadata": {
        "id": "CW7IwYcixSc_"
      },
      "source": [
        "#### Simple hold-out validation"
      ]
    },
    {
      "cell_type": "markdown",
      "metadata": {
        "id": "DNoBXjC1xSdA"
      },
      "source": [
        "#### K-fold validation"
      ]
    },
    {
      "cell_type": "markdown",
      "metadata": {
        "id": "T0frqruFxSdA"
      },
      "source": [
        "#### Iterated K-fold validation with shuffling"
      ]
    },
    {
      "cell_type": "markdown",
      "metadata": {
        "id": "9u0-5LY_xSdA"
      },
      "source": [
        "### Beating a common-sense baseline"
      ]
    },
    {
      "cell_type": "markdown",
      "metadata": {
        "id": "lwJL5xojxSdA"
      },
      "source": [
        "### Things to keep in mind about model evaluation"
      ]
    },
    {
      "cell_type": "markdown",
      "metadata": {
        "id": "9dWeQ53IxSdA"
      },
      "source": [
        "## Improving model fit"
      ]
    },
    {
      "cell_type": "markdown",
      "metadata": {
        "id": "48lLyVPFxSdA"
      },
      "source": [
        "### Tuning key gradient descent parameters"
      ]
    },
    {
      "cell_type": "markdown",
      "metadata": {
        "id": "n-SKp0aVxSdB"
      },
      "source": [
        "**Training a MNIST model with an incorrectly high learning rate**"
      ]
    },
    {
      "cell_type": "code",
      "execution_count": null,
      "metadata": {
        "colab": {
          "base_uri": "https://localhost:8080/"
        },
        "id": "HXCtfmONxSdB",
        "outputId": "222f2482-2579-4878-9aa6-66fc857f5daa"
      },
      "outputs": [
        {
          "output_type": "stream",
          "name": "stdout",
          "text": [
            "Epoch 1/10\n",
            "375/375 [==============================] - 2s 4ms/step - loss: 879.1729 - accuracy: 0.4098 - val_loss: 2.9711 - val_accuracy: 0.3839\n",
            "Epoch 2/10\n",
            "375/375 [==============================] - 1s 3ms/step - loss: 4.2777 - accuracy: 0.3069 - val_loss: 3.7902 - val_accuracy: 0.3282\n",
            "Epoch 3/10\n",
            "375/375 [==============================] - 1s 3ms/step - loss: 3.1878 - accuracy: 0.2809 - val_loss: 2.3110 - val_accuracy: 0.3046\n",
            "Epoch 4/10\n",
            "375/375 [==============================] - 1s 3ms/step - loss: 3.2784 - accuracy: 0.2926 - val_loss: 2.8661 - val_accuracy: 0.2920\n",
            "Epoch 5/10\n",
            "375/375 [==============================] - 1s 3ms/step - loss: 3.0057 - accuracy: 0.2891 - val_loss: 2.1784 - val_accuracy: 0.3223\n",
            "Epoch 6/10\n",
            "375/375 [==============================] - 1s 3ms/step - loss: 3.0314 - accuracy: 0.2823 - val_loss: 2.0675 - val_accuracy: 0.2496\n",
            "Epoch 7/10\n",
            "375/375 [==============================] - 1s 3ms/step - loss: 2.5055 - accuracy: 0.2840 - val_loss: 2.6610 - val_accuracy: 0.3207\n",
            "Epoch 8/10\n",
            "375/375 [==============================] - 1s 3ms/step - loss: 2.6477 - accuracy: 0.2996 - val_loss: 2.1002 - val_accuracy: 0.2861\n",
            "Epoch 9/10\n",
            "375/375 [==============================] - 1s 3ms/step - loss: 2.3650 - accuracy: 0.3039 - val_loss: 3.6266 - val_accuracy: 0.3013\n",
            "Epoch 10/10\n",
            "375/375 [==============================] - 1s 3ms/step - loss: 2.5029 - accuracy: 0.3123 - val_loss: 3.0357 - val_accuracy: 0.3860\n"
          ]
        },
        {
          "output_type": "execute_result",
          "data": {
            "text/plain": [
              "<keras.callbacks.History at 0x7f09ec4153d0>"
            ]
          },
          "metadata": {},
          "execution_count": 5
        }
      ],
      "source": [
        "(train_images, train_labels), _ = mnist.load_data()\n",
        "train_images = train_images.reshape((60000, 28 * 28))\n",
        "train_images = train_images.astype(\"float32\") / 255\n",
        "\n",
        "model = keras.Sequential([\n",
        "    layers.Dense(512, activation=\"relu\"),\n",
        "    layers.Dense(10, activation=\"softmax\")\n",
        "])\n",
        "model.compile(optimizer=keras.optimizers.RMSprop(1.),\n",
        "              loss=\"sparse_categorical_crossentropy\",\n",
        "              metrics=[\"accuracy\"])\n",
        "model.fit(train_images, train_labels,\n",
        "          epochs=10,\n",
        "          batch_size=128,\n",
        "          validation_split=0.2)"
      ]
    },
    {
      "cell_type": "markdown",
      "metadata": {
        "id": "s8ErvzghxSdB"
      },
      "source": [
        "**The same model with a more appropriate learning rate**"
      ]
    },
    {
      "cell_type": "code",
      "execution_count": null,
      "metadata": {
        "colab": {
          "base_uri": "https://localhost:8080/"
        },
        "id": "JzbCRFbmxSdB",
        "outputId": "80e5960a-e264-45f7-8346-c8f6129c2fa3"
      },
      "outputs": [
        {
          "output_type": "stream",
          "name": "stdout",
          "text": [
            "Epoch 1/10\n",
            "375/375 [==============================] - 2s 3ms/step - loss: 0.3663 - accuracy: 0.9116 - val_loss: 0.1441 - val_accuracy: 0.9601\n",
            "Epoch 2/10\n",
            "375/375 [==============================] - 1s 3ms/step - loss: 0.1422 - accuracy: 0.9632 - val_loss: 0.1258 - val_accuracy: 0.9679\n",
            "Epoch 3/10\n",
            "375/375 [==============================] - 1s 3ms/step - loss: 0.1144 - accuracy: 0.9726 - val_loss: 0.1740 - val_accuracy: 0.9685\n",
            "Epoch 4/10\n",
            "375/375 [==============================] - 1s 3ms/step - loss: 0.0978 - accuracy: 0.9785 - val_loss: 0.2167 - val_accuracy: 0.9668\n",
            "Epoch 5/10\n",
            "375/375 [==============================] - 1s 3ms/step - loss: 0.0888 - accuracy: 0.9814 - val_loss: 0.2022 - val_accuracy: 0.9742\n",
            "Epoch 6/10\n",
            "375/375 [==============================] - 1s 3ms/step - loss: 0.0777 - accuracy: 0.9838 - val_loss: 0.1787 - val_accuracy: 0.9758\n",
            "Epoch 7/10\n",
            "375/375 [==============================] - 1s 3ms/step - loss: 0.0707 - accuracy: 0.9860 - val_loss: 0.2458 - val_accuracy: 0.9733\n",
            "Epoch 8/10\n",
            "375/375 [==============================] - 1s 3ms/step - loss: 0.0725 - accuracy: 0.9871 - val_loss: 0.2631 - val_accuracy: 0.9724\n",
            "Epoch 9/10\n",
            "375/375 [==============================] - 1s 3ms/step - loss: 0.0609 - accuracy: 0.9894 - val_loss: 0.2893 - val_accuracy: 0.9721\n",
            "Epoch 10/10\n",
            "375/375 [==============================] - 1s 3ms/step - loss: 0.0570 - accuracy: 0.9906 - val_loss: 0.2913 - val_accuracy: 0.9741\n"
          ]
        },
        {
          "output_type": "execute_result",
          "data": {
            "text/plain": [
              "<keras.callbacks.History at 0x7f09ec723650>"
            ]
          },
          "metadata": {},
          "execution_count": 6
        }
      ],
      "source": [
        "model = keras.Sequential([\n",
        "    layers.Dense(512, activation=\"relu\"),\n",
        "    layers.Dense(10, activation=\"softmax\")\n",
        "])\n",
        "model.compile(optimizer=keras.optimizers.RMSprop(1e-2),\n",
        "              loss=\"sparse_categorical_crossentropy\",\n",
        "              metrics=[\"accuracy\"])\n",
        "model.fit(train_images, train_labels,\n",
        "          epochs=10,\n",
        "          batch_size=128,\n",
        "          validation_split=0.2)"
      ]
    },
    {
      "cell_type": "markdown",
      "metadata": {
        "id": "j0LblxSLxSdB"
      },
      "source": [
        "### Leveraging better architecture priors"
      ]
    },
    {
      "cell_type": "markdown",
      "metadata": {
        "id": "0712k6r9xSdB"
      },
      "source": [
        "### Increasing model capacity"
      ]
    },
    {
      "cell_type": "markdown",
      "metadata": {
        "id": "E_AWec63xSdC"
      },
      "source": [
        "**A simple logistic regression on MNIST**"
      ]
    },
    {
      "cell_type": "code",
      "execution_count": null,
      "metadata": {
        "colab": {
          "base_uri": "https://localhost:8080/"
        },
        "id": "HyGtmMLMxSdC",
        "outputId": "d5ed72e6-3c74-4a15-af8a-0d23e8de7fd6"
      },
      "outputs": [
        {
          "output_type": "stream",
          "name": "stdout",
          "text": [
            "Epoch 1/20\n",
            "375/375 [==============================] - 1s 3ms/step - loss: 0.6630 - accuracy: 0.8375 - val_loss: 0.3558 - val_accuracy: 0.9038\n",
            "Epoch 2/20\n",
            "375/375 [==============================] - 1s 3ms/step - loss: 0.3504 - accuracy: 0.9034 - val_loss: 0.3060 - val_accuracy: 0.9156\n",
            "Epoch 3/20\n",
            "375/375 [==============================] - 1s 3ms/step - loss: 0.3149 - accuracy: 0.9130 - val_loss: 0.2891 - val_accuracy: 0.9193\n",
            "Epoch 4/20\n",
            "375/375 [==============================] - 1s 3ms/step - loss: 0.2991 - accuracy: 0.9166 - val_loss: 0.2821 - val_accuracy: 0.9216\n",
            "Epoch 5/20\n",
            "375/375 [==============================] - 1s 3ms/step - loss: 0.2893 - accuracy: 0.9190 - val_loss: 0.2756 - val_accuracy: 0.9243\n",
            "Epoch 6/20\n",
            "375/375 [==============================] - 1s 3ms/step - loss: 0.2822 - accuracy: 0.9210 - val_loss: 0.2724 - val_accuracy: 0.9247\n",
            "Epoch 7/20\n",
            "375/375 [==============================] - 1s 3ms/step - loss: 0.2781 - accuracy: 0.9219 - val_loss: 0.2683 - val_accuracy: 0.9260\n",
            "Epoch 8/20\n",
            "375/375 [==============================] - 1s 3ms/step - loss: 0.2742 - accuracy: 0.9232 - val_loss: 0.2674 - val_accuracy: 0.9270\n",
            "Epoch 9/20\n",
            "375/375 [==============================] - 1s 3ms/step - loss: 0.2709 - accuracy: 0.9246 - val_loss: 0.2657 - val_accuracy: 0.9278\n",
            "Epoch 10/20\n",
            "375/375 [==============================] - 1s 3ms/step - loss: 0.2683 - accuracy: 0.9255 - val_loss: 0.2644 - val_accuracy: 0.9263\n",
            "Epoch 11/20\n",
            "375/375 [==============================] - 1s 3ms/step - loss: 0.2666 - accuracy: 0.9255 - val_loss: 0.2652 - val_accuracy: 0.9284\n",
            "Epoch 12/20\n",
            "375/375 [==============================] - 1s 3ms/step - loss: 0.2643 - accuracy: 0.9270 - val_loss: 0.2632 - val_accuracy: 0.9283\n",
            "Epoch 13/20\n",
            "375/375 [==============================] - 1s 3ms/step - loss: 0.2629 - accuracy: 0.9273 - val_loss: 0.2613 - val_accuracy: 0.9307\n",
            "Epoch 14/20\n",
            "375/375 [==============================] - 1s 3ms/step - loss: 0.2615 - accuracy: 0.9277 - val_loss: 0.2625 - val_accuracy: 0.9294\n",
            "Epoch 15/20\n",
            "375/375 [==============================] - 1s 3ms/step - loss: 0.2602 - accuracy: 0.9283 - val_loss: 0.2620 - val_accuracy: 0.9287\n",
            "Epoch 16/20\n",
            "375/375 [==============================] - 1s 3ms/step - loss: 0.2589 - accuracy: 0.9292 - val_loss: 0.2602 - val_accuracy: 0.9304\n",
            "Epoch 17/20\n",
            "375/375 [==============================] - 1s 3ms/step - loss: 0.2580 - accuracy: 0.9294 - val_loss: 0.2597 - val_accuracy: 0.9302\n",
            "Epoch 18/20\n",
            "375/375 [==============================] - 1s 3ms/step - loss: 0.2570 - accuracy: 0.9297 - val_loss: 0.2612 - val_accuracy: 0.9285\n",
            "Epoch 19/20\n",
            "375/375 [==============================] - 1s 3ms/step - loss: 0.2562 - accuracy: 0.9296 - val_loss: 0.2608 - val_accuracy: 0.9303\n",
            "Epoch 20/20\n",
            "375/375 [==============================] - 1s 4ms/step - loss: 0.2553 - accuracy: 0.9305 - val_loss: 0.2631 - val_accuracy: 0.9287\n"
          ]
        }
      ],
      "source": [
        "model = keras.Sequential([layers.Dense(10, activation=\"softmax\")])\n",
        "model.compile(optimizer=\"rmsprop\",\n",
        "              loss=\"sparse_categorical_crossentropy\",\n",
        "              metrics=[\"accuracy\"])\n",
        "history_small_model = model.fit(\n",
        "    train_images, train_labels,\n",
        "    epochs=20,\n",
        "    batch_size=128,\n",
        "    validation_split=0.2)"
      ]
    },
    {
      "cell_type": "code",
      "execution_count": null,
      "metadata": {
        "colab": {
          "base_uri": "https://localhost:8080/",
          "height": 313
        },
        "id": "zuzm-6EvxSdC",
        "outputId": "92cd828c-682a-4b42-dd8b-0d13c5140ebc"
      },
      "outputs": [
        {
          "output_type": "execute_result",
          "data": {
            "text/plain": [
              "<matplotlib.legend.Legend at 0x7f09ec24d6d0>"
            ]
          },
          "metadata": {},
          "execution_count": 8
        },
        {
          "output_type": "display_data",
          "data": {
            "text/plain": [
              "<Figure size 432x288 with 1 Axes>"
            ],
            "image/png": "[encoded data removed]"
          },
          "metadata": {
            "needs_background": "light"
          }
        }
      ],
      "source": [
        "import matplotlib.pyplot as plt\n",
        "val_loss = history_small_model.history[\"val_loss\"]\n",
        "epochs = range(1, 21)\n",
        "plt.plot(epochs, val_loss, \"b--\",\n",
        "         label=\"Validation loss\")\n",
        "plt.title(\"Effect of insufficient model capacity on validation loss\")\n",
        "plt.xlabel(\"Epochs\")\n",
        "plt.ylabel(\"Loss\")\n",
        "plt.legend()"
      ]
    },
    {
      "cell_type": "code",
      "execution_count": null,
      "metadata": {
        "colab": {
          "base_uri": "https://localhost:8080/"
        },
        "id": "g-4erfKjxSdD",
        "outputId": "569c4418-007d-43cd-a11a-53c57b96edda"
      },
      "outputs": [
        {
          "output_type": "stream",
          "name": "stdout",
          "text": [
            "Epoch 1/20\n",
            "375/375 [==============================] - 2s 4ms/step - loss: 0.3670 - accuracy: 0.8968 - val_loss: 0.1888 - val_accuracy: 0.9456\n",
            "Epoch 2/20\n",
            "375/375 [==============================] - 1s 3ms/step - loss: 0.1632 - accuracy: 0.9516 - val_loss: 0.1347 - val_accuracy: 0.9629\n",
            "Epoch 3/20\n",
            "375/375 [==============================] - 1s 3ms/step - loss: 0.1134 - accuracy: 0.9666 - val_loss: 0.1166 - val_accuracy: 0.9643\n",
            "Epoch 4/20\n",
            "375/375 [==============================] - 1s 3ms/step - loss: 0.0875 - accuracy: 0.9735 - val_loss: 0.1125 - val_accuracy: 0.9664\n",
            "Epoch 5/20\n",
            "375/375 [==============================] - 1s 3ms/step - loss: 0.0705 - accuracy: 0.9787 - val_loss: 0.1162 - val_accuracy: 0.9673\n",
            "Epoch 6/20\n",
            "375/375 [==============================] - 1s 3ms/step - loss: 0.0573 - accuracy: 0.9826 - val_loss: 0.0937 - val_accuracy: 0.9743\n",
            "Epoch 7/20\n",
            "375/375 [==============================] - 1s 3ms/step - loss: 0.0479 - accuracy: 0.9847 - val_loss: 0.0912 - val_accuracy: 0.9742\n",
            "Epoch 8/20\n",
            "375/375 [==============================] - 1s 4ms/step - loss: 0.0400 - accuracy: 0.9875 - val_loss: 0.0961 - val_accuracy: 0.9734\n",
            "Epoch 9/20\n",
            "375/375 [==============================] - 1s 3ms/step - loss: 0.0332 - accuracy: 0.9897 - val_loss: 0.0993 - val_accuracy: 0.9727\n",
            "Epoch 10/20\n",
            "375/375 [==============================] - 1s 3ms/step - loss: 0.0291 - accuracy: 0.9911 - val_loss: 0.1017 - val_accuracy: 0.9730\n",
            "Epoch 11/20\n",
            "375/375 [==============================] - 1s 3ms/step - loss: 0.0238 - accuracy: 0.9930 - val_loss: 0.1017 - val_accuracy: 0.9749\n",
            "Epoch 12/20\n",
            "375/375 [==============================] - 1s 3ms/step - loss: 0.0214 - accuracy: 0.9935 - val_loss: 0.1003 - val_accuracy: 0.9756\n",
            "Epoch 13/20\n",
            "375/375 [==============================] - 1s 4ms/step - loss: 0.0173 - accuracy: 0.9948 - val_loss: 0.1151 - val_accuracy: 0.9739\n",
            "Epoch 14/20\n",
            "375/375 [==============================] - 1s 3ms/step - loss: 0.0152 - accuracy: 0.9956 - val_loss: 0.1089 - val_accuracy: 0.9768\n",
            "Epoch 15/20\n",
            "375/375 [==============================] - 1s 3ms/step - loss: 0.0128 - accuracy: 0.9962 - val_loss: 0.1170 - val_accuracy: 0.9760\n",
            "Epoch 16/20\n",
            "375/375 [==============================] - 1s 4ms/step - loss: 0.0111 - accuracy: 0.9963 - val_loss: 0.1216 - val_accuracy: 0.9737\n",
            "Epoch 17/20\n",
            "375/375 [==============================] - 1s 3ms/step - loss: 0.0093 - accuracy: 0.9970 - val_loss: 0.1321 - val_accuracy: 0.9736\n",
            "Epoch 18/20\n",
            "375/375 [==============================] - 1s 3ms/step - loss: 0.0075 - accuracy: 0.9976 - val_loss: 0.1357 - val_accuracy: 0.9737\n",
            "Epoch 19/20\n",
            "375/375 [==============================] - 1s 3ms/step - loss: 0.0073 - accuracy: 0.9977 - val_loss: 0.1472 - val_accuracy: 0.9744\n",
            "Epoch 20/20\n",
            "375/375 [==============================] - 1s 4ms/step - loss: 0.0058 - accuracy: 0.9982 - val_loss: 0.1468 - val_accuracy: 0.9743\n"
          ]
        }
      ],
      "source": [
        "model = keras.Sequential([\n",
        "    layers.Dense(96, activation=\"relu\"),\n",
        "    layers.Dense(96, activation=\"relu\"),\n",
        "    layers.Dense(10, activation=\"softmax\"),\n",
        "])\n",
        "model.compile(optimizer=\"rmsprop\",\n",
        "              loss=\"sparse_categorical_crossentropy\",\n",
        "              metrics=[\"accuracy\"])\n",
        "history_large_model = model.fit(\n",
        "    train_images, train_labels,\n",
        "    epochs=20,\n",
        "    batch_size=128,\n",
        "    validation_split=0.2)"
      ]
    },
    {
      "cell_type": "markdown",
      "metadata": {
        "id": "rZBM_TIZxSdD"
      },
      "source": [
        "## Improving generalization"
      ]
    },
    {
      "cell_type": "markdown",
      "metadata": {
        "id": "xN-4ms_vxSdD"
      },
      "source": [
        "### Dataset curation"
      ]
    },
    {
      "cell_type": "markdown",
      "metadata": {
        "id": "B8EOMownxSdD"
      },
      "source": [
        "### Feature engineering"
      ]
    },
    {
      "cell_type": "markdown",
      "metadata": {
        "id": "-My9J6isxSdD"
      },
      "source": [
        "### Using early stopping"
      ]
    },
    {
      "cell_type": "markdown",
      "metadata": {
        "id": "wymD-lNwxSdD"
      },
      "source": [
        "### Regularizing your model"
      ]
    },
    {
      "cell_type": "markdown",
      "metadata": {
        "id": "dlMrIpvVxSdE"
      },
      "source": [
        "#### Reducing the network's size"
      ]
    },
    {
      "cell_type": "markdown",
      "metadata": {
        "id": "OvOqxbEUxSdE"
      },
      "source": [
        "**Original model**"
      ]
    },
    {
      "cell_type": "code",
      "execution_count": null,
      "metadata": {
        "colab": {
          "base_uri": "https://localhost:8080/"
        },
        "id": "1OJQpRpZxSdE",
        "outputId": "fc16b854-94b1-43f4-dc2c-2a9834749477"
      },
      "outputs": [
        {
          "output_type": "stream",
          "name": "stdout",
          "text": [
            "Downloading data from https://storage.googleapis.com/tensorflow/tf-keras-datasets/imdb.npz\n",
            "17464789/17464789 [==============================] - 0s 0us/step\n",
            "Epoch 1/20\n",
            "30/30 [==============================] - 2s 40ms/step - loss: 0.5393 - accuracy: 0.7913 - val_loss: 0.4276 - val_accuracy: 0.8422\n",
            "Epoch 2/20\n",
            "30/30 [==============================] - 1s 20ms/step - loss: 0.3342 - accuracy: 0.8975 - val_loss: 0.3192 - val_accuracy: 0.8870\n",
            "Epoch 3/20\n",
            "30/30 [==============================] - 1s 21ms/step - loss: 0.2436 - accuracy: 0.9217 - val_loss: 0.2830 - val_accuracy: 0.8913\n",
            "Epoch 4/20\n",
            "30/30 [==============================] - 1s 21ms/step - loss: 0.1913 - accuracy: 0.9388 - val_loss: 0.2941 - val_accuracy: 0.8788\n",
            "Epoch 5/20\n",
            "30/30 [==============================] - 1s 21ms/step - loss: 0.1543 - accuracy: 0.9540 - val_loss: 0.2857 - val_accuracy: 0.8858\n",
            "Epoch 6/20\n",
            "30/30 [==============================] - 1s 20ms/step - loss: 0.1301 - accuracy: 0.9594 - val_loss: 0.2894 - val_accuracy: 0.8876\n",
            "Epoch 7/20\n",
            "30/30 [==============================] - 1s 20ms/step - loss: 0.1110 - accuracy: 0.9659 - val_loss: 0.3146 - val_accuracy: 0.8812\n",
            "Epoch 8/20\n",
            "30/30 [==============================] - 1s 21ms/step - loss: 0.0945 - accuracy: 0.9731 - val_loss: 0.3430 - val_accuracy: 0.8767\n",
            "Epoch 9/20\n",
            "30/30 [==============================] - 1s 21ms/step - loss: 0.0796 - accuracy: 0.9786 - val_loss: 0.3387 - val_accuracy: 0.8813\n",
            "Epoch 10/20\n",
            "30/30 [==============================] - 1s 21ms/step - loss: 0.0671 - accuracy: 0.9822 - val_loss: 0.3614 - val_accuracy: 0.8790\n",
            "Epoch 11/20\n",
            "30/30 [==============================] - 1s 21ms/step - loss: 0.0583 - accuracy: 0.9855 - val_loss: 0.3792 - val_accuracy: 0.8772\n",
            "Epoch 12/20\n",
            "30/30 [==============================] - 1s 21ms/step - loss: 0.0474 - accuracy: 0.9885 - val_loss: 0.4064 - val_accuracy: 0.8774\n",
            "Epoch 13/20\n",
            "30/30 [==============================] - 1s 24ms/step - loss: 0.0404 - accuracy: 0.9912 - val_loss: 0.4337 - val_accuracy: 0.8751\n",
            "Epoch 14/20\n",
            "30/30 [==============================] - 1s 21ms/step - loss: 0.0317 - accuracy: 0.9931 - val_loss: 0.4793 - val_accuracy: 0.8710\n",
            "Epoch 15/20\n",
            "30/30 [==============================] - 1s 20ms/step - loss: 0.0278 - accuracy: 0.9941 - val_loss: 0.4985 - val_accuracy: 0.8722\n",
            "Epoch 16/20\n",
            "30/30 [==============================] - 1s 21ms/step - loss: 0.0227 - accuracy: 0.9952 - val_loss: 0.5309 - val_accuracy: 0.8702\n",
            "Epoch 17/20\n",
            "30/30 [==============================] - 1s 21ms/step - loss: 0.0166 - accuracy: 0.9973 - val_loss: 0.5662 - val_accuracy: 0.8685\n",
            "Epoch 18/20\n",
            "30/30 [==============================] - 1s 21ms/step - loss: 0.0149 - accuracy: 0.9979 - val_loss: 0.6371 - val_accuracy: 0.8631\n",
            "Epoch 19/20\n",
            "30/30 [==============================] - 1s 21ms/step - loss: 0.0137 - accuracy: 0.9974 - val_loss: 0.6310 - val_accuracy: 0.8663\n",
            "Epoch 20/20\n",
            "30/30 [==============================] - 1s 20ms/step - loss: 0.0074 - accuracy: 0.9993 - val_loss: 0.6653 - val_accuracy: 0.8657\n"
          ]
        }
      ],
      "source": [
        "from tensorflow.keras.datasets import imdb\n",
        "(train_data, train_labels), _ = imdb.load_data(num_words=10000)\n",
        "\n",
        "def vectorize_sequences(sequences, dimension=10000):\n",
        "    results = np.zeros((len(sequences), dimension))\n",
        "    for i, sequence in enumerate(sequences):\n",
        "        results[i, sequence] = 1.\n",
        "    return results\n",
        "train_data = vectorize_sequences(train_data)\n",
        "\n",
        "model = keras.Sequential([\n",
        "    layers.Dense(16, activation=\"relu\"),\n",
        "    layers.Dense(16, activation=\"relu\"),\n",
        "    layers.Dense(1, activation=\"sigmoid\")\n",
        "])\n",
        "model.compile(optimizer=\"rmsprop\",\n",
        "              loss=\"binary_crossentropy\",\n",
        "              metrics=[\"accuracy\"])\n",
        "history_original = model.fit(train_data, train_labels,\n",
        "                             epochs=20, batch_size=512, validation_split=0.4)"
      ]
    },
    {
      "cell_type": "markdown",
      "metadata": {
        "id": "tE-xRLWsxSdE"
      },
      "source": [
        "**Version of the model with lower capacity**"
      ]
    },
    {
      "cell_type": "code",
      "execution_count": null,
      "metadata": {
        "colab": {
          "base_uri": "https://localhost:8080/"
        },
        "id": "M3S5UtYHxSdE",
        "outputId": "6908b136-dfe3-49ce-f7e2-a015db2737fe"
      },
      "outputs": [
        {
          "output_type": "stream",
          "name": "stdout",
          "text": [
            "Epoch 1/20\n",
            "30/30 [==============================] - 2s 35ms/step - loss: 0.6049 - accuracy: 0.7146 - val_loss: 0.5245 - val_accuracy: 0.8540\n",
            "Epoch 2/20\n",
            "30/30 [==============================] - 1s 21ms/step - loss: 0.4521 - accuracy: 0.8811 - val_loss: 0.4216 - val_accuracy: 0.8773\n",
            "Epoch 3/20\n",
            "30/30 [==============================] - 1s 21ms/step - loss: 0.3518 - accuracy: 0.9121 - val_loss: 0.3556 - val_accuracy: 0.8809\n",
            "Epoch 4/20\n",
            "30/30 [==============================] - 1s 21ms/step - loss: 0.2849 - accuracy: 0.9218 - val_loss: 0.3153 - val_accuracy: 0.8904\n",
            "Epoch 5/20\n",
            "30/30 [==============================] - 1s 21ms/step - loss: 0.2396 - accuracy: 0.9328 - val_loss: 0.2933 - val_accuracy: 0.8919\n",
            "Epoch 6/20\n",
            "30/30 [==============================] - 1s 20ms/step - loss: 0.2063 - accuracy: 0.9401 - val_loss: 0.2875 - val_accuracy: 0.8858\n",
            "Epoch 7/20\n",
            "30/30 [==============================] - 1s 20ms/step - loss: 0.1803 - accuracy: 0.9489 - val_loss: 0.2755 - val_accuracy: 0.8931\n",
            "Epoch 8/20\n",
            "30/30 [==============================] - 1s 21ms/step - loss: 0.1599 - accuracy: 0.9548 - val_loss: 0.2762 - val_accuracy: 0.8905\n",
            "Epoch 9/20\n",
            "30/30 [==============================] - 1s 20ms/step - loss: 0.1435 - accuracy: 0.9593 - val_loss: 0.2753 - val_accuracy: 0.8913\n",
            "Epoch 10/20\n",
            "30/30 [==============================] - 1s 20ms/step - loss: 0.1286 - accuracy: 0.9641 - val_loss: 0.2797 - val_accuracy: 0.8904\n",
            "Epoch 11/20\n",
            "30/30 [==============================] - 1s 20ms/step - loss: 0.1156 - accuracy: 0.9677 - val_loss: 0.2947 - val_accuracy: 0.8842\n",
            "Epoch 12/20\n",
            "30/30 [==============================] - 1s 20ms/step - loss: 0.1050 - accuracy: 0.9719 - val_loss: 0.2940 - val_accuracy: 0.8876\n",
            "Epoch 13/20\n",
            "30/30 [==============================] - 1s 24ms/step - loss: 0.0946 - accuracy: 0.9753 - val_loss: 0.3030 - val_accuracy: 0.8854\n",
            "Epoch 14/20\n",
            "30/30 [==============================] - 1s 23ms/step - loss: 0.0854 - accuracy: 0.9780 - val_loss: 0.3123 - val_accuracy: 0.8855\n",
            "Epoch 15/20\n",
            "30/30 [==============================] - 1s 21ms/step - loss: 0.0771 - accuracy: 0.9806 - val_loss: 0.3283 - val_accuracy: 0.8821\n",
            "Epoch 16/20\n",
            "30/30 [==============================] - 1s 20ms/step - loss: 0.0696 - accuracy: 0.9835 - val_loss: 0.3386 - val_accuracy: 0.8823\n",
            "Epoch 17/20\n",
            "30/30 [==============================] - 1s 21ms/step - loss: 0.0627 - accuracy: 0.9861 - val_loss: 0.3516 - val_accuracy: 0.8817\n",
            "Epoch 18/20\n",
            "30/30 [==============================] - 1s 20ms/step - loss: 0.0566 - accuracy: 0.9881 - val_loss: 0.3686 - val_accuracy: 0.8795\n",
            "Epoch 19/20\n",
            "30/30 [==============================] - 1s 20ms/step - loss: 0.0508 - accuracy: 0.9895 - val_loss: 0.3826 - val_accuracy: 0.8787\n",
            "Epoch 20/20\n",
            "30/30 [==============================] - 1s 19ms/step - loss: 0.0461 - accuracy: 0.9904 - val_loss: 0.3998 - val_accuracy: 0.8769\n"
          ]
        }
      ],
      "source": [
        "model = keras.Sequential([\n",
        "    layers.Dense(4, activation=\"relu\"),\n",
        "    layers.Dense(4, activation=\"relu\"),\n",
        "    layers.Dense(1, activation=\"sigmoid\")\n",
        "])\n",
        "model.compile(optimizer=\"rmsprop\",\n",
        "              loss=\"binary_crossentropy\",\n",
        "              metrics=[\"accuracy\"])\n",
        "history_smaller_model = model.fit(\n",
        "    train_data, train_labels,\n",
        "    epochs=20, batch_size=512, validation_split=0.4)"
      ]
    },
    {
      "cell_type": "markdown",
      "metadata": {
        "id": "2-Zor4GsxSdE"
      },
      "source": [
        "**Version of the model with higher capacity**"
      ]
    },
    {
      "cell_type": "code",
      "execution_count": null,
      "metadata": {
        "colab": {
          "base_uri": "https://localhost:8080/"
        },
        "id": "jmLmCigqxSdF",
        "outputId": "2ddd98a4-d27b-43a1-b465-faa317254dda"
      },
      "outputs": [
        {
          "output_type": "stream",
          "name": "stdout",
          "text": [
            "Epoch 1/20\n",
            "30/30 [==============================] - 2s 40ms/step - loss: 0.5353 - accuracy: 0.7603 - val_loss: 0.4024 - val_accuracy: 0.8154\n",
            "Epoch 2/20\n",
            "30/30 [==============================] - 1s 26ms/step - loss: 0.2585 - accuracy: 0.8980 - val_loss: 0.2668 - val_accuracy: 0.8939\n",
            "Epoch 3/20\n",
            "30/30 [==============================] - 1s 25ms/step - loss: 0.1489 - accuracy: 0.9433 - val_loss: 0.3628 - val_accuracy: 0.8760\n",
            "Epoch 4/20\n",
            "30/30 [==============================] - 1s 25ms/step - loss: 0.1143 - accuracy: 0.9677 - val_loss: 0.3336 - val_accuracy: 0.8897\n",
            "Epoch 5/20\n",
            "30/30 [==============================] - 1s 25ms/step - loss: 0.0501 - accuracy: 0.9860 - val_loss: 0.3667 - val_accuracy: 0.8714\n",
            "Epoch 6/20\n",
            "30/30 [==============================] - 1s 24ms/step - loss: 0.0068 - accuracy: 0.9997 - val_loss: 0.5119 - val_accuracy: 0.8843\n",
            "Epoch 7/20\n",
            "30/30 [==============================] - 1s 24ms/step - loss: 8.2470e-04 - accuracy: 0.9999 - val_loss: 0.6022 - val_accuracy: 0.8879\n",
            "Epoch 8/20\n",
            "30/30 [==============================] - 1s 24ms/step - loss: 0.3036 - accuracy: 0.9809 - val_loss: 0.5067 - val_accuracy: 0.8857\n",
            "Epoch 9/20\n",
            "30/30 [==============================] - 1s 25ms/step - loss: 0.0012 - accuracy: 0.9999 - val_loss: 0.5574 - val_accuracy: 0.8855\n",
            "Epoch 10/20\n",
            "30/30 [==============================] - 1s 24ms/step - loss: 3.7898e-04 - accuracy: 0.9999 - val_loss: 0.6434 - val_accuracy: 0.8850\n",
            "Epoch 11/20\n",
            "30/30 [==============================] - 1s 24ms/step - loss: 4.9389e-05 - accuracy: 1.0000 - val_loss: 0.7262 - val_accuracy: 0.8841\n",
            "Epoch 12/20\n",
            "30/30 [==============================] - 1s 25ms/step - loss: 1.5024e-05 - accuracy: 1.0000 - val_loss: 0.8023 - val_accuracy: 0.8860\n",
            "Epoch 13/20\n",
            "30/30 [==============================] - 1s 27ms/step - loss: 4.6765e-06 - accuracy: 1.0000 - val_loss: 0.8933 - val_accuracy: 0.8851\n",
            "Epoch 14/20\n",
            "30/30 [==============================] - 1s 24ms/step - loss: 1.4082e-06 - accuracy: 1.0000 - val_loss: 0.9835 - val_accuracy: 0.8854\n",
            "Epoch 15/20\n",
            "30/30 [==============================] - 1s 24ms/step - loss: 4.7287e-07 - accuracy: 1.0000 - val_loss: 1.0604 - val_accuracy: 0.8845\n",
            "Epoch 16/20\n",
            "30/30 [==============================] - 1s 24ms/step - loss: 1.6529e-07 - accuracy: 1.0000 - val_loss: 1.1616 - val_accuracy: 0.8840\n",
            "Epoch 17/20\n",
            "30/30 [==============================] - 1s 24ms/step - loss: 7.1388e-08 - accuracy: 1.0000 - val_loss: 1.1817 - val_accuracy: 0.8847\n",
            "Epoch 18/20\n",
            "30/30 [==============================] - 1s 23ms/step - loss: 3.5843e-08 - accuracy: 1.0000 - val_loss: 1.2243 - val_accuracy: 0.8849\n",
            "Epoch 19/20\n",
            "30/30 [==============================] - 1s 24ms/step - loss: 2.2082e-08 - accuracy: 1.0000 - val_loss: 1.2476 - val_accuracy: 0.8846\n",
            "Epoch 20/20\n",
            "30/30 [==============================] - 1s 24ms/step - loss: 1.5559e-08 - accuracy: 1.0000 - val_loss: 1.2670 - val_accuracy: 0.8847\n"
          ]
        }
      ],
      "source": [
        "model = keras.Sequential([\n",
        "    layers.Dense(512, activation=\"relu\"),\n",
        "    layers.Dense(512, activation=\"relu\"),\n",
        "    layers.Dense(1, activation=\"sigmoid\")\n",
        "])\n",
        "model.compile(optimizer=\"rmsprop\",\n",
        "              loss=\"binary_crossentropy\",\n",
        "              metrics=[\"accuracy\"])\n",
        "history_larger_model = model.fit(\n",
        "    train_data, train_labels,\n",
        "    epochs=20, batch_size=512, validation_split=0.4)"
      ]
    },
    {
      "cell_type": "markdown",
      "metadata": {
        "id": "dvvWzPYkxSdF"
      },
      "source": [
        "#### Adding weight regularization"
      ]
    },
    {
      "cell_type": "markdown",
      "metadata": {
        "id": "CsGWZCJcxSdF"
      },
      "source": [
        "**Adding L2 weight regularization to the model**"
      ]
    },
    {
      "cell_type": "code",
      "execution_count": null,
      "metadata": {
        "colab": {
          "base_uri": "https://localhost:8080/"
        },
        "id": "lBjL5PKCxSdF",
        "outputId": "216a94b6-fe42-4849-fa03-cb9154dc8782"
      },
      "outputs": [
        {
          "output_type": "stream",
          "name": "stdout",
          "text": [
            "Epoch 1/20\n",
            "30/30 [==============================] - 2s 35ms/step - loss: 0.5819 - accuracy: 0.7963 - val_loss: 0.4823 - val_accuracy: 0.8427\n",
            "Epoch 2/20\n",
            "30/30 [==============================] - 1s 20ms/step - loss: 0.4002 - accuracy: 0.8947 - val_loss: 0.3904 - val_accuracy: 0.8835\n",
            "Epoch 3/20\n",
            "30/30 [==============================] - 1s 24ms/step - loss: 0.3357 - accuracy: 0.9137 - val_loss: 0.3648 - val_accuracy: 0.8879\n",
            "Epoch 4/20\n",
            "30/30 [==============================] - 1s 20ms/step - loss: 0.3035 - accuracy: 0.9225 - val_loss: 0.3593 - val_accuracy: 0.8872\n",
            "Epoch 5/20\n",
            "30/30 [==============================] - 1s 21ms/step - loss: 0.2838 - accuracy: 0.9299 - val_loss: 0.3871 - val_accuracy: 0.8688\n",
            "Epoch 6/20\n",
            "30/30 [==============================] - 1s 20ms/step - loss: 0.2681 - accuracy: 0.9369 - val_loss: 0.3635 - val_accuracy: 0.8834\n",
            "Epoch 7/20\n",
            "30/30 [==============================] - 1s 20ms/step - loss: 0.2612 - accuracy: 0.9357 - val_loss: 0.3573 - val_accuracy: 0.8843\n",
            "Epoch 8/20\n",
            "30/30 [==============================] - 1s 20ms/step - loss: 0.2499 - accuracy: 0.9408 - val_loss: 0.3636 - val_accuracy: 0.8810\n",
            "Epoch 9/20\n",
            "30/30 [==============================] - 1s 20ms/step - loss: 0.2439 - accuracy: 0.9437 - val_loss: 0.3578 - val_accuracy: 0.8825\n",
            "Epoch 10/20\n",
            "30/30 [==============================] - 1s 20ms/step - loss: 0.2374 - accuracy: 0.9447 - val_loss: 0.4186 - val_accuracy: 0.8626\n",
            "Epoch 11/20\n",
            "30/30 [==============================] - 1s 20ms/step - loss: 0.2315 - accuracy: 0.9475 - val_loss: 0.3661 - val_accuracy: 0.8818\n",
            "Epoch 12/20\n",
            "30/30 [==============================] - 1s 20ms/step - loss: 0.2320 - accuracy: 0.9470 - val_loss: 0.3679 - val_accuracy: 0.8823\n",
            "Epoch 13/20\n",
            "30/30 [==============================] - 1s 20ms/step - loss: 0.2232 - accuracy: 0.9511 - val_loss: 0.3698 - val_accuracy: 0.8814\n",
            "Epoch 14/20\n",
            "30/30 [==============================] - 1s 20ms/step - loss: 0.2246 - accuracy: 0.9490 - val_loss: 0.3833 - val_accuracy: 0.8771\n",
            "Epoch 15/20\n",
            "30/30 [==============================] - 1s 20ms/step - loss: 0.2177 - accuracy: 0.9523 - val_loss: 0.3766 - val_accuracy: 0.8783\n",
            "Epoch 16/20\n",
            "30/30 [==============================] - 1s 20ms/step - loss: 0.2159 - accuracy: 0.9523 - val_loss: 0.3791 - val_accuracy: 0.8789\n",
            "Epoch 17/20\n",
            "30/30 [==============================] - 1s 21ms/step - loss: 0.2133 - accuracy: 0.9563 - val_loss: 0.3906 - val_accuracy: 0.8765\n",
            "Epoch 18/20\n",
            "30/30 [==============================] - 1s 21ms/step - loss: 0.2090 - accuracy: 0.9559 - val_loss: 0.3858 - val_accuracy: 0.8771\n",
            "Epoch 19/20\n",
            "30/30 [==============================] - 1s 20ms/step - loss: 0.2100 - accuracy: 0.9533 - val_loss: 0.4156 - val_accuracy: 0.8723\n",
            "Epoch 20/20\n",
            "30/30 [==============================] - 1s 23ms/step - loss: 0.2022 - accuracy: 0.9580 - val_loss: 0.4025 - val_accuracy: 0.8761\n"
          ]
        }
      ],
      "source": [
        "from tensorflow.keras import regularizers\n",
        "model = keras.Sequential([\n",
        "    layers.Dense(16,\n",
        "                 kernel_regularizer=regularizers.l2(0.002),\n",
        "                 activation=\"relu\"),\n",
        "    layers.Dense(16,\n",
        "                 kernel_regularizer=regularizers.l2(0.002),\n",
        "                 activation=\"relu\"),\n",
        "    layers.Dense(1, activation=\"sigmoid\")\n",
        "])\n",
        "model.compile(optimizer=\"rmsprop\",\n",
        "              loss=\"binary_crossentropy\",\n",
        "              metrics=[\"accuracy\"])\n",
        "history_l2_reg = model.fit(\n",
        "    train_data, train_labels,\n",
        "    epochs=20, batch_size=512, validation_split=0.4)"
      ]
    },
    {
      "cell_type": "markdown",
      "metadata": {
        "id": "LWaJy6OuxSdF"
      },
      "source": [
        "**Different weight regularizers available in Keras**"
      ]
    },
    {
      "cell_type": "code",
      "execution_count": null,
      "metadata": {
        "colab": {
          "base_uri": "https://localhost:8080/"
        },
        "id": "ccNZPTIBxSdG",
        "outputId": "d77ac685-639b-48ed-c929-31a6169227bb"
      },
      "outputs": [
        {
          "output_type": "execute_result",
          "data": {
            "text/plain": [
              "<keras.regularizers.L1L2 at 0x7f093adb1350>"
            ]
          },
          "metadata": {},
          "execution_count": 14
        }
      ],
      "source": [
        "from tensorflow.keras import regularizers\n",
        "regularizers.l1(0.001)\n",
        "regularizers.l1_l2(l1=0.001, l2=0.001)"
      ]
    },
    {
      "cell_type": "markdown",
      "metadata": {
        "id": "TIbwbf8wxSdG"
      },
      "source": [
        "#### Adding dropout"
      ]
    },
    {
      "cell_type": "markdown",
      "metadata": {
        "id": "4givdZ_hxSdG"
      },
      "source": [
        "**Adding dropout to the IMDB model**"
      ]
    },
    {
      "cell_type": "code",
      "execution_count": null,
      "metadata": {
        "colab": {
          "base_uri": "https://localhost:8080/"
        },
        "id": "PSl5QvPtxSdG",
        "outputId": "b8b351af-83dd-4f38-fa3a-a7e065f81555"
      },
      "outputs": [
        {
          "output_type": "stream",
          "name": "stdout",
          "text": [
            "Epoch 1/20\n",
            "30/30 [==============================] - 2s 35ms/step - loss: 0.6274 - accuracy: 0.6465 - val_loss: 0.5195 - val_accuracy: 0.8511\n",
            "Epoch 2/20\n",
            "30/30 [==============================] - 1s 20ms/step - loss: 0.5110 - accuracy: 0.7638 - val_loss: 0.4103 - val_accuracy: 0.8670\n",
            "Epoch 3/20\n",
            "30/30 [==============================] - 1s 21ms/step - loss: 0.4302 - accuracy: 0.8201 - val_loss: 0.3401 - val_accuracy: 0.8853\n",
            "Epoch 4/20\n",
            "30/30 [==============================] - 1s 20ms/step - loss: 0.3698 - accuracy: 0.8554 - val_loss: 0.2984 - val_accuracy: 0.8894\n",
            "Epoch 5/20\n",
            "30/30 [==============================] - 1s 20ms/step - loss: 0.3251 - accuracy: 0.8783 - val_loss: 0.2886 - val_accuracy: 0.8878\n",
            "Epoch 6/20\n",
            "30/30 [==============================] - 1s 20ms/step - loss: 0.2837 - accuracy: 0.8985 - val_loss: 0.2708 - val_accuracy: 0.8962\n",
            "Epoch 7/20\n",
            "30/30 [==============================] - 1s 20ms/step - loss: 0.2500 - accuracy: 0.9146 - val_loss: 0.2725 - val_accuracy: 0.8964\n",
            "Epoch 8/20\n",
            "30/30 [==============================] - 1s 20ms/step - loss: 0.2295 - accuracy: 0.9235 - val_loss: 0.2755 - val_accuracy: 0.8937\n",
            "Epoch 9/20\n",
            "30/30 [==============================] - 1s 24ms/step - loss: 0.2000 - accuracy: 0.9332 - val_loss: 0.2906 - val_accuracy: 0.8930\n",
            "Epoch 10/20\n",
            "30/30 [==============================] - 1s 20ms/step - loss: 0.1771 - accuracy: 0.9398 - val_loss: 0.3261 - val_accuracy: 0.8832\n",
            "Epoch 11/20\n",
            "30/30 [==============================] - 1s 20ms/step - loss: 0.1653 - accuracy: 0.9461 - val_loss: 0.3169 - val_accuracy: 0.8924\n",
            "Epoch 12/20\n",
            "30/30 [==============================] - 1s 24ms/step - loss: 0.1451 - accuracy: 0.9532 - val_loss: 0.3512 - val_accuracy: 0.8886\n",
            "Epoch 13/20\n",
            "30/30 [==============================] - 1s 20ms/step - loss: 0.1368 - accuracy: 0.9547 - val_loss: 0.3722 - val_accuracy: 0.8881\n",
            "Epoch 14/20\n",
            "30/30 [==============================] - 1s 20ms/step - loss: 0.1255 - accuracy: 0.9553 - val_loss: 0.3818 - val_accuracy: 0.8858\n",
            "Epoch 15/20\n",
            "30/30 [==============================] - 1s 20ms/step - loss: 0.1180 - accuracy: 0.9607 - val_loss: 0.3962 - val_accuracy: 0.8868\n",
            "Epoch 16/20\n",
            "30/30 [==============================] - 1s 20ms/step - loss: 0.1106 - accuracy: 0.9619 - val_loss: 0.4320 - val_accuracy: 0.8871\n",
            "Epoch 17/20\n",
            "30/30 [==============================] - 1s 20ms/step - loss: 0.1035 - accuracy: 0.9651 - val_loss: 0.4435 - val_accuracy: 0.8855\n",
            "Epoch 18/20\n",
            "30/30 [==============================] - 1s 20ms/step - loss: 0.0957 - accuracy: 0.9663 - val_loss: 0.4736 - val_accuracy: 0.8858\n",
            "Epoch 19/20\n",
            "30/30 [==============================] - 1s 20ms/step - loss: 0.0948 - accuracy: 0.9670 - val_loss: 0.4991 - val_accuracy: 0.8858\n",
            "Epoch 20/20\n",
            "30/30 [==============================] - 1s 20ms/step - loss: 0.0898 - accuracy: 0.9684 - val_loss: 0.5343 - val_accuracy: 0.8854\n"
          ]
        }
      ],
      "source": [
        "model = keras.Sequential([\n",
        "    layers.Dense(16, activation=\"relu\"),\n",
        "    layers.Dropout(0.5),\n",
        "    layers.Dense(16, activation=\"relu\"),\n",
        "    layers.Dropout(0.5),\n",
        "    layers.Dense(1, activation=\"sigmoid\")\n",
        "])\n",
        "model.compile(optimizer=\"rmsprop\",\n",
        "              loss=\"binary_crossentropy\",\n",
        "              metrics=[\"accuracy\"])\n",
        "history_dropout = model.fit(\n",
        "    train_data, train_labels,\n",
        "    epochs=20, batch_size=512, validation_split=0.4)"
      ]
    },
    {
      "cell_type": "markdown",
      "metadata": {
        "id": "S3KZLmeMxSdG"
      },
      "source": [
        "## Summary"
      ]
    }
  ],
  "metadata": {
    "colab": {
      "collapsed_sections": [],
      "provenance": []
    },
    "kernelspec": {
      "display_name": "Python 3",
      "language": "python",
      "name": "python3"
    },
    "language_info": {
      "codemirror_mode": {
        "name": "ipython",
        "version": 3
      },
      "file_extension": ".py",
      "mimetype": "text/x-python",
      "name": "python",
      "nbconvert_exporter": "python",
      "pygments_lexer": "ipython3",
      "version": "3.7.0"
    },
    "accelerator": "GPU"
  },
  "nbformat": 4,
  "nbformat_minor": 0
}