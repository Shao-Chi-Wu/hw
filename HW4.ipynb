{
  "nbformat": 4,
  "nbformat_minor": 0,
  "metadata": {
    "colab": {
      "provenance": []
    },
    "kernelspec": {
      "name": "python3",
      "display_name": "Python 3"
    },
    "language_info": {
      "name": "python"
    },
    "accelerator": "GPU"
  },
  "cells": [
    {
      "cell_type": "markdown",
      "source": [
        "![image.png](data:image/png;base64,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)\n",
        "\n",
        "\n",
        "\n",
        "*   層(layers)：組成一個神經網路模型\n",
        "*   輸入資料(input data) 與 目標(target)：用來訓練及檢測一個神經網路\n",
        "\n",
        "*   損失函數(loss functions)：取得學習的回饋信號\n",
        "*   優化器(optimizer)：決定學習進行的方式\n",
        "\n",
        "\n",
        "\n"
      ],
      "metadata": {
        "id": "H3nI9Ax0pJf5"
      }
    },
    {
      "cell_type": "markdown",
      "source": [
        "## 層(layers)\n",
        "![image.png](data:image/png;base64,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)\n",
        "### 須包含一層batch 維度，因此在儲存時的維度較訓練資料多一維"
      ],
      "metadata": {
        "id": "D5ZhmgTIqA4e"
      }
    },
    {
      "cell_type": "markdown",
      "source": [
        "## 模型\n",
        "### 神經網路拓樸定義了一個假設空間(hypothesis space，只在該神經網路拓樸下權重參數所有可能的組態)"
      ],
      "metadata": {
        "id": "ykCGZc4tqiMP"
      }
    },
    {
      "cell_type": "markdown",
      "source": [
        "## 損失函數 (loss function)\n",
        "\n",
        "*   二元分類問題：二元交叉熵(binary crossentropy)\n",
        "\n",
        "*   多類別分類問題：分類交叉熵(categorical crossentropy)\n",
        "*   迴歸問題：均方差(meansquared error)\n",
        "\n",
        "\n",
        "*   序列學習問題：連結時序問題(connectionist temporal classfication)\n",
        "\n"
      ],
      "metadata": {
        "id": "6BKswUiVqtU9"
      }
    },
    {
      "cell_type": "code",
      "execution_count": 5,
      "metadata": {
        "colab": {
          "base_uri": "https://localhost:8080/"
        },
        "id": "27IHmi_smcHU",
        "outputId": "e6553ea6-fba0-4852-a75f-c90dee54b92f"
      },
      "outputs": [
        {
          "output_type": "stream",
          "name": "stdout",
          "text": [
            "device: 0, name: Tesla T4, pci bus id: 0000:00:04.0, compute capability: 7.5\n",
            "[PhysicalDevice(name='/physical_device:GPU:0', device_type='GPU')]\n"
          ]
        }
      ],
      "source": [
        "from tensorflow.python.client import device_lib\n",
        "import tensorflow as tf\n",
        "local_device_protos = device_lib.list_local_devices()\n",
        "for x in local_device_protos:\n",
        "    if x.device_type=='GPU':\n",
        "        print(x.physical_device_desc)\n",
        "print(tf.config.list_physical_devices('GPU'))"
      ]
    },
    {
      "cell_type": "markdown",
      "source": [
        "## 二元分類：電影評論為正評或負評\n",
        "\n",
        "### 載入IMDB資料集(Internet Movie Database)"
      ],
      "metadata": {
        "id": "YflroZ5VrEmR"
      }
    },
    {
      "cell_type": "code",
      "source": [
        "from tensorflow.keras.datasets import imdb\n",
        "\n",
        "(train_data,train_labels),(test_data,test_labels) = imdb.load_data(num_words=10000)\n",
        "\n",
        "#num_words表示讀取資料時，只允許「單字對應數字的字典」中編號0~9999的單字載入"
      ],
      "metadata": {
        "id": "cvu1Jy7qrbeT",
        "colab": {
          "base_uri": "https://localhost:8080/"
        },
        "outputId": "09d164b8-be30-4325-b6e3-cebff9a2015f"
      },
      "execution_count": 2,
      "outputs": [
        {
          "output_type": "stream",
          "name": "stdout",
          "text": [
            "Downloading data from https://storage.googleapis.com/tensorflow/tf-keras-datasets/imdb.npz\n",
            "17465344/17464789 [==============================] - 0s 0us/step\n",
            "17473536/17464789 [==============================] - 0s 0us/step\n"
          ]
        }
      ]
    },
    {
      "cell_type": "code",
      "source": [
        "train_data[0]"
      ],
      "metadata": {
        "colab": {
          "base_uri": "https://localhost:8080/"
        },
        "id": "Fhkf3dHXr39t",
        "outputId": "532608e5-1f64-438b-a64a-a297f67fe6cd"
      },
      "execution_count": 7,
      "outputs": [
        {
          "output_type": "execute_result",
          "data": {
            "text/plain": [
              "[1,\n",
              " 14,\n",
              " 22,\n",
              " 16,\n",
              " 43,\n",
              " 530,\n",
              " 973,\n",
              " 1622,\n",
              " 1385,\n",
              " 65,\n",
              " 458,\n",
              " 4468,\n",
              " 66,\n",
              " 3941,\n",
              " 4,\n",
              " 173,\n",
              " 36,\n",
              " 256,\n",
              " 5,\n",
              " 25,\n",
              " 100,\n",
              " 43,\n",
              " 838,\n",
              " 112,\n",
              " 50,\n",
              " 670,\n",
              " 2,\n",
              " 9,\n",
              " 35,\n",
              " 480,\n",
              " 284,\n",
              " 5,\n",
              " 150,\n",
              " 4,\n",
              " 172,\n",
              " 112,\n",
              " 167,\n",
              " 2,\n",
              " 336,\n",
              " 385,\n",
              " 39,\n",
              " 4,\n",
              " 172,\n",
              " 4536,\n",
              " 1111,\n",
              " 17,\n",
              " 546,\n",
              " 38,\n",
              " 13,\n",
              " 447,\n",
              " 4,\n",
              " 192,\n",
              " 50,\n",
              " 16,\n",
              " 6,\n",
              " 147,\n",
              " 2025,\n",
              " 19,\n",
              " 14,\n",
              " 22,\n",
              " 4,\n",
              " 1920,\n",
              " 4613,\n",
              " 469,\n",
              " 4,\n",
              " 22,\n",
              " 71,\n",
              " 87,\n",
              " 12,\n",
              " 16,\n",
              " 43,\n",
              " 530,\n",
              " 38,\n",
              " 76,\n",
              " 15,\n",
              " 13,\n",
              " 1247,\n",
              " 4,\n",
              " 22,\n",
              " 17,\n",
              " 515,\n",
              " 17,\n",
              " 12,\n",
              " 16,\n",
              " 626,\n",
              " 18,\n",
              " 2,\n",
              " 5,\n",
              " 62,\n",
              " 386,\n",
              " 12,\n",
              " 8,\n",
              " 316,\n",
              " 8,\n",
              " 106,\n",
              " 5,\n",
              " 4,\n",
              " 2223,\n",
              " 5244,\n",
              " 16,\n",
              " 480,\n",
              " 66,\n",
              " 3785,\n",
              " 33,\n",
              " 4,\n",
              " 130,\n",
              " 12,\n",
              " 16,\n",
              " 38,\n",
              " 619,\n",
              " 5,\n",
              " 25,\n",
              " 124,\n",
              " 51,\n",
              " 36,\n",
              " 135,\n",
              " 48,\n",
              " 25,\n",
              " 1415,\n",
              " 33,\n",
              " 6,\n",
              " 22,\n",
              " 12,\n",
              " 215,\n",
              " 28,\n",
              " 77,\n",
              " 52,\n",
              " 5,\n",
              " 14,\n",
              " 407,\n",
              " 16,\n",
              " 82,\n",
              " 2,\n",
              " 8,\n",
              " 4,\n",
              " 107,\n",
              " 117,\n",
              " 5952,\n",
              " 15,\n",
              " 256,\n",
              " 4,\n",
              " 2,\n",
              " 7,\n",
              " 3766,\n",
              " 5,\n",
              " 723,\n",
              " 36,\n",
              " 71,\n",
              " 43,\n",
              " 530,\n",
              " 476,\n",
              " 26,\n",
              " 400,\n",
              " 317,\n",
              " 46,\n",
              " 7,\n",
              " 4,\n",
              " 2,\n",
              " 1029,\n",
              " 13,\n",
              " 104,\n",
              " 88,\n",
              " 4,\n",
              " 381,\n",
              " 15,\n",
              " 297,\n",
              " 98,\n",
              " 32,\n",
              " 2071,\n",
              " 56,\n",
              " 26,\n",
              " 141,\n",
              " 6,\n",
              " 194,\n",
              " 7486,\n",
              " 18,\n",
              " 4,\n",
              " 226,\n",
              " 22,\n",
              " 21,\n",
              " 134,\n",
              " 476,\n",
              " 26,\n",
              " 480,\n",
              " 5,\n",
              " 144,\n",
              " 30,\n",
              " 5535,\n",
              " 18,\n",
              " 51,\n",
              " 36,\n",
              " 28,\n",
              " 224,\n",
              " 92,\n",
              " 25,\n",
              " 104,\n",
              " 4,\n",
              " 226,\n",
              " 65,\n",
              " 16,\n",
              " 38,\n",
              " 1334,\n",
              " 88,\n",
              " 12,\n",
              " 16,\n",
              " 283,\n",
              " 5,\n",
              " 16,\n",
              " 4472,\n",
              " 113,\n",
              " 103,\n",
              " 32,\n",
              " 15,\n",
              " 16,\n",
              " 5345,\n",
              " 19,\n",
              " 178,\n",
              " 32]"
            ]
          },
          "metadata": {},
          "execution_count": 7
        }
      ]
    },
    {
      "cell_type": "code",
      "source": [
        "train_labels[0]"
      ],
      "metadata": {
        "colab": {
          "base_uri": "https://localhost:8080/"
        },
        "id": "lZ2XIvfSsIms",
        "outputId": "1161a024-8a7b-45b6-ea0f-bfb3886ff93d"
      },
      "execution_count": 8,
      "outputs": [
        {
          "output_type": "execute_result",
          "data": {
            "text/plain": [
              "1"
            ]
          },
          "metadata": {},
          "execution_count": 8
        }
      ]
    },
    {
      "cell_type": "code",
      "source": [
        "max([max(sequence) for sequence in train_data])"
      ],
      "metadata": {
        "colab": {
          "base_uri": "https://localhost:8080/"
        },
        "id": "7YLd-g29sKWi",
        "outputId": "ca4d2b1e-735d-49df-9aea-1dcb422dc79d"
      },
      "execution_count": 9,
      "outputs": [
        {
          "output_type": "execute_result",
          "data": {
            "text/plain": [
              "9999"
            ]
          },
          "metadata": {},
          "execution_count": 9
        }
      ]
    },
    {
      "cell_type": "markdown",
      "source": [
        "## 將數字還原成文字"
      ],
      "metadata": {
        "id": "3XFl9-QPsOiL"
      }
    },
    {
      "cell_type": "code",
      "source": [
        "word_index = imdb.get_word_index()\n",
        "reverse_word_index = dict(\n",
        "    [(value, key) for (key, value) in word_index.items()])"
      ],
      "metadata": {
        "colab": {
          "base_uri": "https://localhost:8080/"
        },
        "id": "fSguM5vPsQb_",
        "outputId": "1036b14a-4cac-4dad-ef64-228716f1f6c9"
      },
      "execution_count": 3,
      "outputs": [
        {
          "output_type": "stream",
          "name": "stdout",
          "text": [
            "Downloading data from https://storage.googleapis.com/tensorflow/tf-keras-datasets/imdb_word_index.json\n",
            "1646592/1641221 [==============================] - 0s 0us/step\n",
            "1654784/1641221 [==============================] - 0s 0us/step\n"
          ]
        }
      ]
    },
    {
      "cell_type": "code",
      "source": [
        "# word_index\n",
        "counter=0\n",
        "for key in reverse_word_index:\n",
        "    if counter<=30:\n",
        "        print(f'{key}-->{reverse_word_index[key]}')\n",
        "    counter+=1"
      ],
      "metadata": {
        "colab": {
          "base_uri": "https://localhost:8080/"
        },
        "id": "UC4kT2Eqse8T",
        "outputId": "46b7afb0-44a8-4e75-b2d0-b0af41ec8cf6"
      },
      "execution_count": 11,
      "outputs": [
        {
          "output_type": "stream",
          "name": "stdout",
          "text": [
            "34701-->fawn\n",
            "52006-->tsukino\n",
            "52007-->nunnery\n",
            "16816-->sonja\n",
            "63951-->vani\n",
            "1408-->woods\n",
            "16115-->spiders\n",
            "2345-->hanging\n",
            "2289-->woody\n",
            "52008-->trawling\n",
            "52009-->hold's\n",
            "11307-->comically\n",
            "40830-->localized\n",
            "30568-->disobeying\n",
            "52010-->'royale\n",
            "40831-->harpo's\n",
            "52011-->canet\n",
            "19313-->aileen\n",
            "52012-->acurately\n",
            "52013-->diplomat's\n",
            "25242-->rickman\n",
            "6746-->arranged\n",
            "52014-->rumbustious\n",
            "52015-->familiarness\n",
            "52016-->spider'\n",
            "68804-->hahahah\n",
            "52017-->wood'\n",
            "40833-->transvestism\n",
            "34702-->hangin'\n",
            "2338-->bringing\n",
            "40834-->seamier\n"
          ]
        }
      ]
    },
    {
      "cell_type": "code",
      "source": [
        "decoded_review = \" \".join(\n",
        "    [reverse_word_index.get(i - 3, \"?\") for i in train_data[0]])\n",
        "decoded_review"
      ],
      "metadata": {
        "colab": {
          "base_uri": "https://localhost:8080/",
          "height": 140
        },
        "id": "UobnX02IsmJm",
        "outputId": "77a54585-dc71-43f7-b392-716724ab8314"
      },
      "execution_count": 4,
      "outputs": [
        {
          "output_type": "execute_result",
          "data": {
            "text/plain": [
              "\"? this film was just brilliant casting location scenery story direction everyone's really suited the part they played and you could just imagine being there robert ? is an amazing actor and now the same being director ? father came from the same scottish island as myself so i loved the fact there was a real connection with this film the witty remarks throughout the film were great it was just brilliant so much that i bought the film as soon as it was released for ? and would recommend it to everyone to watch and the fly fishing was amazing really cried at the end it was so sad and you know what they say if you cry at a film it must have been good and this definitely was also ? to the two little boy's that played the ? of norman and paul they were just brilliant children are often left out of the ? list i think because the stars that play them all grown up are such a big profile for the whole film but these children are amazing and should be praised for what they have done don't you think the whole story was so lovely because it was true and was someone's life after all that was shared with us all\""
            ],
            "application/vnd.google.colaboratory.intrinsic+json": {
              "type": "string"
            }
          },
          "metadata": {},
          "execution_count": 4
        }
      ]
    },
    {
      "cell_type": "markdown",
      "source": [
        "## Preparing the data\n",
        "### 方法一：\n",
        "\n",
        "1.   填補資料中每個子list的內容，使它們具有相同的長度\n",
        "2.   在將整筆資料轉換成shape (樣本數、填補後的樣本長度)\n",
        "3.   輸入到崁入層(Embedding layer)\n",
        "\n",
        "### 方法二：\n",
        "\n",
        "1.   對資料中每個子list做One-hot編碼，將其轉換成由0與1組成的向量\n",
        "2.   輸入到可處理浮點數的密集層(Dense layer)\n",
        "\n",
        "\n",
        "\n"
      ],
      "metadata": {
        "id": "HLcsgnkfstPL"
      }
    },
    {
      "cell_type": "code",
      "source": [
        "import numpy as np\n",
        "def vectorize_sequences(sequences, dimension=10000):\n",
        "    results = np.zeros((len(sequences), dimension))\n",
        "    for i, sequence in enumerate(sequences):\n",
        "        for j in sequence:\n",
        "            results[i, j] = 1.\n",
        "    return results\n",
        "x_train = vectorize_sequences(train_data)\n",
        "x_test = vectorize_sequences(test_data)"
      ],
      "metadata": {
        "id": "lT8TRv5kt3t4"
      },
      "execution_count": 5,
      "outputs": []
    },
    {
      "cell_type": "code",
      "source": [
        "x_train[0]"
      ],
      "metadata": {
        "colab": {
          "base_uri": "https://localhost:8080/"
        },
        "id": "row55VtvuS8q",
        "outputId": "f2e46c29-1d45-4245-b627-6d9185500508"
      },
      "execution_count": 52,
      "outputs": [
        {
          "output_type": "execute_result",
          "data": {
            "text/plain": [
              "array([0., 1., 1., ..., 0., 0., 0.])"
            ]
          },
          "metadata": {},
          "execution_count": 52
        }
      ]
    },
    {
      "cell_type": "code",
      "source": [
        "y_train = np.array(train_labels).astype('float32')\n",
        "y_train"
      ],
      "metadata": {
        "colab": {
          "base_uri": "https://localhost:8080/"
        },
        "id": "HagK8HFnuWiy",
        "outputId": "ca592155-e5ef-4267-b065-7990cd243fd5"
      },
      "execution_count": 6,
      "outputs": [
        {
          "output_type": "execute_result",
          "data": {
            "text/plain": [
              "array([1., 0., 0., ..., 0., 1., 0.], dtype=float32)"
            ]
          },
          "metadata": {},
          "execution_count": 6
        }
      ]
    },
    {
      "cell_type": "code",
      "source": [
        "y_test = np.array(test_labels).astype('float32')"
      ],
      "metadata": {
        "id": "cPqjxSgXuXWl"
      },
      "execution_count": 7,
      "outputs": []
    },
    {
      "cell_type": "markdown",
      "source": [
        "## 建立神經網路\n",
        "\n",
        "### 建立密集層Dense堆疊結構，需確認的關鍵：\n",
        "\n",
        "*   需要使用多少層?\n",
        "*   每一層要有多少個神經元?\n",
        "\n"
      ],
      "metadata": {
        "id": "84VYCO6BucDj"
      }
    },
    {
      "cell_type": "code",
      "source": [
        "from tensorflow.keras import models\n",
        "from tensorflow.keras import layers\n",
        "from tensorflow.keras.layers import Dropout\n",
        "model = models.Sequential()\n",
        "model.add(Dropout(0.2, input_shape=(10000,)))\n",
        "model.add(layers.Dense(16,activation='relu',input_shape=(10000,)))\n",
        "model.add(layers.Dense(16,activation='relu'))\n",
        "model.add(layers.Dense(1,activation='sigmoid'))"
      ],
      "metadata": {
        "id": "6Mm5tKnpuZ85"
      },
      "execution_count": 8,
      "outputs": []
    },
    {
      "cell_type": "markdown",
      "source": [
        "## 編譯模型"
      ],
      "metadata": {
        "id": "PBlFOZyOuxK9"
      }
    },
    {
      "cell_type": "code",
      "source": [
        "model.compile(optimizer='adam',\n",
        "       loss='binary_crossentropy', # 指定損失函數，並進行compile\n",
        "       metrics=['accuracy'])"
      ],
      "metadata": {
        "id": "tDFuGb9uuzKL"
      },
      "execution_count": 9,
      "outputs": []
    },
    {
      "cell_type": "markdown",
      "source": [
        "## 調整優化器"
      ],
      "metadata": {
        "id": "ORJpiL0hu7BS"
      }
    },
    {
      "cell_type": "code",
      "source": [
        "from tensorflow.keras import optimizers\n",
        "\n",
        "model.compile(optimizer=optimizers.Adam(lr=0.001), #調整優化器參數lr的值\n",
        "       loss='binary_crossentropy',\n",
        "       metrics=['accuracy'])"
      ],
      "metadata": {
        "id": "zEU_lhQ3u89x",
        "colab": {
          "base_uri": "https://localhost:8080/"
        },
        "outputId": "9d277e38-7c13-469f-d794-32af4de62065"
      },
      "execution_count": 10,
      "outputs": [
        {
          "output_type": "stream",
          "name": "stderr",
          "text": [
            "/usr/local/lib/python3.7/dist-packages/keras/optimizer_v2/adam.py:105: UserWarning: The `lr` argument is deprecated, use `learning_rate` instead.\n",
            "  super(Adam, self).__init__(name, **kwargs)\n"
          ]
        }
      ]
    },
    {
      "cell_type": "markdown",
      "source": [
        "## 使用自行定義的損失函數與metrics函數"
      ],
      "metadata": {
        "id": "nhOn3tfPvHg-"
      }
    },
    {
      "cell_type": "code",
      "source": [
        "from tensorflow.keras import losses\n",
        "from tensorflow.keras import metrics\n",
        "\n",
        "model.compile(optimizer=optimizers.Adam(lr=0.001), #調整優化器參數lr的值\n",
        "       loss=losses.binary_crossentropy, # 自行指定其他的損失函數與metrics函數\n",
        "       metrics=[metrics.binary_accuracy])"
      ],
      "metadata": {
        "id": "3pIK3sDkvKDc"
      },
      "execution_count": 11,
      "outputs": []
    },
    {
      "cell_type": "markdown",
      "source": [
        "## 設定驗證資料集\n",
        "### 從原始訓練資料中分離出10000樣本來建立驗證資料集"
      ],
      "metadata": {
        "id": "szMvqG80vMW2"
      }
    },
    {
      "cell_type": "code",
      "source": [
        "x_val = x_train[:10000]\n",
        "partial_x_train = x_train[10000:]\n",
        "\n",
        "y_val = y_train[:10000]\n",
        "partial_y_train = y_train[10000:]"
      ],
      "metadata": {
        "id": "ClcVHb9hvSac"
      },
      "execution_count": 12,
      "outputs": []
    },
    {
      "cell_type": "markdown",
      "source": [
        "## 訓練模型"
      ],
      "metadata": {
        "id": "UvYvDvZUvXxZ"
      }
    },
    {
      "cell_type": "code",
      "source": [
        "model.compile(optimizer='adam', #調整優化器參數lr的值\n",
        "       loss='binary_crossentropy', # 自行指定其他的損失函數與metrics函數\n",
        "       metrics=['acc'])\n",
        "\n",
        "history = model.fit(partial_x_train,\n",
        "           partial_y_train,\n",
        "           epochs=20,\n",
        "           batch_size=512,\n",
        "           validation_data=(x_val,y_val))\n",
        "\n",
        "# model.fit()會回傳一個history的物件"
      ],
      "metadata": {
        "colab": {
          "base_uri": "https://localhost:8080/"
        },
        "id": "n7JessHKvY4s",
        "outputId": "c428de4a-c071-425f-8325-63bc1366efce"
      },
      "execution_count": 13,
      "outputs": [
        {
          "output_type": "stream",
          "name": "stdout",
          "text": [
            "Epoch 1/20\n",
            "30/30 [==============================] - 4s 56ms/step - loss: 0.5783 - acc: 0.7472 - val_loss: 0.4318 - val_acc: 0.8553\n",
            "Epoch 2/20\n",
            "30/30 [==============================] - 1s 23ms/step - loss: 0.3445 - acc: 0.8784 - val_loss: 0.3107 - val_acc: 0.8863\n",
            "Epoch 3/20\n",
            "30/30 [==============================] - 1s 25ms/step - loss: 0.2483 - acc: 0.9101 - val_loss: 0.2799 - val_acc: 0.8910\n",
            "Epoch 4/20\n",
            "30/30 [==============================] - 1s 26ms/step - loss: 0.2021 - acc: 0.9260 - val_loss: 0.2779 - val_acc: 0.8896\n",
            "Epoch 5/20\n",
            "30/30 [==============================] - 1s 28ms/step - loss: 0.1753 - acc: 0.9356 - val_loss: 0.2874 - val_acc: 0.8868\n",
            "Epoch 6/20\n",
            "30/30 [==============================] - 1s 29ms/step - loss: 0.1535 - acc: 0.9439 - val_loss: 0.2912 - val_acc: 0.8855\n",
            "Epoch 7/20\n",
            "30/30 [==============================] - 1s 25ms/step - loss: 0.1371 - acc: 0.9498 - val_loss: 0.3002 - val_acc: 0.8858\n",
            "Epoch 8/20\n",
            "30/30 [==============================] - 1s 25ms/step - loss: 0.1274 - acc: 0.9537 - val_loss: 0.3186 - val_acc: 0.8803\n",
            "Epoch 9/20\n",
            "30/30 [==============================] - 1s 29ms/step - loss: 0.1189 - acc: 0.9548 - val_loss: 0.3280 - val_acc: 0.8781\n",
            "Epoch 10/20\n",
            "30/30 [==============================] - 1s 26ms/step - loss: 0.1135 - acc: 0.9570 - val_loss: 0.3392 - val_acc: 0.8796\n",
            "Epoch 11/20\n",
            "30/30 [==============================] - 1s 27ms/step - loss: 0.1062 - acc: 0.9609 - val_loss: 0.3501 - val_acc: 0.8778\n",
            "Epoch 12/20\n",
            "30/30 [==============================] - 1s 28ms/step - loss: 0.1019 - acc: 0.9623 - val_loss: 0.3662 - val_acc: 0.8782\n",
            "Epoch 13/20\n",
            "30/30 [==============================] - 1s 23ms/step - loss: 0.1003 - acc: 0.9630 - val_loss: 0.3796 - val_acc: 0.8740\n",
            "Epoch 14/20\n",
            "30/30 [==============================] - 1s 25ms/step - loss: 0.0943 - acc: 0.9624 - val_loss: 0.3932 - val_acc: 0.8728\n",
            "Epoch 15/20\n",
            "30/30 [==============================] - 1s 33ms/step - loss: 0.0942 - acc: 0.9630 - val_loss: 0.4028 - val_acc: 0.8741\n",
            "Epoch 16/20\n",
            "30/30 [==============================] - 1s 27ms/step - loss: 0.0856 - acc: 0.9671 - val_loss: 0.4203 - val_acc: 0.8723\n",
            "Epoch 17/20\n",
            "30/30 [==============================] - 1s 24ms/step - loss: 0.0922 - acc: 0.9649 - val_loss: 0.4241 - val_acc: 0.8747\n",
            "Epoch 18/20\n",
            "30/30 [==============================] - 1s 20ms/step - loss: 0.0842 - acc: 0.9673 - val_loss: 0.4338 - val_acc: 0.8721\n",
            "Epoch 19/20\n",
            "30/30 [==============================] - 1s 20ms/step - loss: 0.0864 - acc: 0.9687 - val_loss: 0.4467 - val_acc: 0.8699\n",
            "Epoch 20/20\n",
            "30/30 [==============================] - 1s 23ms/step - loss: 0.0864 - acc: 0.9681 - val_loss: 0.4529 - val_acc: 0.8698\n"
          ]
        }
      ]
    },
    {
      "cell_type": "code",
      "source": [
        "history_dict = history.history\n",
        "history_dict.keys()"
      ],
      "metadata": {
        "colab": {
          "base_uri": "https://localhost:8080/"
        },
        "id": "MDQWThzLvjoD",
        "outputId": "00b83ad1-8401-4bb4-cad2-80c17607e9c0"
      },
      "execution_count": 14,
      "outputs": [
        {
          "output_type": "execute_result",
          "data": {
            "text/plain": [
              "dict_keys(['loss', 'acc', 'val_loss', 'val_acc'])"
            ]
          },
          "metadata": {},
          "execution_count": 14
        }
      ]
    },
    {
      "cell_type": "markdown",
      "source": [
        "## 繪製訓練與驗證的損失函數"
      ],
      "metadata": {
        "id": "PetK40hjwLsl"
      }
    },
    {
      "cell_type": "code",
      "source": [
        "import matplotlib.pyplot as plt\n",
        "\n",
        "history_dict = history.history\n",
        "loss_values = history_dict['loss']\n",
        "val_loss_values = history_dict['val_loss']\n",
        "\n",
        "epochs = range(1,len(loss_values)+1)\n",
        "\n",
        "plt.plot(epochs,loss_values,'bo',label='Training loss')\n",
        "plt.plot(epochs,val_loss_values,'b',label='Validation loss')\n",
        "plt.title('Training and validation loss')\n",
        "plt.xlabel('Epochs')\n",
        "plt.ylabel('Loss')\n",
        "plt.legend()\n",
        "\n",
        "plt.show()"
      ],
      "metadata": {
        "colab": {
          "base_uri": "https://localhost:8080/",
          "height": 295
        },
        "id": "xNDGa3TVwNDc",
        "outputId": "b7664eda-7fa7-4c65-bea9-f928df0fa966"
      },
      "execution_count": 62,
      "outputs": [
        {
          "output_type": "display_data",
          "data": {
            "text/plain": [
              "<Figure size 432x288 with 1 Axes>"
            ],
            "image/png": "[encoded data removed]"
          },
          "metadata": {
            "needs_background": "light"
          }
        }
      ]
    },
    {
      "cell_type": "markdown",
      "source": [
        "## 繪製訓練與驗證的準確度"
      ],
      "metadata": {
        "id": "ZvoSvHOuwRNM"
      }
    },
    {
      "cell_type": "code",
      "source": [
        "import matplotlib.pyplot as plt\n",
        "\n",
        "plt.clf()\n",
        "acc = history_dict['acc']\n",
        "val_acc = history_dict['val_acc']\n",
        "\n",
        "plt.plot(epochs,acc,'bo',label='Training acc')\n",
        "plt.plot(epochs,val_acc,'b',label='Validation acc')\n",
        "plt.title('Training and validation accuracy')\n",
        "plt.xlabel('Epochs')\n",
        "plt.ylabel('Accuracy')\n",
        "plt.legend()\n",
        "\n",
        "plt.show()"
      ],
      "metadata": {
        "colab": {
          "base_uri": "https://localhost:8080/",
          "height": 295
        },
        "id": "2yz0SfT-wSLD",
        "outputId": "ddcfd6e8-7cbc-45e8-fe6a-a9c83e5ddc81"
      },
      "execution_count": 63,
      "outputs": [
        {
          "output_type": "display_data",
          "data": {
            "text/plain": [
              "<Figure size 432x288 with 1 Axes>"
            ],
            "image/png": "[encoded data removed]"
          },
          "metadata": {
            "needs_background": "light"
          }
        }
      ]
    },
    {
      "cell_type": "markdown",
      "source": [
        "### 驗證準確度在第四個周期後，準確度就下降\n",
        "### 發生過度適配(Overfitting)"
      ],
      "metadata": {
        "id": "Vb7KxVC5wZrS"
      }
    },
    {
      "cell_type": "code",
      "source": [
        "model.evaluate(x_test,y_test)"
      ],
      "metadata": {
        "colab": {
          "base_uri": "https://localhost:8080/"
        },
        "id": "UBqEDvYmwd-S",
        "outputId": "6f210a41-8a2d-434b-8b95-2403d0af60a5"
      },
      "execution_count": 15,
      "outputs": [
        {
          "output_type": "stream",
          "name": "stdout",
          "text": [
            "782/782 [==============================] - 2s 3ms/step - loss: 0.5037 - acc: 0.8528\n"
          ]
        },
        {
          "output_type": "execute_result",
          "data": {
            "text/plain": [
              "[0.5036894083023071, 0.8527600169181824]"
            ]
          },
          "metadata": {},
          "execution_count": 15
        }
      ]
    },
    {
      "cell_type": "markdown",
      "source": [
        "## 重新建立訓練模型\n",
        "### 為了防止過度適配，將訓練週期限制在第四個周期後即結束訓練"
      ],
      "metadata": {
        "id": "E1hbDqAcwfuY"
      }
    },
    {
      "cell_type": "code",
      "source": [
        "from tensorflow.keras.layers import Dropout\n",
        "model = models.Sequential()\n",
        "model.add(Dropout(0.2, input_shape=(10000,)))\n",
        "model.add(layers.Dense(16,activation='relu',input_shape=(10000,)))\n",
        "model.add(layers.Dense(16,activation='relu'))\n",
        "model.add(layers.Dense(1,activation='sigmoid'))\n",
        "\n",
        "model.compile(optimizer='rmsprop', #調整優化器參數lr的值\n",
        "       loss='binary_crossentropy', # 自行指定其他的損失函數與metrics函數\n",
        "       metrics=['accuracy'])\n",
        "\n",
        "model.fit(x_train,y_train,epochs=4,batch_size=512)\n",
        "results=model.evaluate(x_test,y_test)"
      ],
      "metadata": {
        "colab": {
          "base_uri": "https://localhost:8080/"
        },
        "id": "SPbruWPYwmFm",
        "outputId": "07b9eea4-6373-49b0-8b15-baff0d054336"
      },
      "execution_count": 16,
      "outputs": [
        {
          "output_type": "stream",
          "name": "stdout",
          "text": [
            "Epoch 1/4\n",
            "49/49 [==============================] - 1s 13ms/step - loss: 0.4632 - accuracy: 0.8110\n",
            "Epoch 2/4\n",
            "49/49 [==============================] - 1s 13ms/step - loss: 0.2838 - accuracy: 0.8947\n",
            "Epoch 3/4\n",
            "49/49 [==============================] - 1s 13ms/step - loss: 0.2404 - accuracy: 0.9099\n",
            "Epoch 4/4\n",
            "49/49 [==============================] - 1s 12ms/step - loss: 0.2110 - accuracy: 0.9189\n",
            "782/782 [==============================] - 2s 3ms/step - loss: 0.2853 - accuracy: 0.8847\n"
          ]
        }
      ]
    },
    {
      "cell_type": "markdown",
      "source": [
        "### 將準確度提升到88%準確度"
      ],
      "metadata": {
        "id": "JoNO48kyw3HC"
      }
    },
    {
      "cell_type": "code",
      "source": [
        "results"
      ],
      "metadata": {
        "colab": {
          "base_uri": "https://localhost:8080/"
        },
        "id": "SVunjaC8wrjg",
        "outputId": "55e02bee-a9c8-4627-b1fe-fe86ae1a8bab"
      },
      "execution_count": 28,
      "outputs": [
        {
          "output_type": "execute_result",
          "data": {
            "text/plain": [
              "[0.2860431969165802, 0.8860800266265869]"
            ]
          },
          "metadata": {},
          "execution_count": 28
        }
      ]
    },
    {
      "cell_type": "markdown",
      "source": [
        "## 使用神經網路對新資料進行預測"
      ],
      "metadata": {
        "id": "3OIA-EwswwfB"
      }
    },
    {
      "cell_type": "code",
      "source": [
        "model.predict(x_test)"
      ],
      "metadata": {
        "colab": {
          "base_uri": "https://localhost:8080/"
        },
        "id": "fdpxoCQow-l4",
        "outputId": "b22cbf9e-dc06-49a4-db3c-3dbe7c3e9311"
      },
      "execution_count": 17,
      "outputs": [
        {
          "output_type": "execute_result",
          "data": {
            "text/plain": [
              "array([[0.22298233],\n",
              "       [0.9989656 ],\n",
              "       [0.92781925],\n",
              "       ...,\n",
              "       [0.16622224],\n",
              "       [0.0714759 ],\n",
              "       [0.5880615 ]], dtype=float32)"
            ]
          },
          "metadata": {},
          "execution_count": 17
        }
      ]
    },
    {
      "cell_type": "markdown",
      "source": [
        "## 延伸實作"
      ],
      "metadata": {
        "id": "P_S7CbMEw1vN"
      }
    },
    {
      "cell_type": "markdown",
      "source": [
        "## **1.**使用一個隱藏層"
      ],
      "metadata": {
        "id": "WknTHG7WxVYC"
      }
    },
    {
      "cell_type": "code",
      "source": [
        "model = models.Sequential()\n",
        "model.add(layers.Dense(16,activation='relu',input_shape=(10000,)))\n",
        "model.add(layers.Dense(1,activation='sigmoid'))\n",
        "\n",
        "model.compile(optimizer='rmsprop', #調整優化器參數lr的值\n",
        "       loss='binary_crossentropy', # 自行指定其他的損失函數與metrics函數\n",
        "       metrics=['accuracy'])\n",
        "\n",
        "model.fit(x_train,y_train,epochs=4,batch_size=512)\n",
        "results=model.evaluate(x_test,y_test)"
      ],
      "metadata": {
        "colab": {
          "base_uri": "https://localhost:8080/"
        },
        "id": "WxmnmmSgxcZG",
        "outputId": "d55558c9-c0b7-4ca5-a566-155b4bef79f2"
      },
      "execution_count": 67,
      "outputs": [
        {
          "output_type": "stream",
          "name": "stdout",
          "text": [
            "Epoch 1/4\n",
            "49/49 [==============================] - 1s 13ms/step - loss: 0.4277 - accuracy: 0.8274\n",
            "Epoch 2/4\n",
            "49/49 [==============================] - 1s 13ms/step - loss: 0.2614 - accuracy: 0.9100\n",
            "Epoch 3/4\n",
            "49/49 [==============================] - 1s 13ms/step - loss: 0.2082 - accuracy: 0.9288\n",
            "Epoch 4/4\n",
            "49/49 [==============================] - 1s 12ms/step - loss: 0.1789 - accuracy: 0.9372\n",
            "782/782 [==============================] - 2s 3ms/step - loss: 0.2848 - accuracy: 0.8861\n"
          ]
        }
      ]
    },
    {
      "cell_type": "markdown",
      "source": [
        "## **2.**使用三個隱藏層"
      ],
      "metadata": {
        "id": "8YX25VKexeTJ"
      }
    },
    {
      "cell_type": "code",
      "source": [
        "model = models.Sequential()\n",
        "model.add(layers.Dense(16,activation='relu',input_shape=(10000,)))\n",
        "model.add(layers.Dense(16,activation='relu'))\n",
        "model.add(layers.Dense(16,activation='relu'))\n",
        "model.add(layers.Dense(1,activation='sigmoid'))\n",
        "\n",
        "model.compile(optimizer=\"rmsprop\",\n",
        "      loss=\"binary_crossentropy\",\n",
        "      metrics=[\"accuracy\"])\n",
        "model.fit(x_train, y_train, epochs=4, batch_size=512)\n",
        "results=model.evaluate(x_test,y_test)"
      ],
      "metadata": {
        "colab": {
          "base_uri": "https://localhost:8080/"
        },
        "id": "q1a9AhsrxkDD",
        "outputId": "2f56cbe9-3e21-4c3a-fd9c-5ae985936cd5"
      },
      "execution_count": 17,
      "outputs": [
        {
          "output_type": "stream",
          "name": "stdout",
          "text": [
            "Epoch 1/4\n",
            "49/49 [==============================] - 1s 12ms/step - loss: 0.5347 - accuracy: 0.7729\n",
            "Epoch 2/4\n",
            "49/49 [==============================] - 1s 13ms/step - loss: 0.2958 - accuracy: 0.9038\n",
            "Epoch 3/4\n",
            "49/49 [==============================] - 1s 13ms/step - loss: 0.2117 - accuracy: 0.9269\n",
            "Epoch 4/4\n",
            "49/49 [==============================] - 1s 12ms/step - loss: 0.1749 - accuracy: 0.9385\n",
            "782/782 [==============================] - 2s 3ms/step - loss: 0.2985 - accuracy: 0.8840\n"
          ]
        }
      ]
    },
    {
      "cell_type": "markdown",
      "source": [
        "## **3.**使用32個單元"
      ],
      "metadata": {
        "id": "9ZUh4f-AxnhT"
      }
    },
    {
      "cell_type": "code",
      "source": [
        "model = models.Sequential()\n",
        "model.add(layers.Dense(128,activation='relu',input_shape=(10000,)))\n",
        "model.add(layers.Dense(64,activation='relu'))\n",
        "model.add(layers.Dense(32,activation='relu'))\n",
        "model.add(layers.Dense(1,activation='sigmoid'))\n",
        "\n",
        "model.compile(optimizer='rmsprop', #調整優化器參數lr的值\n",
        "       loss='binary_crossentropy', # 自行指定其他的損失函數與metrics函數\n",
        "       metrics=['accuracy'])\n",
        "\n",
        "model.fit(x_train,y_train,epochs=4,batch_size=512)\n",
        "results=model.evaluate(x_test,y_test)"
      ],
      "metadata": {
        "colab": {
          "base_uri": "https://localhost:8080/"
        },
        "id": "B1T0uCt4xp-R",
        "outputId": "80433dbf-6175-4e4d-cf74-4881f72dab01"
      },
      "execution_count": 18,
      "outputs": [
        {
          "output_type": "stream",
          "name": "stdout",
          "text": [
            "Epoch 1/4\n",
            "49/49 [==============================] - 1s 13ms/step - loss: 0.4375 - accuracy: 0.8062\n",
            "Epoch 2/4\n",
            "49/49 [==============================] - 1s 13ms/step - loss: 0.2394 - accuracy: 0.9042\n",
            "Epoch 3/4\n",
            "49/49 [==============================] - 1s 13ms/step - loss: 0.1703 - accuracy: 0.9349\n",
            "Epoch 4/4\n",
            "49/49 [==============================] - 1s 13ms/step - loss: 0.1207 - accuracy: 0.9536\n",
            "782/782 [==============================] - 2s 3ms/step - loss: 0.3676 - accuracy: 0.8741\n"
          ]
        }
      ]
    },
    {
      "cell_type": "markdown",
      "source": [
        "## **4.**使用64個單元"
      ],
      "metadata": {
        "id": "2PKaw77bxtQT"
      }
    },
    {
      "cell_type": "code",
      "source": [
        "model = models.Sequential()\n",
        "model.add(layers.Dense(64,activation='relu',input_shape=(10000,)))\n",
        "model.add(layers.Dense(64,activation='relu'))\n",
        "model.add(layers.Dense(1,activation='sigmoid'))\n",
        "\n",
        "model.compile(optimizer='rmsprop', #調整優化器參數lr的值\n",
        "       loss='binary_crossentropy', # 自行指定其他的損失函數與metrics函數\n",
        "       metrics=['accuracy'])\n",
        "\n",
        "model.fit(x_train,y_train,epochs=4,batch_size=512)\n",
        "results=model.evaluate(x_test,y_test)"
      ],
      "metadata": {
        "id": "pc02o4_cxw30",
        "colab": {
          "base_uri": "https://localhost:8080/"
        },
        "outputId": "05fef8c1-b3d3-4f77-8f45-982cdb87c066"
      },
      "execution_count": 17,
      "outputs": [
        {
          "output_type": "stream",
          "name": "stdout",
          "text": [
            "Epoch 1/4\n",
            "49/49 [==============================] - 1s 13ms/step - loss: 0.4151 - accuracy: 0.8170\n",
            "Epoch 2/4\n",
            "49/49 [==============================] - 1s 13ms/step - loss: 0.2394 - accuracy: 0.9068\n",
            "Epoch 3/4\n",
            "49/49 [==============================] - 1s 12ms/step - loss: 0.1813 - accuracy: 0.9316\n",
            "Epoch 4/4\n",
            "49/49 [==============================] - 1s 12ms/step - loss: 0.1461 - accuracy: 0.9454\n",
            "782/782 [==============================] - 2s 3ms/step - loss: 0.3604 - accuracy: 0.8650\n"
          ]
        }
      ]
    },
    {
      "cell_type": "markdown",
      "source": [
        "## **5.**使用mse損失函數"
      ],
      "metadata": {
        "id": "LQQwUFlGxxUH"
      }
    },
    {
      "cell_type": "code",
      "source": [
        "model = models.Sequential()\n",
        "model.add(layers.Dense(16,activation='relu',input_shape=(10000,)))\n",
        "model.add(layers.Dense(16,activation='relu'))\n",
        "model.add(layers.Dense(1,activation='sigmoid'))\n",
        "\n",
        "model.compile(optimizer='rmsprop', #調整優化器參數lr的值\n",
        "       loss='mse', # 自行指定其他的損失函數與metrics函數\n",
        "       metrics=['accuracy'])\n",
        "\n",
        "model.fit(x_train,y_train,epochs=4,batch_size=512)\n",
        "results=model.evaluate(x_test,y_test)"
      ],
      "metadata": {
        "id": "JVE0Mc0_x15n",
        "colab": {
          "base_uri": "https://localhost:8080/"
        },
        "outputId": "2cf7520a-c6c0-45b0-9825-018b23db629b"
      },
      "execution_count": 27,
      "outputs": [
        {
          "output_type": "stream",
          "name": "stdout",
          "text": [
            "Epoch 1/4\n",
            "18/18 [==============================] - 2s 12ms/step - loss: 0.0641 - accuracy: 0.9645\n",
            "Epoch 2/4\n",
            "18/18 [==============================] - 0s 12ms/step - loss: 0.0258 - accuracy: 0.9783\n",
            "Epoch 3/4\n",
            "18/18 [==============================] - 0s 11ms/step - loss: 0.0226 - accuracy: 0.9783\n",
            "Epoch 4/4\n",
            "18/18 [==============================] - 0s 11ms/step - loss: 0.0218 - accuracy: 0.9783\n",
            "71/71 [==============================] - 1s 4ms/step - loss: 0.0218 - accuracy: 0.9783\n"
          ]
        }
      ]
    },
    {
      "cell_type": "markdown",
      "source": [
        "## 多元分類：數位新聞專欄\n",
        "\n",
        "### 建構神經網路，將路透社的新聞專欄分成46個完全不同的主題\n",
        "### 單標籤多類別分類(signal-label,multiclass classfication)"
      ],
      "metadata": {
        "id": "f2bl1Izbx6nB"
      }
    },
    {
      "cell_type": "markdown",
      "source": [
        "## 載入路透社資料集"
      ],
      "metadata": {
        "id": "-IBlwY-wx_Zd"
      }
    },
    {
      "cell_type": "code",
      "source": [
        "from tensorflow.keras.datasets import reuters\n",
        "\n",
        "(train_data,train_labels),(test_data,test_labels) = reuters.load_data(num_words=10000)"
      ],
      "metadata": {
        "id": "OZ6mHjOWyGOd",
        "colab": {
          "base_uri": "https://localhost:8080/"
        },
        "outputId": "42f2e47d-cad9-4b32-cffb-b53c50c296ff"
      },
      "execution_count": 18,
      "outputs": [
        {
          "output_type": "stream",
          "name": "stdout",
          "text": [
            "Downloading data from https://storage.googleapis.com/tensorflow/tf-keras-datasets/reuters.npz\n",
            "2113536/2110848 [==============================] - 0s 0us/step\n",
            "2121728/2110848 [==============================] - 0s 0us/step\n"
          ]
        }
      ]
    },
    {
      "cell_type": "code",
      "source": [
        "len(train_data)"
      ],
      "metadata": {
        "id": "7FcTXQelyJhA",
        "colab": {
          "base_uri": "https://localhost:8080/"
        },
        "outputId": "331ca66e-330b-423c-b478-d67f16ef61b9"
      },
      "execution_count": 2,
      "outputs": [
        {
          "output_type": "execute_result",
          "data": {
            "text/plain": [
              "8982"
            ]
          },
          "metadata": {},
          "execution_count": 2
        }
      ]
    },
    {
      "cell_type": "code",
      "source": [
        "len(test_data)"
      ],
      "metadata": {
        "id": "J6NXAOBbyKEo",
        "colab": {
          "base_uri": "https://localhost:8080/"
        },
        "outputId": "c1f69e49-8b03-4ea3-f501-56fbaef154be"
      },
      "execution_count": 3,
      "outputs": [
        {
          "output_type": "execute_result",
          "data": {
            "text/plain": [
              "2246"
            ]
          },
          "metadata": {},
          "execution_count": 3
        }
      ]
    },
    {
      "cell_type": "code",
      "source": [
        "train_data[10]"
      ],
      "metadata": {
        "id": "MVjE51YVyLZ7",
        "colab": {
          "base_uri": "https://localhost:8080/"
        },
        "outputId": "463de1b9-610e-43c3-9249-54d592ca9028"
      },
      "execution_count": 4,
      "outputs": [
        {
          "output_type": "execute_result",
          "data": {
            "text/plain": [
              "[1,\n",
              " 245,\n",
              " 273,\n",
              " 207,\n",
              " 156,\n",
              " 53,\n",
              " 74,\n",
              " 160,\n",
              " 26,\n",
              " 14,\n",
              " 46,\n",
              " 296,\n",
              " 26,\n",
              " 39,\n",
              " 74,\n",
              " 2979,\n",
              " 3554,\n",
              " 14,\n",
              " 46,\n",
              " 4689,\n",
              " 4329,\n",
              " 86,\n",
              " 61,\n",
              " 3499,\n",
              " 4795,\n",
              " 14,\n",
              " 61,\n",
              " 451,\n",
              " 4329,\n",
              " 17,\n",
              " 12]"
            ]
          },
          "metadata": {},
          "execution_count": 4
        }
      ]
    },
    {
      "cell_type": "markdown",
      "source": [
        "## 將數字還原成文字"
      ],
      "metadata": {
        "id": "4LVVSopoyNth"
      }
    },
    {
      "cell_type": "code",
      "source": [
        "word_index = reuters.get_word_index() #取得單字對應數字的字典\n",
        "reverse_word_index = dict(\n",
        "    [(value,key) for (key,value) in word_index.items()] #反轉為數字對應單字的字典\n",
        ")"
      ],
      "metadata": {
        "id": "UfrDAqVZyOtX",
        "colab": {
          "base_uri": "https://localhost:8080/"
        },
        "outputId": "1db2bd9f-e1c4-4e6a-f241-d082298e8aa5"
      },
      "execution_count": 19,
      "outputs": [
        {
          "output_type": "stream",
          "name": "stdout",
          "text": [
            "Downloading data from https://storage.googleapis.com/tensorflow/tf-keras-datasets/reuters_word_index.json\n",
            "557056/550378 [==============================] - 0s 0us/step\n",
            "565248/550378 [==============================] - 0s 0us/step\n"
          ]
        }
      ]
    },
    {
      "cell_type": "code",
      "source": [
        "decord_newseire = ' '.join([reverse_word_index.get(i-3,'?') for i in train_data[0]])\n",
        "decord_newseire"
      ],
      "metadata": {
        "id": "hylSK-c7yUs0",
        "colab": {
          "base_uri": "https://localhost:8080/",
          "height": 70
        },
        "outputId": "d465c0be-f6ff-48e7-fb6a-fe68ca75b306"
      },
      "execution_count": 20,
      "outputs": [
        {
          "output_type": "execute_result",
          "data": {
            "text/plain": [
              "'? ? ? said as a result of its december acquisition of space co it expects earnings per share in 1987 of 1 15 to 1 30 dlrs per share up from 70 cts in 1986 the company said pretax net should rise to nine to 10 mln dlrs from six mln dlrs in 1986 and rental operation revenues to 19 to 22 mln dlrs from 12 5 mln dlrs it said cash flow per share this year should be 2 50 to three dlrs reuter 3'"
            ],
            "application/vnd.google.colaboratory.intrinsic+json": {
              "type": "string"
            }
          },
          "metadata": {},
          "execution_count": 20
        }
      ]
    },
    {
      "cell_type": "code",
      "source": [
        "train_labels[10] #第10筆訓練資料的標籤為第3類"
      ],
      "metadata": {
        "id": "GDSPBnjwyXWC",
        "colab": {
          "base_uri": "https://localhost:8080/"
        },
        "outputId": "caf76a9a-265e-48d9-9694-33b418578260"
      },
      "execution_count": 21,
      "outputs": [
        {
          "output_type": "execute_result",
          "data": {
            "text/plain": [
              "3"
            ]
          },
          "metadata": {},
          "execution_count": 21
        }
      ]
    },
    {
      "cell_type": "markdown",
      "source": [
        "## 準備資料\n",
        "\n",
        "### 將訓練資料轉換為維度為10000的向量"
      ],
      "metadata": {
        "id": "9OosC_aryc2F"
      }
    },
    {
      "cell_type": "code",
      "source": [
        "import numpy as np\n",
        "\n",
        "def vectorize_sequences(sequences,dimension=10000):\n",
        "  results=np.zeros((len(sequences),dimension))\n",
        "  for i,sequence in enumerate(sequences):\n",
        "    results[i,sequence]=1.\n",
        "  return results"
      ],
      "metadata": {
        "id": "9sHXXt8gyeEO"
      },
      "execution_count": 22,
      "outputs": []
    },
    {
      "cell_type": "code",
      "source": [
        "x_train = vectorize_sequences(train_data) # 將訓練資料向量化"
      ],
      "metadata": {
        "id": "3za3OPcFyyEm"
      },
      "execution_count": 23,
      "outputs": []
    },
    {
      "cell_type": "code",
      "source": [
        "x_test = vectorize_sequences(test_data)"
      ],
      "metadata": {
        "id": "rxbWQSWSy0e_"
      },
      "execution_count": 24,
      "outputs": []
    },
    {
      "cell_type": "markdown",
      "source": [
        "## 對向量進行one-hot編碼"
      ],
      "metadata": {
        "id": "FBzUI7ivzEDl"
      }
    },
    {
      "cell_type": "code",
      "source": [
        "from tensorflow.keras.utils import to_categorical\n",
        "\n",
        "one_hot_train_labels = to_categorical(train_labels)\n",
        "one_hot_test_labels = to_categorical(test_labels)"
      ],
      "metadata": {
        "id": "0VZLUQgJzFNT"
      },
      "execution_count": 45,
      "outputs": []
    },
    {
      "cell_type": "markdown",
      "source": [
        "## 建立神經網路\n",
        "\n"
      ],
      "metadata": {
        "id": "d4r09z-UzKoX"
      }
    },
    {
      "cell_type": "code",
      "source": [
        "from tensorflow.keras import models\n",
        "from tensorflow.keras import layers\n",
        "\n",
        "model = models.Sequential()\n",
        "model.add(layers.Dense(64,activation='relu',input_shape=(10000,)))\n",
        "model.add(layers.Dense(64,activation='relu'))\n",
        "model.add(layers.Dense(46,activation='softmax'))"
      ],
      "metadata": {
        "id": "kEGSVucqzQwQ"
      },
      "execution_count": 46,
      "outputs": []
    },
    {
      "cell_type": "markdown",
      "source": [
        "## 編譯模型"
      ],
      "metadata": {
        "id": "6WeJvkpVzSez"
      }
    },
    {
      "cell_type": "code",
      "source": [
        "model.compile(\n",
        "  optimizer='rmsprop',\n",
        "  loss='categorical_crossentropy',\n",
        "  metrics=['accuracy']\n",
        ")"
      ],
      "metadata": {
        "id": "Ih0zv1dSzTQy"
      },
      "execution_count": 47,
      "outputs": []
    },
    {
      "cell_type": "markdown",
      "source": [
        "## 驗證"
      ],
      "metadata": {
        "id": "72U_9hPOzX8V"
      }
    },
    {
      "cell_type": "code",
      "source": [
        "x_val = x_train[:1000]\n",
        "partial_x_train = x_train[1000:]\n",
        "\n",
        "y_val = one_hot_train_labels[:1000]\n",
        "partial_y_train = one_hot_train_labels[1000:]"
      ],
      "metadata": {
        "id": "N9y2sUq3zbFr"
      },
      "execution_count": 48,
      "outputs": []
    },
    {
      "cell_type": "markdown",
      "source": [
        "## 訓練模型"
      ],
      "metadata": {
        "id": "NpEVn9NBzdxl"
      }
    },
    {
      "cell_type": "code",
      "source": [
        "history = model.fit(\n",
        "    partial_x_train,\n",
        "    partial_y_train,\n",
        "    epochs=20,\n",
        "    batch_size=512,\n",
        "    validation_data=(x_val,y_val))"
      ],
      "metadata": {
        "id": "BvxrrFnizhW-",
        "colab": {
          "base_uri": "https://localhost:8080/"
        },
        "outputId": "27551cfc-1f46-4ed5-8d99-2cee012cb856"
      },
      "execution_count": 49,
      "outputs": [
        {
          "output_type": "stream",
          "name": "stdout",
          "text": [
            "Epoch 1/20\n",
            "16/16 [==============================] - 1s 28ms/step - loss: 2.5572 - accuracy: 0.4714 - val_loss: 1.7232 - val_accuracy: 0.6380\n",
            "Epoch 2/20\n",
            "16/16 [==============================] - 0s 15ms/step - loss: 1.4012 - accuracy: 0.7083 - val_loss: 1.3039 - val_accuracy: 0.7190\n",
            "Epoch 3/20\n",
            "16/16 [==============================] - 0s 18ms/step - loss: 1.0251 - accuracy: 0.7845 - val_loss: 1.1267 - val_accuracy: 0.7520\n",
            "Epoch 4/20\n",
            "16/16 [==============================] - 0s 15ms/step - loss: 0.8066 - accuracy: 0.8252 - val_loss: 1.0097 - val_accuracy: 0.7910\n",
            "Epoch 5/20\n",
            "16/16 [==============================] - 0s 16ms/step - loss: 0.6402 - accuracy: 0.8623 - val_loss: 0.9785 - val_accuracy: 0.7860\n",
            "Epoch 6/20\n",
            "16/16 [==============================] - 0s 15ms/step - loss: 0.5154 - accuracy: 0.8909 - val_loss: 0.9116 - val_accuracy: 0.8130\n",
            "Epoch 7/20\n",
            "16/16 [==============================] - 0s 18ms/step - loss: 0.4127 - accuracy: 0.9157 - val_loss: 0.8920 - val_accuracy: 0.8180\n",
            "Epoch 8/20\n",
            "16/16 [==============================] - 0s 15ms/step - loss: 0.3325 - accuracy: 0.9300 - val_loss: 0.9093 - val_accuracy: 0.8140\n",
            "Epoch 9/20\n",
            "16/16 [==============================] - 0s 16ms/step - loss: 0.2790 - accuracy: 0.9402 - val_loss: 0.9355 - val_accuracy: 0.8030\n",
            "Epoch 10/20\n",
            "16/16 [==============================] - 0s 16ms/step - loss: 0.2349 - accuracy: 0.9451 - val_loss: 0.9175 - val_accuracy: 0.8050\n",
            "Epoch 11/20\n",
            "16/16 [==============================] - 0s 15ms/step - loss: 0.2050 - accuracy: 0.9486 - val_loss: 0.9353 - val_accuracy: 0.8120\n",
            "Epoch 12/20\n",
            "16/16 [==============================] - 0s 15ms/step - loss: 0.1789 - accuracy: 0.9508 - val_loss: 0.9370 - val_accuracy: 0.8110\n",
            "Epoch 13/20\n",
            "16/16 [==============================] - 0s 15ms/step - loss: 0.1636 - accuracy: 0.9540 - val_loss: 0.9915 - val_accuracy: 0.7990\n",
            "Epoch 14/20\n",
            "16/16 [==============================] - 0s 18ms/step - loss: 0.1471 - accuracy: 0.9554 - val_loss: 0.9764 - val_accuracy: 0.8110\n",
            "Epoch 15/20\n",
            "16/16 [==============================] - 0s 15ms/step - loss: 0.1376 - accuracy: 0.9550 - val_loss: 0.9919 - val_accuracy: 0.8120\n",
            "Epoch 16/20\n",
            "16/16 [==============================] - 0s 16ms/step - loss: 0.1292 - accuracy: 0.9550 - val_loss: 0.9977 - val_accuracy: 0.8150\n",
            "Epoch 17/20\n",
            "16/16 [==============================] - 0s 16ms/step - loss: 0.1260 - accuracy: 0.9548 - val_loss: 1.0446 - val_accuracy: 0.8020\n",
            "Epoch 18/20\n",
            "16/16 [==============================] - 0s 15ms/step - loss: 0.1130 - accuracy: 0.9573 - val_loss: 1.0701 - val_accuracy: 0.8000\n",
            "Epoch 19/20\n",
            "16/16 [==============================] - 0s 15ms/step - loss: 0.1194 - accuracy: 0.9570 - val_loss: 1.1185 - val_accuracy: 0.8010\n",
            "Epoch 20/20\n",
            "16/16 [==============================] - 0s 15ms/step - loss: 0.1104 - accuracy: 0.9570 - val_loss: 1.0597 - val_accuracy: 0.8130\n"
          ]
        }
      ]
    },
    {
      "cell_type": "markdown",
      "source": [
        "## 繪製訓練與驗證的損失函數"
      ],
      "metadata": {
        "id": "8lin1Ec7zlDR"
      }
    },
    {
      "cell_type": "code",
      "source": [
        "import matplotlib.pyplot as plt\n",
        "\n",
        "loss = history.history['loss']\n",
        "val_loss = history.history['val_loss']\n",
        "\n",
        "epochs = range(1,len(loss)+1)\n",
        "\n",
        "plt.plot(epochs,loss,'bo',label='Training loss')\n",
        "plt.plot(epochs,val_loss,'b',label='Validation loss')\n",
        "plt.title('Training and validation loss')\n",
        "plt.xlabel('Epochs')\n",
        "plt.ylabel('Loss')\n",
        "plt.legend()\n",
        "\n",
        "plt.show()"
      ],
      "metadata": {
        "id": "6wnXp4Pwzl4g",
        "colab": {
          "base_uri": "https://localhost:8080/",
          "height": 295
        },
        "outputId": "b99c7754-250f-4407-db92-8f851c6f8525"
      },
      "execution_count": 50,
      "outputs": [
        {
          "output_type": "display_data",
          "data": {
            "text/plain": [
              "<Figure size 432x288 with 1 Axes>"
            ],
            "image/png": "[encoded data removed]"
          },
          "metadata": {
            "needs_background": "light"
          }
        }
      ]
    },
    {
      "cell_type": "markdown",
      "source": [
        "## 繪製訓練與驗證的準確度"
      ],
      "metadata": {
        "id": "wjTiSSs0zohV"
      }
    },
    {
      "cell_type": "code",
      "source": [
        "import matplotlib.pyplot as plt\n",
        "\n",
        "plt.clf()\n",
        "acc = history.history['accuracy']\n",
        "val_acc = history.history['val_accuracy']\n",
        "\n",
        "plt.plot(epochs,acc,'bo',label='Training acc')\n",
        "plt.plot(epochs,val_acc,'b',label='Validation acc')\n",
        "plt.title('Training and validation accuracy')\n",
        "plt.xlabel('Epochs')\n",
        "plt.ylabel('Accuracy')\n",
        "plt.legend()\n",
        "\n",
        "plt.show()"
      ],
      "metadata": {
        "id": "2yAtocdozpOT",
        "colab": {
          "base_uri": "https://localhost:8080/",
          "height": 295
        },
        "outputId": "a3bf2485-bac7-4ac6-d5bc-9dbbf4b003b7"
      },
      "execution_count": 51,
      "outputs": [
        {
          "output_type": "display_data",
          "data": {
            "text/plain": [
              "<Figure size 432x288 with 1 Axes>"
            ],
            "image/png": "[encoded data removed]"
          },
          "metadata": {
            "needs_background": "light"
          }
        }
      ]
    },
    {
      "cell_type": "markdown",
      "source": [
        "## 重新建立訓練模型"
      ],
      "metadata": {
        "id": "v6D3O6zPzwBM"
      }
    },
    {
      "cell_type": "code",
      "source": [
        "model = models.Sequential()\n",
        "model.add(layers.Dense(64,activation='relu',input_shape=(10000,)))\n",
        "model.add(layers.Dense(64,activation='relu'))\n",
        "model.add(layers.Dense(46,activation='softmax'))\n",
        "\n",
        "model.compile(\n",
        "  optimizer='rmsprop',\n",
        "  loss='categorical_crossentropy',\n",
        "  metrics=['accuracy']\n",
        ")\n",
        "\n",
        "model.fit(\n",
        "    partial_x_train,\n",
        "    partial_y_train,\n",
        "    epochs=9,\n",
        "    batch_size=512,\n",
        "    validation_data=(x_val,y_val))\n",
        "results=model.evaluate(x_test,one_hot_test_labels)"
      ],
      "metadata": {
        "id": "kmGU9dYKzucd",
        "colab": {
          "base_uri": "https://localhost:8080/"
        },
        "outputId": "4aba1c77-6900-4b11-d6ee-79a34cf3b387"
      },
      "execution_count": 52,
      "outputs": [
        {
          "output_type": "stream",
          "name": "stdout",
          "text": [
            "Epoch 1/9\n",
            "16/16 [==============================] - 1s 25ms/step - loss: 2.7288 - accuracy: 0.5398 - val_loss: 1.8203 - val_accuracy: 0.6490\n",
            "Epoch 2/9\n",
            "16/16 [==============================] - 0s 16ms/step - loss: 1.4641 - accuracy: 0.7085 - val_loss: 1.3181 - val_accuracy: 0.7290\n",
            "Epoch 3/9\n",
            "16/16 [==============================] - 0s 15ms/step - loss: 1.0545 - accuracy: 0.7789 - val_loss: 1.1287 - val_accuracy: 0.7530\n",
            "Epoch 4/9\n",
            "16/16 [==============================] - 0s 15ms/step - loss: 0.8264 - accuracy: 0.8289 - val_loss: 1.0283 - val_accuracy: 0.7910\n",
            "Epoch 5/9\n",
            "16/16 [==============================] - 0s 15ms/step - loss: 0.6559 - accuracy: 0.8623 - val_loss: 0.9694 - val_accuracy: 0.7990\n",
            "Epoch 6/9\n",
            "16/16 [==============================] - 0s 15ms/step - loss: 0.5249 - accuracy: 0.8896 - val_loss: 0.9257 - val_accuracy: 0.8090\n",
            "Epoch 7/9\n",
            "16/16 [==============================] - 0s 15ms/step - loss: 0.4246 - accuracy: 0.9114 - val_loss: 0.8940 - val_accuracy: 0.8140\n",
            "Epoch 8/9\n",
            "16/16 [==============================] - 0s 15ms/step - loss: 0.3498 - accuracy: 0.9260 - val_loss: 0.8901 - val_accuracy: 0.8180\n",
            "Epoch 9/9\n",
            "16/16 [==============================] - 0s 15ms/step - loss: 0.2918 - accuracy: 0.9395 - val_loss: 0.9022 - val_accuracy: 0.8120\n",
            "71/71 [==============================] - 0s 3ms/step - loss: 0.9844 - accuracy: 0.7921\n"
          ]
        }
      ]
    },
    {
      "cell_type": "markdown",
      "source": [
        "### 將準確度提升到80%準確度"
      ],
      "metadata": {
        "id": "p0uqBi8Uz8Pv"
      }
    },
    {
      "cell_type": "code",
      "source": [
        "results"
      ],
      "metadata": {
        "id": "o1TjcQfnz6x5",
        "colab": {
          "base_uri": "https://localhost:8080/"
        },
        "outputId": "949b5efc-3146-42c2-c3b7-65f7cea5d26d"
      },
      "execution_count": 53,
      "outputs": [
        {
          "output_type": "execute_result",
          "data": {
            "text/plain": [
              "[0.9843631386756897, 0.7920747995376587]"
            ]
          },
          "metadata": {},
          "execution_count": 53
        }
      ]
    },
    {
      "cell_type": "code",
      "source": [
        "import copy\n",
        "test_labels_copy = copy.copy(test_labels)\n",
        "np.random.shuffle(test_labels_copy)\n",
        "hits_array = np.array(test_labels) == np.array(test_labels_copy)\n",
        "hits_array.mean()"
      ],
      "metadata": {
        "id": "YIgvN3Z00R3y",
        "colab": {
          "base_uri": "https://localhost:8080/"
        },
        "outputId": "5b9018ba-c33e-4d95-cce7-6a61628ab06f"
      },
      "execution_count": 54,
      "outputs": [
        {
          "output_type": "execute_result",
          "data": {
            "text/plain": [
              "0.19011576135351738"
            ]
          },
          "metadata": {},
          "execution_count": 54
        }
      ]
    },
    {
      "cell_type": "markdown",
      "source": [
        "## Generating predictions on new data"
      ],
      "metadata": {
        "id": "Hn3KfLQH0TYh"
      }
    },
    {
      "cell_type": "code",
      "source": [
        "predictions = model.predict(x_test)"
      ],
      "metadata": {
        "id": "x9FUhgtC0U16"
      },
      "execution_count": 55,
      "outputs": []
    },
    {
      "cell_type": "code",
      "source": [
        "predictions[0].shape"
      ],
      "metadata": {
        "id": "TjvHDP330WRn",
        "colab": {
          "base_uri": "https://localhost:8080/"
        },
        "outputId": "ea96e82a-62a1-4543-b4b8-0bdfdfb8623e"
      },
      "execution_count": 56,
      "outputs": [
        {
          "output_type": "execute_result",
          "data": {
            "text/plain": [
              "(46,)"
            ]
          },
          "metadata": {},
          "execution_count": 56
        }
      ]
    },
    {
      "cell_type": "code",
      "source": [
        "np.sum(predictions[0])"
      ],
      "metadata": {
        "id": "kMzdsRrB0Xup",
        "colab": {
          "base_uri": "https://localhost:8080/"
        },
        "outputId": "512e8ee6-772b-443e-b13e-0ddd3cfc4cd0"
      },
      "execution_count": 57,
      "outputs": [
        {
          "output_type": "execute_result",
          "data": {
            "text/plain": [
              "0.99999994"
            ]
          },
          "metadata": {},
          "execution_count": 57
        }
      ]
    },
    {
      "cell_type": "code",
      "source": [
        "np.argmax(predictions[0])"
      ],
      "metadata": {
        "id": "k_22Y7mt0Y6P",
        "colab": {
          "base_uri": "https://localhost:8080/"
        },
        "outputId": "3de12dc6-4043-4d9b-bc66-d733e230f692"
      },
      "execution_count": 58,
      "outputs": [
        {
          "output_type": "execute_result",
          "data": {
            "text/plain": [
              "3"
            ]
          },
          "metadata": {},
          "execution_count": 58
        }
      ]
    },
    {
      "cell_type": "markdown",
      "source": [
        "## A different way to handle the labels and the loss"
      ],
      "metadata": {
        "id": "5yUhQtvq0dAS"
      }
    },
    {
      "cell_type": "code",
      "source": [
        "y_train = np.array(train_labels)\n",
        "y_test = np.array(test_labels)"
      ],
      "metadata": {
        "id": "VNjsLR330b_W"
      },
      "execution_count": 59,
      "outputs": []
    },
    {
      "cell_type": "code",
      "source": [
        "model.compile(optimizer=\"rmsprop\",\n",
        "              loss=\"sparse_categorical_crossentropy\",\n",
        "              metrics=[\"accuracy\"])"
      ],
      "metadata": {
        "id": "Akg-O6SZ0ff-"
      },
      "execution_count": 60,
      "outputs": []
    },
    {
      "cell_type": "markdown",
      "source": [
        "## 資料瓶頸\n",
        "\n",
        "### 假定最終輸出有46個神經元,中間層應避免使用少於46神經元來傳遞資訊。避免資訊被壓縮\n",
        "\n"
      ],
      "metadata": {
        "id": "aDcULbGZ0kBl"
      }
    },
    {
      "cell_type": "code",
      "source": [
        "model = models.Sequential([\n",
        "    layers.Dense(64, activation=\"relu\"),\n",
        "    layers.Dense(4, activation=\"relu\"),\n",
        "    layers.Dense(46, activation=\"softmax\")\n",
        "])\n",
        "model.compile(optimizer=\"rmsprop\",\n",
        "              loss=\"categorical_crossentropy\",\n",
        "              metrics=[\"accuracy\"])\n",
        "model.fit(partial_x_train,\n",
        "          partial_y_train,\n",
        "          epochs=20,\n",
        "          batch_size=128,\n",
        "          validation_data=(x_val, y_val))"
      ],
      "metadata": {
        "id": "h5u9Cjcl01QD",
        "colab": {
          "base_uri": "https://localhost:8080/"
        },
        "outputId": "7a804854-3829-425b-b8f7-aa2d187cab75"
      },
      "execution_count": 63,
      "outputs": [
        {
          "output_type": "stream",
          "name": "stdout",
          "text": [
            "Epoch 1/20\n",
            "63/63 [==============================] - 1s 9ms/step - loss: 3.2173 - accuracy: 0.1368 - val_loss: 2.5776 - val_accuracy: 0.4200\n",
            "Epoch 2/20\n",
            "63/63 [==============================] - 0s 6ms/step - loss: 2.0982 - accuracy: 0.4568 - val_loss: 1.8509 - val_accuracy: 0.4560\n",
            "Epoch 3/20\n",
            "63/63 [==============================] - 0s 6ms/step - loss: 1.4680 - accuracy: 0.6209 - val_loss: 1.3807 - val_accuracy: 0.6900\n",
            "Epoch 4/20\n",
            "63/63 [==============================] - 0s 7ms/step - loss: 1.1281 - accuracy: 0.7344 - val_loss: 1.2822 - val_accuracy: 0.6980\n",
            "Epoch 5/20\n",
            "63/63 [==============================] - 0s 6ms/step - loss: 0.9932 - accuracy: 0.7556 - val_loss: 1.2470 - val_accuracy: 0.6990\n",
            "Epoch 6/20\n",
            "63/63 [==============================] - 0s 6ms/step - loss: 0.8962 - accuracy: 0.7786 - val_loss: 1.2287 - val_accuracy: 0.7130\n",
            "Epoch 7/20\n",
            "63/63 [==============================] - 0s 6ms/step - loss: 0.8154 - accuracy: 0.8008 - val_loss: 1.2418 - val_accuracy: 0.7190\n",
            "Epoch 8/20\n",
            "63/63 [==============================] - 0s 6ms/step - loss: 0.7467 - accuracy: 0.8103 - val_loss: 1.2304 - val_accuracy: 0.7310\n",
            "Epoch 9/20\n",
            "63/63 [==============================] - 0s 6ms/step - loss: 0.6877 - accuracy: 0.8240 - val_loss: 1.2591 - val_accuracy: 0.7360\n",
            "Epoch 10/20\n",
            "63/63 [==============================] - 0s 6ms/step - loss: 0.6367 - accuracy: 0.8338 - val_loss: 1.2814 - val_accuracy: 0.7330\n",
            "Epoch 11/20\n",
            "63/63 [==============================] - 0s 6ms/step - loss: 0.5947 - accuracy: 0.8415 - val_loss: 1.3144 - val_accuracy: 0.7300\n",
            "Epoch 12/20\n",
            "63/63 [==============================] - 0s 6ms/step - loss: 0.5573 - accuracy: 0.8472 - val_loss: 1.3506 - val_accuracy: 0.7300\n",
            "Epoch 13/20\n",
            "63/63 [==============================] - 0s 6ms/step - loss: 0.5252 - accuracy: 0.8512 - val_loss: 1.3833 - val_accuracy: 0.7320\n",
            "Epoch 14/20\n",
            "63/63 [==============================] - 0s 6ms/step - loss: 0.4942 - accuracy: 0.8584 - val_loss: 1.4055 - val_accuracy: 0.7340\n",
            "Epoch 15/20\n",
            "63/63 [==============================] - 0s 6ms/step - loss: 0.4683 - accuracy: 0.8651 - val_loss: 1.4494 - val_accuracy: 0.7280\n",
            "Epoch 16/20\n",
            "63/63 [==============================] - 0s 7ms/step - loss: 0.4468 - accuracy: 0.8745 - val_loss: 1.5571 - val_accuracy: 0.7180\n",
            "Epoch 17/20\n",
            "63/63 [==============================] - 0s 6ms/step - loss: 0.4260 - accuracy: 0.8827 - val_loss: 1.6051 - val_accuracy: 0.7220\n",
            "Epoch 18/20\n",
            "63/63 [==============================] - 0s 6ms/step - loss: 0.4083 - accuracy: 0.8889 - val_loss: 1.6423 - val_accuracy: 0.7280\n",
            "Epoch 19/20\n",
            "63/63 [==============================] - 0s 6ms/step - loss: 0.3911 - accuracy: 0.8931 - val_loss: 1.7023 - val_accuracy: 0.7190\n",
            "Epoch 20/20\n",
            "63/63 [==============================] - 0s 6ms/step - loss: 0.3752 - accuracy: 0.8971 - val_loss: 1.7248 - val_accuracy: 0.7240\n"
          ]
        },
        {
          "output_type": "execute_result",
          "data": {
            "text/plain": [
              "<keras.callbacks.History at 0x7fac385838d0>"
            ]
          },
          "metadata": {},
          "execution_count": 63
        }
      ]
    },
    {
      "cell_type": "markdown",
      "source": [
        "## 迴歸：預測房價\n",
        "\n",
        "### 預測連續值而不是離散標籤"
      ],
      "metadata": {
        "id": "B18tUU6G01vO"
      }
    },
    {
      "cell_type": "markdown",
      "source": [
        "### 載入1970年代中期波士頓的郊區資料\n",
        "### 本例有506筆資料，分為404個訓練樣本和102個測試資料"
      ],
      "metadata": {
        "id": "ntfwhnNp1BNt"
      }
    },
    {
      "cell_type": "code",
      "source": [
        "from keras.datasets import boston_housing\n",
        "\n",
        "(train_data,train_targets),(test_data,test_targets) = boston_housing.load_data()"
      ],
      "metadata": {
        "id": "lChAVDxh1H0P",
        "colab": {
          "base_uri": "https://localhost:8080/"
        },
        "outputId": "db44e86c-3e4f-40fc-df44-7a9031af6cae"
      },
      "execution_count": 64,
      "outputs": [
        {
          "output_type": "stream",
          "name": "stdout",
          "text": [
            "Downloading data from https://storage.googleapis.com/tensorflow/tf-keras-datasets/boston_housing.npz\n",
            "57344/57026 [==============================] - 0s 0us/step\n",
            "65536/57026 [==================================] - 0s 0us/step\n"
          ]
        }
      ]
    },
    {
      "cell_type": "code",
      "source": [
        "train_data.shape"
      ],
      "metadata": {
        "id": "eOut260g1J86",
        "colab": {
          "base_uri": "https://localhost:8080/"
        },
        "outputId": "b1be088d-b238-493a-dc28-72901e8cf1d3"
      },
      "execution_count": 65,
      "outputs": [
        {
          "output_type": "execute_result",
          "data": {
            "text/plain": [
              "(404, 13)"
            ]
          },
          "metadata": {},
          "execution_count": 65
        }
      ]
    },
    {
      "cell_type": "code",
      "source": [
        "test_data.shape"
      ],
      "metadata": {
        "id": "-DhFBmJO1LCP",
        "colab": {
          "base_uri": "https://localhost:8080/"
        },
        "outputId": "d972d42d-e612-44ec-c2bf-568eb317cd6b"
      },
      "execution_count": 66,
      "outputs": [
        {
          "output_type": "execute_result",
          "data": {
            "text/plain": [
              "(102, 13)"
            ]
          },
          "metadata": {},
          "execution_count": 66
        }
      ]
    },
    {
      "cell_type": "code",
      "source": [
        "train_targets"
      ],
      "metadata": {
        "id": "sSPJWl6j1Mn4",
        "colab": {
          "base_uri": "https://localhost:8080/"
        },
        "outputId": "b36839b9-1202-4e00-af32-c2445bc7e2bf"
      },
      "execution_count": 67,
      "outputs": [
        {
          "output_type": "execute_result",
          "data": {
            "text/plain": [
              "array([15.2, 42.3, 50. , 21.1, 17.7, 18.5, 11.3, 15.6, 15.6, 14.4, 12.1,\n",
              "       17.9, 23.1, 19.9, 15.7,  8.8, 50. , 22.5, 24.1, 27.5, 10.9, 30.8,\n",
              "       32.9, 24. , 18.5, 13.3, 22.9, 34.7, 16.6, 17.5, 22.3, 16.1, 14.9,\n",
              "       23.1, 34.9, 25. , 13.9, 13.1, 20.4, 20. , 15.2, 24.7, 22.2, 16.7,\n",
              "       12.7, 15.6, 18.4, 21. , 30.1, 15.1, 18.7,  9.6, 31.5, 24.8, 19.1,\n",
              "       22. , 14.5, 11. , 32. , 29.4, 20.3, 24.4, 14.6, 19.5, 14.1, 14.3,\n",
              "       15.6, 10.5,  6.3, 19.3, 19.3, 13.4, 36.4, 17.8, 13.5, 16.5,  8.3,\n",
              "       14.3, 16. , 13.4, 28.6, 43.5, 20.2, 22. , 23. , 20.7, 12.5, 48.5,\n",
              "       14.6, 13.4, 23.7, 50. , 21.7, 39.8, 38.7, 22.2, 34.9, 22.5, 31.1,\n",
              "       28.7, 46. , 41.7, 21. , 26.6, 15. , 24.4, 13.3, 21.2, 11.7, 21.7,\n",
              "       19.4, 50. , 22.8, 19.7, 24.7, 36.2, 14.2, 18.9, 18.3, 20.6, 24.6,\n",
              "       18.2,  8.7, 44. , 10.4, 13.2, 21.2, 37. , 30.7, 22.9, 20. , 19.3,\n",
              "       31.7, 32. , 23.1, 18.8, 10.9, 50. , 19.6,  5. , 14.4, 19.8, 13.8,\n",
              "       19.6, 23.9, 24.5, 25. , 19.9, 17.2, 24.6, 13.5, 26.6, 21.4, 11.9,\n",
              "       22.6, 19.6,  8.5, 23.7, 23.1, 22.4, 20.5, 23.6, 18.4, 35.2, 23.1,\n",
              "       27.9, 20.6, 23.7, 28. , 13.6, 27.1, 23.6, 20.6, 18.2, 21.7, 17.1,\n",
              "        8.4, 25.3, 13.8, 22.2, 18.4, 20.7, 31.6, 30.5, 20.3,  8.8, 19.2,\n",
              "       19.4, 23.1, 23. , 14.8, 48.8, 22.6, 33.4, 21.1, 13.6, 32.2, 13.1,\n",
              "       23.4, 18.9, 23.9, 11.8, 23.3, 22.8, 19.6, 16.7, 13.4, 22.2, 20.4,\n",
              "       21.8, 26.4, 14.9, 24.1, 23.8, 12.3, 29.1, 21. , 19.5, 23.3, 23.8,\n",
              "       17.8, 11.5, 21.7, 19.9, 25. , 33.4, 28.5, 21.4, 24.3, 27.5, 33.1,\n",
              "       16.2, 23.3, 48.3, 22.9, 22.8, 13.1, 12.7, 22.6, 15. , 15.3, 10.5,\n",
              "       24. , 18.5, 21.7, 19.5, 33.2, 23.2,  5. , 19.1, 12.7, 22.3, 10.2,\n",
              "       13.9, 16.3, 17. , 20.1, 29.9, 17.2, 37.3, 45.4, 17.8, 23.2, 29. ,\n",
              "       22. , 18. , 17.4, 34.6, 20.1, 25. , 15.6, 24.8, 28.2, 21.2, 21.4,\n",
              "       23.8, 31. , 26.2, 17.4, 37.9, 17.5, 20. ,  8.3, 23.9,  8.4, 13.8,\n",
              "        7.2, 11.7, 17.1, 21.6, 50. , 16.1, 20.4, 20.6, 21.4, 20.6, 36.5,\n",
              "        8.5, 24.8, 10.8, 21.9, 17.3, 18.9, 36.2, 14.9, 18.2, 33.3, 21.8,\n",
              "       19.7, 31.6, 24.8, 19.4, 22.8,  7.5, 44.8, 16.8, 18.7, 50. , 50. ,\n",
              "       19.5, 20.1, 50. , 17.2, 20.8, 19.3, 41.3, 20.4, 20.5, 13.8, 16.5,\n",
              "       23.9, 20.6, 31.5, 23.3, 16.8, 14. , 33.8, 36.1, 12.8, 18.3, 18.7,\n",
              "       19.1, 29. , 30.1, 50. , 50. , 22. , 11.9, 37.6, 50. , 22.7, 20.8,\n",
              "       23.5, 27.9, 50. , 19.3, 23.9, 22.6, 15.2, 21.7, 19.2, 43.8, 20.3,\n",
              "       33.2, 19.9, 22.5, 32.7, 22. , 17.1, 19. , 15. , 16.1, 25.1, 23.7,\n",
              "       28.7, 37.2, 22.6, 16.4, 25. , 29.8, 22.1, 17.4, 18.1, 30.3, 17.5,\n",
              "       24.7, 12.6, 26.5, 28.7, 13.3, 10.4, 24.4, 23. , 20. , 17.8,  7. ,\n",
              "       11.8, 24.4, 13.8, 19.4, 25.2, 19.4, 19.4, 29.1])"
            ]
          },
          "metadata": {},
          "execution_count": 67
        }
      ]
    },
    {
      "cell_type": "markdown",
      "source": [
        "## 準備資料\n",
        "\n",
        "### 對資料進行正規化(normalization)\n",
        "### 對每個特徵值減去平均值並減去標準差，簡化問題"
      ],
      "metadata": {
        "id": "ZPy0ZGEG1PBs"
      }
    },
    {
      "cell_type": "code",
      "source": [
        "mean = train_data.mean(axis=0)\n",
        "train_data -= mean\n",
        "std = train_data.std(axis=0)\n",
        "train_data /= std\n",
        "test_data -= mean\n",
        "test_data /= std "
      ],
      "metadata": {
        "id": "YEtV00Iv1Yo1"
      },
      "execution_count": 68,
      "outputs": []
    },
    {
      "cell_type": "markdown",
      "source": [
        "## 建立神經網路\n",
        "\n",
        "### 以單一unit結束且沒有啟動函數(代表將是線性層)"
      ],
      "metadata": {
        "id": "9Ov4dg231ao2"
      }
    },
    {
      "cell_type": "code",
      "source": [
        "from keras import models\n",
        "from keras import layers\n",
        "\n",
        "def build_model():\n",
        "    model = models.Sequential()\n",
        "    model.add(layers.Dense(64,activation='relu',input_shape=(train_data.shape[1],)))\n",
        "    model.add(layers.Dense(64,activation='relu'))\n",
        "    model.add(layers.Dense(1))\n",
        "    model.compile(optimizer='rmsprop',loss='mse',metrics=['mae'])\n",
        "    return model"
      ],
      "metadata": {
        "id": "TpGeEWrb1n6g"
      },
      "execution_count": 69,
      "outputs": []
    },
    {
      "cell_type": "markdown",
      "source": [
        "## K-fold cross validation(K折交叉驗證)：驗證模型的成效\n",
        "\n",
        "### 將可用資料拆分成K個區塊，保持模型不變的情況下：\n",
        "### 選一個區塊作為驗證集，而其餘區做當作訓練集\n",
        "### 使資料集太小、變異性增大的缺點平均掉"
      ],
      "metadata": {
        "id": "IfPxQ3ps1o2F"
      }
    },
    {
      "cell_type": "code",
      "source": [
        "import numpy as np\n",
        "import os\n",
        "os.environ['TF_CPP_MIN_LOG_LEVEL'] = '3'  #關掉TensorFlow的警告\n",
        "\n",
        "k=4 # 進行4折交叉驗證\n",
        "num_val_samples = len(train_data)//k\n",
        "num_epochs=100\n",
        "all_scores=[]\n",
        "\n",
        "for i in range(k):\n",
        "    print(\"process fold #\",i)\n",
        "    # 準備驗證資料，來自#k區塊\n",
        "    val_data = train_data[i*num_val_samples:(i+1)*num_val_samples]\n",
        "    val_targets = train_targets[i*num_val_samples:(i+1)*num_val_samples]\n",
        "\n",
        "    # 準備訓練資料，來自#k以外的區塊\n",
        "    partical_train_data = np.concatenate([train_data[:i*num_val_samples],train_data[(i+1)*num_val_samples:]],axis=0)\n",
        "    partical_train_targets = np.concatenate([train_targets[:i*num_val_samples],train_targets[(i+1)*num_val_samples:]],axis=0)  \n",
        "\n",
        "    model = build_model()\n",
        "    model.fit(partical_train_data,partical_train_targets,epochs=num_epochs,batch_size=16,verbose=0)\n",
        "\n",
        "    val_mse,val_mae = model.evaluate(val_data,val_targets,verbose=0)\n",
        "    all_scores.append(val_mae)"
      ],
      "metadata": {
        "id": "00j0iDu413Ip",
        "colab": {
          "base_uri": "https://localhost:8080/"
        },
        "outputId": "ac0b8e9f-8660-4503-a164-8426d97b90f1"
      },
      "execution_count": 75,
      "outputs": [
        {
          "output_type": "stream",
          "name": "stdout",
          "text": [
            "process fold # 0\n",
            "process fold # 1\n",
            "process fold # 2\n",
            "process fold # 3\n"
          ]
        }
      ]
    },
    {
      "cell_type": "code",
      "source": [
        "all_scores"
      ],
      "metadata": {
        "id": "jg8PAAX-1-mX",
        "colab": {
          "base_uri": "https://localhost:8080/"
        },
        "outputId": "a466e705-15e9-4d87-94c5-7b185aa6ebfd"
      },
      "execution_count": 76,
      "outputs": [
        {
          "output_type": "execute_result",
          "data": {
            "text/plain": [
              "[1.8477344512939453, 2.417775869369507, 2.4639739990234375, 2.420783758163452]"
            ]
          },
          "metadata": {},
          "execution_count": 76
        }
      ]
    },
    {
      "cell_type": "code",
      "source": [
        "np.mean(all_scores)"
      ],
      "metadata": {
        "id": "mPdViURp1_sa",
        "colab": {
          "base_uri": "https://localhost:8080/"
        },
        "outputId": "d18ad478-fc6a-4d35-bc21-eeca259b7b2c"
      },
      "execution_count": 77,
      "outputs": [
        {
          "output_type": "execute_result",
          "data": {
            "text/plain": [
              "2.2875670194625854"
            ]
          },
          "metadata": {},
          "execution_count": 77
        }
      ]
    },
    {
      "cell_type": "markdown",
      "source": [
        "## 嘗試500 epochs來訓練"
      ],
      "metadata": {
        "id": "_h3IRhzS2IZm"
      }
    },
    {
      "cell_type": "code",
      "source": [
        "import numpy as np\n",
        "import os\n",
        "os.environ['TF_CPP_MIN_LOG_LEVEL'] = '3'  #關掉TensorFlow的警告\n",
        "\n",
        "k=4 # 進行4折交叉驗證\n",
        "num_val_samples = len(train_data)//k\n",
        "num_epochs=500\n",
        "all_mae_history=[]\n",
        "\n",
        "for i in range(k):\n",
        "    print(\"process fold #\",i)\n",
        "    # 準備驗證資料，來自#k區塊\n",
        "    val_data = train_data[i*num_val_samples:(i+1)*num_val_samples]\n",
        "    val_targets = train_targets[i*num_val_samples:(i+1)*num_val_samples]\n",
        "\n",
        "    # 準備訓練資料，來自#k以外的區塊\n",
        "    partical_train_data = np.concatenate([train_data[:i*num_val_samples],train_data[(i+1)*num_val_samples:]],axis=0)\n",
        "    partical_train_targets = np.concatenate([train_targets[:i*num_val_samples],train_targets[(i+1)*num_val_samples:]],axis=0)  \n",
        "\n",
        "    model = build_model()\n",
        "    history = model.fit(partical_train_data,partical_train_targets,validation_data=(val_data,val_targets),epochs=num_epochs,batch_size=16,verbose=0)\n",
        "    mae_history = history.history['val_mae']\n",
        "    all_mae_history.append(mae_history)"
      ],
      "metadata": {
        "id": "a2Dn2Vgx2JUy",
        "colab": {
          "base_uri": "https://localhost:8080/"
        },
        "outputId": "15a8b5a6-aa23-4c8d-be8f-1d6f4e0b9a81"
      },
      "execution_count": 78,
      "outputs": [
        {
          "output_type": "stream",
          "name": "stdout",
          "text": [
            "process fold # 0\n",
            "process fold # 1\n",
            "process fold # 2\n",
            "process fold # 3\n"
          ]
        }
      ]
    },
    {
      "cell_type": "markdown",
      "source": [
        "## 建立平均K折驗證分數的歷史"
      ],
      "metadata": {
        "id": "zpoChhiS2MH0"
      }
    },
    {
      "cell_type": "code",
      "source": [
        "average_mae_history = [np.mean([x[i] for x in all_mae_history]) for i in range(num_epochs)]"
      ],
      "metadata": {
        "id": "0HZep1qR2PVq"
      },
      "execution_count": 79,
      "outputs": []
    },
    {
      "cell_type": "markdown",
      "source": [
        "## 繪製驗證分數"
      ],
      "metadata": {
        "id": "PgiXp2aW2zFf"
      }
    },
    {
      "cell_type": "code",
      "source": [
        "plt.plot(range(1, len(average_mae_history) + 1), average_mae_history)\n",
        "plt.xlabel(\"Epochs\")\n",
        "plt.ylabel(\"Validation MAE\")\n",
        "plt.show()"
      ],
      "metadata": {
        "id": "lfsGuwIJ21Qi",
        "colab": {
          "base_uri": "https://localhost:8080/",
          "height": 279
        },
        "outputId": "99bff7f4-b462-46da-add3-f8b0ff3e1c2a"
      },
      "execution_count": 80,
      "outputs": [
        {
          "output_type": "display_data",
          "data": {
            "text/plain": [
              "<Figure size 432x288 with 1 Axes>"
            ],
            "image/png": "[encoded data removed]"
          },
          "metadata": {
            "needs_background": "light"
          }
        }
      ]
    },
    {
      "cell_type": "markdown",
      "source": [
        "## 指數平均移動值\n",
        "\n",
        "### 使現在的資料會被過去的資料所影響\n",
        "### 時間點越近的資料影響越大，越遠則越小"
      ],
      "metadata": {
        "id": "n91GxE-A29hs"
      }
    },
    {
      "cell_type": "code",
      "source": [
        "def smooth_curve(points,factor=0.9):\n",
        "    smoothed_points=[]\n",
        "    for point in points:\n",
        "        if smoothed_points:\n",
        "            previous=smoothed_points[-1]\n",
        "            smoothed_points.append(previous*factor+point*(1-factor))\n",
        "        else:\n",
        "            smoothed_points.append(point)\n",
        "    return smoothed_points"
      ],
      "metadata": {
        "id": "bvP_KTTj3O1j"
      },
      "execution_count": 81,
      "outputs": []
    },
    {
      "cell_type": "markdown",
      "source": [
        "## 省略前10個資料點，並套用指數移動平均值"
      ],
      "metadata": {
        "id": "kUuMxmRL3QG8"
      }
    },
    {
      "cell_type": "code",
      "source": [
        "smooth_mae_history = smooth_curve(average_mae_history[10:])"
      ],
      "metadata": {
        "id": "BQTMWWNh3SJx"
      },
      "execution_count": 82,
      "outputs": []
    },
    {
      "cell_type": "markdown",
      "source": [
        "每個訓練週期的驗證分數MAE，不包括前10個資料點"
      ],
      "metadata": {
        "id": "X8D5jgle3VSZ"
      }
    },
    {
      "cell_type": "code",
      "source": [
        "plt.plot(range(1,len(smooth_mae_history)+1),smooth_mae_history)\n",
        "plt.xlabel('Epochs')\n",
        "plt.ylabel('Validation MAE')\n",
        "plt.show()"
      ],
      "metadata": {
        "id": "rYdw0N6_3V5v",
        "colab": {
          "base_uri": "https://localhost:8080/",
          "height": 279
        },
        "outputId": "52a6153d-3726-4b3c-a501-a225958cfe94"
      },
      "execution_count": 83,
      "outputs": [
        {
          "output_type": "display_data",
          "data": {
            "text/plain": [
              "<Figure size 432x288 with 1 Axes>"
            ],
            "image/png": "[encoded data removed]"
          },
          "metadata": {
            "needs_background": "light"
          }
        }
      ]
    },
    {
      "cell_type": "markdown",
      "source": [
        "## 訓練最終模型"
      ],
      "metadata": {
        "id": "kZrlmXdg3Z7J"
      }
    },
    {
      "cell_type": "code",
      "source": [
        "model = build_model()\n",
        "model.fit(train_data,train_targets,epochs=80,batch_size=16,verbose=0)\n",
        "\n",
        "test_mse_score,test_mae_score = model.evaluate(test_data,test_targets)"
      ],
      "metadata": {
        "id": "ik5hwSXt3alB",
        "colab": {
          "base_uri": "https://localhost:8080/"
        },
        "outputId": "47ce8f95-801b-46b1-839f-6a1461932715"
      },
      "execution_count": 84,
      "outputs": [
        {
          "output_type": "stream",
          "name": "stdout",
          "text": [
            "4/4 [==============================] - 0s 4ms/step - loss: 18.5227 - mae: 2.6242\n"
          ]
        }
      ]
    },
    {
      "cell_type": "code",
      "source": [
        "test_mae_score"
      ],
      "metadata": {
        "id": "Us3JjyHD3hx0",
        "colab": {
          "base_uri": "https://localhost:8080/"
        },
        "outputId": "d66aa5d9-0195-4417-f098-4b833463ce41"
      },
      "execution_count": 85,
      "outputs": [
        {
          "output_type": "execute_result",
          "data": {
            "text/plain": [
              "2.624174118041992"
            ]
          },
          "metadata": {},
          "execution_count": 85
        }
      ]
    },
    {
      "cell_type": "markdown",
      "source": [
        "## 仍有$2,600美元左右的誤差"
      ],
      "metadata": {
        "id": "CAK6KvSX3oo2"
      }
    },
    {
      "cell_type": "markdown",
      "source": [
        "## Generating predictions on new data"
      ],
      "metadata": {
        "id": "y7cgOKsYNJfL"
      }
    },
    {
      "cell_type": "code",
      "source": [
        "predictions = model.predict(test_data)\n",
        "predictions[0]"
      ],
      "metadata": {
        "colab": {
          "base_uri": "https://localhost:8080/"
        },
        "id": "DAbE8XTgNMtv",
        "outputId": "e42c4a7d-62d7-4a28-b76c-57f1749fa9aa"
      },
      "execution_count": 86,
      "outputs": [
        {
          "output_type": "execute_result",
          "data": {
            "text/plain": [
              "array([8.497586], dtype=float32)"
            ]
          },
          "metadata": {},
          "execution_count": 86
        }
      ]
    }
  ]
}